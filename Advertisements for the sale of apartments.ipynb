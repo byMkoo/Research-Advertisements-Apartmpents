{
 "cells": [
  {
   "cell_type": "markdown",
   "metadata": {},
   "source": [
    "# Исследование объявлений о продаже квартир\n",
    "\n",
    "В нашем распоряжении данные сервиса Яндекс.Недвижимость — архив объявлений о продаже квартир в Санкт-Петербурге и соседних населённых пунктов за несколько лет. Нужно научиться определять рыночную стоимость объектов недвижимости. Ваша задача — установить параметры. Это позволит построить автоматизированную систему: она отследит аномалии и мошенническую деятельность. \n",
    "\n",
    "По каждой квартире на продажу доступны два вида данных. Первые вписаны пользователем, вторые — получены автоматически на основе картографических данных. Например, расстояние до центра, аэропорта, ближайшего парка и водоёма. "
   ]
  },
  {
   "cell_type": "markdown",
   "metadata": {},
   "source": [
    "**Описание данных**\n",
    "\n",
    "- `airports_nearest` — расстояние до ближайшего аэропорта в метрах (м)\n",
    "- `balcony` — число балконов\n",
    "- `ceiling_height` — высота потолков (м)\n",
    "- `cityCenters_nearest` — расстояние до центра города (м)\n",
    "- `days_exposition` — сколько дней было размещено объявление (от публикации до снятия)\n",
    "- `first_day_exposition` — дата публикации\n",
    "- `floor` — этаж\n",
    "- `floors_total` — всего этажей в доме\n",
    "- `is_apartment` — апартаменты (булев тип)\n",
    "- `kitchen_area` — площадь кухни в квадратных метрах (м²)\n",
    "- `last_price` — цена на момент снятия с публикации\n",
    "- `living_area` — жилая площадь в квадратных метрах (м²)\n",
    "- `locality_name` — название населённого пункта\n",
    "- `open_plan` — свободная планировка (булев тип)\n",
    "- `parks_around3000` — число парков в радиусе 3 км\n",
    "- `parks_nearest` — расстояние до ближайшего парка (м)\n",
    "- `ponds_around3000` — число водоёмов в радиусе 3 км\n",
    "- `ponds_nearest` — расстояние до ближайшего водоёма (м)\n",
    "- `rooms` — число комнат\n",
    "- `studio` — квартира-студия (булев тип)\n",
    "- `total_area` — общая площадь квартиры в квадратных метрах (м²)\n",
    "- `total_images` — число фотографий квартиры в объявлении\n",
    "\n",
    "**План и цели иследования**\n",
    "\n",
    "- **Шаг 1.** Откроем файл с данными и изучим общую информацию\n",
    "- **Шаг 2.** Предобработка данных\n",
    "- **Шаг 3.** Добавим в таблицу новые столбцы со следующими параметрами:\n",
    "- **Шаг 4.** Проведем исследовательский анализ данных:\n",
    "- **Шаг 5.** Напишим общий вывод. Опишем полученные результаты и зафиксируем основной вывод проведённого исследования."
   ]
  },
  {
   "cell_type": "markdown",
   "metadata": {},
   "source": [
    "### Откройте файл с данными и изучите общую информацию. "
   ]
  },
  {
   "cell_type": "code",
   "execution_count": 1,
   "metadata": {},
   "outputs": [],
   "source": [
    "# Импорт библиотек\n",
    "import pandas as pd\n",
    "import matplotlib.pyplot as plt \n",
    "import seaborn as sbn\n",
    "import warnings\n",
    "\n",
    "warnings.filterwarnings('ignore')"
   ]
  },
  {
   "cell_type": "code",
   "execution_count": 2,
   "metadata": {},
   "outputs": [
    {
     "name": "stdout",
     "output_type": "stream",
     "text": [
      "<class 'pandas.core.frame.DataFrame'>\n",
      "RangeIndex: 23699 entries, 0 to 23698\n",
      "Data columns (total 22 columns):\n",
      " #   Column                Non-Null Count  Dtype  \n",
      "---  ------                --------------  -----  \n",
      " 0   total_images          23699 non-null  int64  \n",
      " 1   last_price            23699 non-null  float64\n",
      " 2   total_area            23699 non-null  float64\n",
      " 3   first_day_exposition  23699 non-null  object \n",
      " 4   rooms                 23699 non-null  int64  \n",
      " 5   ceiling_height        14504 non-null  float64\n",
      " 6   floors_total          23613 non-null  float64\n",
      " 7   living_area           21796 non-null  float64\n",
      " 8   floor                 23699 non-null  int64  \n",
      " 9   is_apartment          2775 non-null   object \n",
      " 10  studio                23699 non-null  bool   \n",
      " 11  open_plan             23699 non-null  bool   \n",
      " 12  kitchen_area          21421 non-null  float64\n",
      " 13  balcony               12180 non-null  float64\n",
      " 14  locality_name         23650 non-null  object \n",
      " 15  airports_nearest      18157 non-null  float64\n",
      " 16  cityCenters_nearest   18180 non-null  float64\n",
      " 17  parks_around3000      18181 non-null  float64\n",
      " 18  parks_nearest         8079 non-null   float64\n",
      " 19  ponds_around3000      18181 non-null  float64\n",
      " 20  ponds_nearest         9110 non-null   float64\n",
      " 21  days_exposition       20518 non-null  float64\n",
      "dtypes: bool(2), float64(14), int64(3), object(3)\n",
      "memory usage: 3.7+ MB\n"
     ]
    }
   ],
   "source": [
    "try:\n",
    "    data = pd.read_csv('real_estate_data.csv', sep='\\t') # Открываем датасет с разделитем \n",
    "except:\n",
    "    data = pd.read_csv('https://code.s3.yandex.net/datasets/real_estate_data.csv', sep='\\t')\n",
    "    \n",
    "data.info()"
   ]
  },
  {
   "cell_type": "code",
   "execution_count": 3,
   "metadata": {},
   "outputs": [
    {
     "data": {
      "text/html": [
       "<div>\n",
       "<style scoped>\n",
       "    .dataframe tbody tr th:only-of-type {\n",
       "        vertical-align: middle;\n",
       "    }\n",
       "\n",
       "    .dataframe tbody tr th {\n",
       "        vertical-align: top;\n",
       "    }\n",
       "\n",
       "    .dataframe thead th {\n",
       "        text-align: right;\n",
       "    }\n",
       "</style>\n",
       "<table border=\"1\" class=\"dataframe\">\n",
       "  <thead>\n",
       "    <tr style=\"text-align: right;\">\n",
       "      <th></th>\n",
       "      <th>total_images</th>\n",
       "      <th>last_price</th>\n",
       "      <th>total_area</th>\n",
       "      <th>first_day_exposition</th>\n",
       "      <th>rooms</th>\n",
       "      <th>ceiling_height</th>\n",
       "      <th>floors_total</th>\n",
       "      <th>living_area</th>\n",
       "      <th>floor</th>\n",
       "      <th>is_apartment</th>\n",
       "      <th>...</th>\n",
       "      <th>kitchen_area</th>\n",
       "      <th>balcony</th>\n",
       "      <th>locality_name</th>\n",
       "      <th>airports_nearest</th>\n",
       "      <th>cityCenters_nearest</th>\n",
       "      <th>parks_around3000</th>\n",
       "      <th>parks_nearest</th>\n",
       "      <th>ponds_around3000</th>\n",
       "      <th>ponds_nearest</th>\n",
       "      <th>days_exposition</th>\n",
       "    </tr>\n",
       "  </thead>\n",
       "  <tbody>\n",
       "    <tr>\n",
       "      <th>0</th>\n",
       "      <td>20</td>\n",
       "      <td>13000000.0</td>\n",
       "      <td>108.0</td>\n",
       "      <td>2019-03-07T00:00:00</td>\n",
       "      <td>3</td>\n",
       "      <td>2.70</td>\n",
       "      <td>16.0</td>\n",
       "      <td>51.0</td>\n",
       "      <td>8</td>\n",
       "      <td>NaN</td>\n",
       "      <td>...</td>\n",
       "      <td>25.0</td>\n",
       "      <td>NaN</td>\n",
       "      <td>Санкт-Петербург</td>\n",
       "      <td>18863.0</td>\n",
       "      <td>16028.0</td>\n",
       "      <td>1.0</td>\n",
       "      <td>482.0</td>\n",
       "      <td>2.0</td>\n",
       "      <td>755.0</td>\n",
       "      <td>NaN</td>\n",
       "    </tr>\n",
       "    <tr>\n",
       "      <th>1</th>\n",
       "      <td>7</td>\n",
       "      <td>3350000.0</td>\n",
       "      <td>40.4</td>\n",
       "      <td>2018-12-04T00:00:00</td>\n",
       "      <td>1</td>\n",
       "      <td>NaN</td>\n",
       "      <td>11.0</td>\n",
       "      <td>18.6</td>\n",
       "      <td>1</td>\n",
       "      <td>NaN</td>\n",
       "      <td>...</td>\n",
       "      <td>11.0</td>\n",
       "      <td>2.0</td>\n",
       "      <td>посёлок Шушары</td>\n",
       "      <td>12817.0</td>\n",
       "      <td>18603.0</td>\n",
       "      <td>0.0</td>\n",
       "      <td>NaN</td>\n",
       "      <td>0.0</td>\n",
       "      <td>NaN</td>\n",
       "      <td>81.0</td>\n",
       "    </tr>\n",
       "    <tr>\n",
       "      <th>2</th>\n",
       "      <td>10</td>\n",
       "      <td>5196000.0</td>\n",
       "      <td>56.0</td>\n",
       "      <td>2015-08-20T00:00:00</td>\n",
       "      <td>2</td>\n",
       "      <td>NaN</td>\n",
       "      <td>5.0</td>\n",
       "      <td>34.3</td>\n",
       "      <td>4</td>\n",
       "      <td>NaN</td>\n",
       "      <td>...</td>\n",
       "      <td>8.3</td>\n",
       "      <td>0.0</td>\n",
       "      <td>Санкт-Петербург</td>\n",
       "      <td>21741.0</td>\n",
       "      <td>13933.0</td>\n",
       "      <td>1.0</td>\n",
       "      <td>90.0</td>\n",
       "      <td>2.0</td>\n",
       "      <td>574.0</td>\n",
       "      <td>558.0</td>\n",
       "    </tr>\n",
       "    <tr>\n",
       "      <th>3</th>\n",
       "      <td>0</td>\n",
       "      <td>64900000.0</td>\n",
       "      <td>159.0</td>\n",
       "      <td>2015-07-24T00:00:00</td>\n",
       "      <td>3</td>\n",
       "      <td>NaN</td>\n",
       "      <td>14.0</td>\n",
       "      <td>NaN</td>\n",
       "      <td>9</td>\n",
       "      <td>NaN</td>\n",
       "      <td>...</td>\n",
       "      <td>NaN</td>\n",
       "      <td>0.0</td>\n",
       "      <td>Санкт-Петербург</td>\n",
       "      <td>28098.0</td>\n",
       "      <td>6800.0</td>\n",
       "      <td>2.0</td>\n",
       "      <td>84.0</td>\n",
       "      <td>3.0</td>\n",
       "      <td>234.0</td>\n",
       "      <td>424.0</td>\n",
       "    </tr>\n",
       "    <tr>\n",
       "      <th>4</th>\n",
       "      <td>2</td>\n",
       "      <td>10000000.0</td>\n",
       "      <td>100.0</td>\n",
       "      <td>2018-06-19T00:00:00</td>\n",
       "      <td>2</td>\n",
       "      <td>3.03</td>\n",
       "      <td>14.0</td>\n",
       "      <td>32.0</td>\n",
       "      <td>13</td>\n",
       "      <td>NaN</td>\n",
       "      <td>...</td>\n",
       "      <td>41.0</td>\n",
       "      <td>NaN</td>\n",
       "      <td>Санкт-Петербург</td>\n",
       "      <td>31856.0</td>\n",
       "      <td>8098.0</td>\n",
       "      <td>2.0</td>\n",
       "      <td>112.0</td>\n",
       "      <td>1.0</td>\n",
       "      <td>48.0</td>\n",
       "      <td>121.0</td>\n",
       "    </tr>\n",
       "  </tbody>\n",
       "</table>\n",
       "<p>5 rows × 22 columns</p>\n",
       "</div>"
      ],
      "text/plain": [
       "   total_images  last_price  total_area first_day_exposition  rooms  \\\n",
       "0            20  13000000.0       108.0  2019-03-07T00:00:00      3   \n",
       "1             7   3350000.0        40.4  2018-12-04T00:00:00      1   \n",
       "2            10   5196000.0        56.0  2015-08-20T00:00:00      2   \n",
       "3             0  64900000.0       159.0  2015-07-24T00:00:00      3   \n",
       "4             2  10000000.0       100.0  2018-06-19T00:00:00      2   \n",
       "\n",
       "   ceiling_height  floors_total  living_area  floor is_apartment  ...  \\\n",
       "0            2.70          16.0         51.0      8          NaN  ...   \n",
       "1             NaN          11.0         18.6      1          NaN  ...   \n",
       "2             NaN           5.0         34.3      4          NaN  ...   \n",
       "3             NaN          14.0          NaN      9          NaN  ...   \n",
       "4            3.03          14.0         32.0     13          NaN  ...   \n",
       "\n",
       "   kitchen_area  balcony    locality_name  airports_nearest  \\\n",
       "0          25.0      NaN  Санкт-Петербург           18863.0   \n",
       "1          11.0      2.0   посёлок Шушары           12817.0   \n",
       "2           8.3      0.0  Санкт-Петербург           21741.0   \n",
       "3           NaN      0.0  Санкт-Петербург           28098.0   \n",
       "4          41.0      NaN  Санкт-Петербург           31856.0   \n",
       "\n",
       "  cityCenters_nearest  parks_around3000  parks_nearest  ponds_around3000  \\\n",
       "0             16028.0               1.0          482.0               2.0   \n",
       "1             18603.0               0.0            NaN               0.0   \n",
       "2             13933.0               1.0           90.0               2.0   \n",
       "3              6800.0               2.0           84.0               3.0   \n",
       "4              8098.0               2.0          112.0               1.0   \n",
       "\n",
       "   ponds_nearest  days_exposition  \n",
       "0          755.0              NaN  \n",
       "1            NaN             81.0  \n",
       "2          574.0            558.0  \n",
       "3          234.0            424.0  \n",
       "4           48.0            121.0  \n",
       "\n",
       "[5 rows x 22 columns]"
      ]
     },
     "execution_count": 3,
     "metadata": {},
     "output_type": "execute_result"
    }
   ],
   "source": [
    "data.head()"
   ]
  },
  {
   "cell_type": "code",
   "execution_count": 4,
   "metadata": {
    "scrolled": true
   },
   "outputs": [
    {
     "data": {
      "image/png": "[encoded data removed]",
      "text/plain": [
       "<Figure size 1080x1440 with 20 Axes>"
      ]
     },
     "metadata": {
      "needs_background": "light"
     },
     "output_type": "display_data"
    }
   ],
   "source": [
    "data.hist(figsize=(15, 20));\n"
   ]
  },
  {
   "cell_type": "markdown",
   "metadata": {},
   "source": [
    "### Предобработка данных"
   ]
  },
  {
   "cell_type": "code",
   "execution_count": 5,
   "metadata": {},
   "outputs": [
    {
     "data": {
      "text/html": [
       "<div>\n",
       "<style scoped>\n",
       "    .dataframe tbody tr th:only-of-type {\n",
       "        vertical-align: middle;\n",
       "    }\n",
       "\n",
       "    .dataframe tbody tr th {\n",
       "        vertical-align: top;\n",
       "    }\n",
       "\n",
       "    .dataframe thead th {\n",
       "        text-align: right;\n",
       "    }\n",
       "</style>\n",
       "<table border=\"1\" class=\"dataframe\">\n",
       "  <thead>\n",
       "    <tr style=\"text-align: right;\">\n",
       "      <th></th>\n",
       "      <th>total_images</th>\n",
       "      <th>last_price</th>\n",
       "      <th>total_area</th>\n",
       "      <th>rooms</th>\n",
       "      <th>ceiling_height</th>\n",
       "      <th>floors_total</th>\n",
       "      <th>living_area</th>\n",
       "      <th>floor</th>\n",
       "      <th>kitchen_area</th>\n",
       "      <th>balcony</th>\n",
       "      <th>airports_nearest</th>\n",
       "      <th>cityCenters_nearest</th>\n",
       "      <th>parks_around3000</th>\n",
       "      <th>parks_nearest</th>\n",
       "      <th>ponds_around3000</th>\n",
       "      <th>ponds_nearest</th>\n",
       "      <th>days_exposition</th>\n",
       "    </tr>\n",
       "  </thead>\n",
       "  <tbody>\n",
       "    <tr>\n",
       "      <th>count</th>\n",
       "      <td>23699.000000</td>\n",
       "      <td>2.369900e+04</td>\n",
       "      <td>23699.000000</td>\n",
       "      <td>23699.000000</td>\n",
       "      <td>14504.000000</td>\n",
       "      <td>23613.000000</td>\n",
       "      <td>21796.000000</td>\n",
       "      <td>23699.000000</td>\n",
       "      <td>21421.000000</td>\n",
       "      <td>12180.000000</td>\n",
       "      <td>18157.000000</td>\n",
       "      <td>18180.000000</td>\n",
       "      <td>18181.000000</td>\n",
       "      <td>8079.000000</td>\n",
       "      <td>18181.000000</td>\n",
       "      <td>9110.000000</td>\n",
       "      <td>20518.000000</td>\n",
       "    </tr>\n",
       "    <tr>\n",
       "      <th>mean</th>\n",
       "      <td>9.858475</td>\n",
       "      <td>6.541549e+06</td>\n",
       "      <td>60.348651</td>\n",
       "      <td>2.070636</td>\n",
       "      <td>2.771499</td>\n",
       "      <td>10.673824</td>\n",
       "      <td>34.457852</td>\n",
       "      <td>5.892358</td>\n",
       "      <td>10.569807</td>\n",
       "      <td>1.150082</td>\n",
       "      <td>28793.672193</td>\n",
       "      <td>14191.277833</td>\n",
       "      <td>0.611408</td>\n",
       "      <td>490.804555</td>\n",
       "      <td>0.770255</td>\n",
       "      <td>517.980900</td>\n",
       "      <td>180.888634</td>\n",
       "    </tr>\n",
       "    <tr>\n",
       "      <th>std</th>\n",
       "      <td>5.682529</td>\n",
       "      <td>1.088701e+07</td>\n",
       "      <td>35.654083</td>\n",
       "      <td>1.078405</td>\n",
       "      <td>1.261056</td>\n",
       "      <td>6.597173</td>\n",
       "      <td>22.030445</td>\n",
       "      <td>4.885249</td>\n",
       "      <td>5.905438</td>\n",
       "      <td>1.071300</td>\n",
       "      <td>12630.880622</td>\n",
       "      <td>8608.386210</td>\n",
       "      <td>0.802074</td>\n",
       "      <td>342.317995</td>\n",
       "      <td>0.938346</td>\n",
       "      <td>277.720643</td>\n",
       "      <td>219.727988</td>\n",
       "    </tr>\n",
       "    <tr>\n",
       "      <th>min</th>\n",
       "      <td>0.000000</td>\n",
       "      <td>1.219000e+04</td>\n",
       "      <td>12.000000</td>\n",
       "      <td>0.000000</td>\n",
       "      <td>1.000000</td>\n",
       "      <td>1.000000</td>\n",
       "      <td>2.000000</td>\n",
       "      <td>1.000000</td>\n",
       "      <td>1.300000</td>\n",
       "      <td>0.000000</td>\n",
       "      <td>0.000000</td>\n",
       "      <td>181.000000</td>\n",
       "      <td>0.000000</td>\n",
       "      <td>1.000000</td>\n",
       "      <td>0.000000</td>\n",
       "      <td>13.000000</td>\n",
       "      <td>1.000000</td>\n",
       "    </tr>\n",
       "    <tr>\n",
       "      <th>25%</th>\n",
       "      <td>6.000000</td>\n",
       "      <td>3.400000e+06</td>\n",
       "      <td>40.000000</td>\n",
       "      <td>1.000000</td>\n",
       "      <td>2.520000</td>\n",
       "      <td>5.000000</td>\n",
       "      <td>18.600000</td>\n",
       "      <td>2.000000</td>\n",
       "      <td>7.000000</td>\n",
       "      <td>0.000000</td>\n",
       "      <td>18585.000000</td>\n",
       "      <td>9238.000000</td>\n",
       "      <td>0.000000</td>\n",
       "      <td>288.000000</td>\n",
       "      <td>0.000000</td>\n",
       "      <td>294.000000</td>\n",
       "      <td>45.000000</td>\n",
       "    </tr>\n",
       "    <tr>\n",
       "      <th>50%</th>\n",
       "      <td>9.000000</td>\n",
       "      <td>4.650000e+06</td>\n",
       "      <td>52.000000</td>\n",
       "      <td>2.000000</td>\n",
       "      <td>2.650000</td>\n",
       "      <td>9.000000</td>\n",
       "      <td>30.000000</td>\n",
       "      <td>4.000000</td>\n",
       "      <td>9.100000</td>\n",
       "      <td>1.000000</td>\n",
       "      <td>26726.000000</td>\n",
       "      <td>13098.500000</td>\n",
       "      <td>0.000000</td>\n",
       "      <td>455.000000</td>\n",
       "      <td>1.000000</td>\n",
       "      <td>502.000000</td>\n",
       "      <td>95.000000</td>\n",
       "    </tr>\n",
       "    <tr>\n",
       "      <th>75%</th>\n",
       "      <td>14.000000</td>\n",
       "      <td>6.800000e+06</td>\n",
       "      <td>69.900000</td>\n",
       "      <td>3.000000</td>\n",
       "      <td>2.800000</td>\n",
       "      <td>16.000000</td>\n",
       "      <td>42.300000</td>\n",
       "      <td>8.000000</td>\n",
       "      <td>12.000000</td>\n",
       "      <td>2.000000</td>\n",
       "      <td>37273.000000</td>\n",
       "      <td>16293.000000</td>\n",
       "      <td>1.000000</td>\n",
       "      <td>612.000000</td>\n",
       "      <td>1.000000</td>\n",
       "      <td>729.000000</td>\n",
       "      <td>232.000000</td>\n",
       "    </tr>\n",
       "    <tr>\n",
       "      <th>max</th>\n",
       "      <td>50.000000</td>\n",
       "      <td>7.630000e+08</td>\n",
       "      <td>900.000000</td>\n",
       "      <td>19.000000</td>\n",
       "      <td>100.000000</td>\n",
       "      <td>60.000000</td>\n",
       "      <td>409.700000</td>\n",
       "      <td>33.000000</td>\n",
       "      <td>112.000000</td>\n",
       "      <td>5.000000</td>\n",
       "      <td>84869.000000</td>\n",
       "      <td>65968.000000</td>\n",
       "      <td>3.000000</td>\n",
       "      <td>3190.000000</td>\n",
       "      <td>3.000000</td>\n",
       "      <td>1344.000000</td>\n",
       "      <td>1580.000000</td>\n",
       "    </tr>\n",
       "  </tbody>\n",
       "</table>\n",
       "</div>"
      ],
      "text/plain": [
       "       total_images    last_price    total_area         rooms  ceiling_height  \\\n",
       "count  23699.000000  2.369900e+04  23699.000000  23699.000000    14504.000000   \n",
       "mean       9.858475  6.541549e+06     60.348651      2.070636        2.771499   \n",
       "std        5.682529  1.088701e+07     35.654083      1.078405        1.261056   \n",
       "min        0.000000  1.219000e+04     12.000000      0.000000        1.000000   \n",
       "25%        6.000000  3.400000e+06     40.000000      1.000000        2.520000   \n",
       "50%        9.000000  4.650000e+06     52.000000      2.000000        2.650000   \n",
       "75%       14.000000  6.800000e+06     69.900000      3.000000        2.800000   \n",
       "max       50.000000  7.630000e+08    900.000000     19.000000      100.000000   \n",
       "\n",
       "       floors_total   living_area         floor  kitchen_area       balcony  \\\n",
       "count  23613.000000  21796.000000  23699.000000  21421.000000  12180.000000   \n",
       "mean      10.673824     34.457852      5.892358     10.569807      1.150082   \n",
       "std        6.597173     22.030445      4.885249      5.905438      1.071300   \n",
       "min        1.000000      2.000000      1.000000      1.300000      0.000000   \n",
       "25%        5.000000     18.600000      2.000000      7.000000      0.000000   \n",
       "50%        9.000000     30.000000      4.000000      9.100000      1.000000   \n",
       "75%       16.000000     42.300000      8.000000     12.000000      2.000000   \n",
       "max       60.000000    409.700000     33.000000    112.000000      5.000000   \n",
       "\n",
       "       airports_nearest  cityCenters_nearest  parks_around3000  parks_nearest  \\\n",
       "count      18157.000000         18180.000000      18181.000000    8079.000000   \n",
       "mean       28793.672193         14191.277833          0.611408     490.804555   \n",
       "std        12630.880622          8608.386210          0.802074     342.317995   \n",
       "min            0.000000           181.000000          0.000000       1.000000   \n",
       "25%        18585.000000          9238.000000          0.000000     288.000000   \n",
       "50%        26726.000000         13098.500000          0.000000     455.000000   \n",
       "75%        37273.000000         16293.000000          1.000000     612.000000   \n",
       "max        84869.000000         65968.000000          3.000000    3190.000000   \n",
       "\n",
       "       ponds_around3000  ponds_nearest  days_exposition  \n",
       "count      18181.000000    9110.000000     20518.000000  \n",
       "mean           0.770255     517.980900       180.888634  \n",
       "std            0.938346     277.720643       219.727988  \n",
       "min            0.000000      13.000000         1.000000  \n",
       "25%            0.000000     294.000000        45.000000  \n",
       "50%            1.000000     502.000000        95.000000  \n",
       "75%            1.000000     729.000000       232.000000  \n",
       "max            3.000000    1344.000000      1580.000000  "
      ]
     },
     "execution_count": 5,
     "metadata": {},
     "output_type": "execute_result"
    }
   ],
   "source": [
    "data.describe()"
   ]
  },
  {
   "cell_type": "code",
   "execution_count": 6,
   "metadata": {},
   "outputs": [
    {
     "data": {
      "text/html": [
       "<style type=\"text/css\">\n",
       "#T_efa93_row0_col0, #T_efa93_row1_col0, #T_efa93_row2_col0, #T_efa93_row3_col0, #T_efa93_row4_col0, #T_efa93_row6_col0, #T_efa93_row8_col0, #T_efa93_row10_col0, #T_efa93_row11_col0, #T_efa93_row14_col0 {\n",
       "  background-color: #3b4cc0;\n",
       "  color: #f1f1f1;\n",
       "}\n",
       "#T_efa93_row5_col0 {\n",
       "  background-color: #cdd9ec;\n",
       "  color: #000000;\n",
       "}\n",
       "#T_efa93_row7_col0 {\n",
       "  background-color: #5673e0;\n",
       "  color: #f1f1f1;\n",
       "}\n",
       "#T_efa93_row9_col0 {\n",
       "  background-color: #b40426;\n",
       "  color: #f1f1f1;\n",
       "}\n",
       "#T_efa93_row12_col0 {\n",
       "  background-color: #5e7de7;\n",
       "  color: #f1f1f1;\n",
       "}\n",
       "#T_efa93_row13_col0 {\n",
       "  background-color: #ead4c8;\n",
       "  color: #000000;\n",
       "}\n",
       "#T_efa93_row15_col0, #T_efa93_row16_col0, #T_efa93_row17_col0, #T_efa93_row19_col0 {\n",
       "  background-color: #90b2fe;\n",
       "  color: #000000;\n",
       "}\n",
       "#T_efa93_row18_col0 {\n",
       "  background-color: #f4987a;\n",
       "  color: #000000;\n",
       "}\n",
       "#T_efa93_row20_col0 {\n",
       "  background-color: #f7aa8c;\n",
       "  color: #000000;\n",
       "}\n",
       "#T_efa93_row21_col0 {\n",
       "  background-color: #688aef;\n",
       "  color: #f1f1f1;\n",
       "}\n",
       "</style>\n",
       "<table id=\"T_efa93\">\n",
       "  <thead>\n",
       "    <tr>\n",
       "      <th class=\"blank level0\" >&nbsp;</th>\n",
       "      <th id=\"T_efa93_level0_col0\" class=\"col_heading level0 col0\" >0</th>\n",
       "    </tr>\n",
       "  </thead>\n",
       "  <tbody>\n",
       "    <tr>\n",
       "      <th id=\"T_efa93_level0_row0\" class=\"row_heading level0 row0\" >total_images</th>\n",
       "      <td id=\"T_efa93_row0_col0\" class=\"data row0 col0\" >0.000000</td>\n",
       "    </tr>\n",
       "    <tr>\n",
       "      <th id=\"T_efa93_level0_row1\" class=\"row_heading level0 row1\" >last_price</th>\n",
       "      <td id=\"T_efa93_row1_col0\" class=\"data row1 col0\" >0.000000</td>\n",
       "    </tr>\n",
       "    <tr>\n",
       "      <th id=\"T_efa93_level0_row2\" class=\"row_heading level0 row2\" >total_area</th>\n",
       "      <td id=\"T_efa93_row2_col0\" class=\"data row2 col0\" >0.000000</td>\n",
       "    </tr>\n",
       "    <tr>\n",
       "      <th id=\"T_efa93_level0_row3\" class=\"row_heading level0 row3\" >first_day_exposition</th>\n",
       "      <td id=\"T_efa93_row3_col0\" class=\"data row3 col0\" >0.000000</td>\n",
       "    </tr>\n",
       "    <tr>\n",
       "      <th id=\"T_efa93_level0_row4\" class=\"row_heading level0 row4\" >rooms</th>\n",
       "      <td id=\"T_efa93_row4_col0\" class=\"data row4 col0\" >0.000000</td>\n",
       "    </tr>\n",
       "    <tr>\n",
       "      <th id=\"T_efa93_level0_row5\" class=\"row_heading level0 row5\" >ceiling_height</th>\n",
       "      <td id=\"T_efa93_row5_col0\" class=\"data row5 col0\" >39.000000</td>\n",
       "    </tr>\n",
       "    <tr>\n",
       "      <th id=\"T_efa93_level0_row6\" class=\"row_heading level0 row6\" >floors_total</th>\n",
       "      <td id=\"T_efa93_row6_col0\" class=\"data row6 col0\" >0.000000</td>\n",
       "    </tr>\n",
       "    <tr>\n",
       "      <th id=\"T_efa93_level0_row7\" class=\"row_heading level0 row7\" >living_area</th>\n",
       "      <td id=\"T_efa93_row7_col0\" class=\"data row7 col0\" >8.000000</td>\n",
       "    </tr>\n",
       "    <tr>\n",
       "      <th id=\"T_efa93_level0_row8\" class=\"row_heading level0 row8\" >floor</th>\n",
       "      <td id=\"T_efa93_row8_col0\" class=\"data row8 col0\" >0.000000</td>\n",
       "    </tr>\n",
       "    <tr>\n",
       "      <th id=\"T_efa93_level0_row9\" class=\"row_heading level0 row9\" >is_apartment</th>\n",
       "      <td id=\"T_efa93_row9_col0\" class=\"data row9 col0\" >88.000000</td>\n",
       "    </tr>\n",
       "    <tr>\n",
       "      <th id=\"T_efa93_level0_row10\" class=\"row_heading level0 row10\" >studio</th>\n",
       "      <td id=\"T_efa93_row10_col0\" class=\"data row10 col0\" >0.000000</td>\n",
       "    </tr>\n",
       "    <tr>\n",
       "      <th id=\"T_efa93_level0_row11\" class=\"row_heading level0 row11\" >open_plan</th>\n",
       "      <td id=\"T_efa93_row11_col0\" class=\"data row11 col0\" >0.000000</td>\n",
       "    </tr>\n",
       "    <tr>\n",
       "      <th id=\"T_efa93_level0_row12\" class=\"row_heading level0 row12\" >kitchen_area</th>\n",
       "      <td id=\"T_efa93_row12_col0\" class=\"data row12 col0\" >10.000000</td>\n",
       "    </tr>\n",
       "    <tr>\n",
       "      <th id=\"T_efa93_level0_row13\" class=\"row_heading level0 row13\" >balcony</th>\n",
       "      <td id=\"T_efa93_row13_col0\" class=\"data row13 col0\" >49.000000</td>\n",
       "    </tr>\n",
       "    <tr>\n",
       "      <th id=\"T_efa93_level0_row14\" class=\"row_heading level0 row14\" >locality_name</th>\n",
       "      <td id=\"T_efa93_row14_col0\" class=\"data row14 col0\" >0.000000</td>\n",
       "    </tr>\n",
       "    <tr>\n",
       "      <th id=\"T_efa93_level0_row15\" class=\"row_heading level0 row15\" >airports_nearest</th>\n",
       "      <td id=\"T_efa93_row15_col0\" class=\"data row15 col0\" >23.000000</td>\n",
       "    </tr>\n",
       "    <tr>\n",
       "      <th id=\"T_efa93_level0_row16\" class=\"row_heading level0 row16\" >cityCenters_nearest</th>\n",
       "      <td id=\"T_efa93_row16_col0\" class=\"data row16 col0\" >23.000000</td>\n",
       "    </tr>\n",
       "    <tr>\n",
       "      <th id=\"T_efa93_level0_row17\" class=\"row_heading level0 row17\" >parks_around3000</th>\n",
       "      <td id=\"T_efa93_row17_col0\" class=\"data row17 col0\" >23.000000</td>\n",
       "    </tr>\n",
       "    <tr>\n",
       "      <th id=\"T_efa93_level0_row18\" class=\"row_heading level0 row18\" >parks_nearest</th>\n",
       "      <td id=\"T_efa93_row18_col0\" class=\"data row18 col0\" >66.000000</td>\n",
       "    </tr>\n",
       "    <tr>\n",
       "      <th id=\"T_efa93_level0_row19\" class=\"row_heading level0 row19\" >ponds_around3000</th>\n",
       "      <td id=\"T_efa93_row19_col0\" class=\"data row19 col0\" >23.000000</td>\n",
       "    </tr>\n",
       "    <tr>\n",
       "      <th id=\"T_efa93_level0_row20\" class=\"row_heading level0 row20\" >ponds_nearest</th>\n",
       "      <td id=\"T_efa93_row20_col0\" class=\"data row20 col0\" >62.000000</td>\n",
       "    </tr>\n",
       "    <tr>\n",
       "      <th id=\"T_efa93_level0_row21\" class=\"row_heading level0 row21\" >days_exposition</th>\n",
       "      <td id=\"T_efa93_row21_col0\" class=\"data row21 col0\" >13.000000</td>\n",
       "    </tr>\n",
       "  </tbody>\n",
       "</table>\n"
      ],
      "text/plain": [
       "<pandas.io.formats.style.Styler at 0x17fd4b0a460>"
      ]
     },
     "execution_count": 6,
     "metadata": {},
     "output_type": "execute_result"
    }
   ],
   "source": [
    "pd.DataFrame(round(data.isna().mean()*100,)).style.background_gradient('coolwarm')"
   ]
  },
  {
   "cell_type": "markdown",
   "metadata": {},
   "source": [
    "**Видим наличие пропусков в столбцах:**\n",
    "- `ceiling_height` (высота потолков (м))\n",
    "- `floors_total` (всего этажей в доме)\n",
    "- `living_area`  (жилая площадь в квадратных метрах (м²))\n",
    "- `is_apartment` (апартаменты (булев тип))\n",
    "- `kitchen_area` (площадь кухни в квадратных метрах (м²))\n",
    "- `balcony` (число балконов)\n",
    "- `locality_name` (название населённого пункта)\n",
    "- `airports_nearest` (расстояние до ближайшего аэропорта в метрах (м))\n",
    "- `cityCenters_nearest` (расстояние до центра города (м))\n",
    "- `parks_around3000` (число парков в радиусе 3 км)\n",
    "- `parks_nearest` (расстояние до ближайшего парка (м)) \n",
    "- `ponds_around3000` (число водоёмов в радиусе 3 км)\n",
    "- `ponds_nearest` (асстояние до ближайшего водоёма (м)) \n",
    "- `days_exposition` (сколько дней было размещено объявление (от публикации до снятия))"
   ]
  },
  {
   "cell_type": "markdown",
   "metadata": {},
   "source": [
    "**Обработаем значения в столбце 'balcony'**\n",
    "\n",
    "Скорее всего пропуск в столбце 'balcony' является отсуствием балкона, поэтому произвел замену на 0 и замени тип ячейки на целое число"
   ]
  },
  {
   "cell_type": "code",
   "execution_count": 7,
   "metadata": {},
   "outputs": [],
   "source": [
    "data['balcony'].fillna(0,inplace = True)\n",
    "data['balcony'] = data['balcony'].astype(int)"
   ]
  },
  {
   "cell_type": "markdown",
   "metadata": {},
   "source": [
    "**Обработаем значения в столбце locality_name**\n",
    "\n",
    "Восстановить имя городов, в которых находятся квартиры не представляется возможным, поэтому будет логично объединить их в одну группу \"unknown\", так же провел работу над неявными дубликатами"
   ]
  },
  {
   "cell_type": "code",
   "execution_count": 8,
   "metadata": {},
   "outputs": [],
   "source": [
    "data['locality_name'].fillna('unknown', inplace=True)"
   ]
  },
  {
   "cell_type": "code",
   "execution_count": 9,
   "metadata": {},
   "outputs": [],
   "source": [
    "data['locality_name'] = data['locality_name'].str.lower()"
   ]
  },
  {
   "cell_type": "code",
   "execution_count": 10,
   "metadata": {},
   "outputs": [],
   "source": [
    "for i in data['locality_name'].unique().tolist():\n",
    "    data.loc[data['locality_name'] == i, 'locality_name'] = i.split()[-1]"
   ]
  },
  {
   "cell_type": "code",
   "execution_count": 11,
   "metadata": {},
   "outputs": [
    {
     "data": {
      "text/plain": [
       "array(['санкт-петербург', 'шушары', 'янино-1', 'парголово', 'мурино',\n",
       "       'ломоносов', 'сертолово', 'петергоф', 'пушкин', 'кудрово',\n",
       "       'коммунар', 'колпино', 'бор', 'гатчина', 'фёдоровское', 'выборг',\n",
       "       'кронштадт', 'кировск', 'девяткино', 'металлострой', 'лебяжье',\n",
       "       'сиверский', 'молодцово', 'кузьмоловский', 'ропша', 'павловск',\n",
       "       'пикколово', 'всеволожск', 'волхов', 'кингисепп', 'приозерск',\n",
       "       'сестрорецк', 'куттузи', 'аннино', 'ефимовский', 'плодовое',\n",
       "       'заклинье', 'торковичи', 'первомайское', 'село', 'понтонный',\n",
       "       'сясьстрой', 'старая', 'лесколово', 'свет', 'сланцы', 'путилово',\n",
       "       'ивангород', 'шлиссельбург', 'никольское', 'зеленогорск', 'оржицы',\n",
       "       'кальтино', 'романовка', 'бугры', 'рощино', 'кириши', 'луга',\n",
       "       'волосово', 'отрадное', 'павлово', 'оредеж', 'копорье',\n",
       "       'молодёжное', 'тихвин', 'победа', 'нурма', 'синявино', 'тосно',\n",
       "       'стрельна', 'бокситогорск', 'александровская', 'лопухинка',\n",
       "       'пикалёво', 'терволово', 'советский', 'подпорожье', 'петровское',\n",
       "       'токсово', 'сельцо', 'вырица', 'кипень', 'келози', 'вартемяги',\n",
       "       'тельмана', 'севастьяново', 'ижора', 'unknown', 'агалатово',\n",
       "       'новогорелово', 'лесогорский', 'лаголово', 'цвелодубово', 'рахья',\n",
       "       'белогорка', 'заводской', 'новоселье', 'колпаны', 'горбунки',\n",
       "       'батово', 'заневка', 'иссад', 'приморск', 'мистолово', 'ладога',\n",
       "       'зимитицы', 'барышево', 'разметелево', 'свердлова', 'пеники',\n",
       "       'рябово', 'пудомяги', 'корнево', 'низино', 'бегуницы', 'поляны',\n",
       "       'мга', 'елизаветино', 'кузнечное', 'колтуши', 'запорожское',\n",
       "       'гостилицы', 'карлино', 'мичуринское', 'морозова', 'песочный',\n",
       "       'сосново', 'аро', 'ильичёво', 'тайцы', 'верево', 'извара',\n",
       "       'вещево', 'паша', 'калитино', 'ульяновка', 'дубровка', 'мины',\n",
       "       'войсковицы', 'коркино', 'приладожский', 'щеглово', 'гаврилово',\n",
       "       'поле', 'рабитицы', 'никольский', 'кузьмолово', 'петро-славянка',\n",
       "       'назия', 'репино', 'углово', 'малукса', 'меньково', 'сапёрный',\n",
       "       'семрино', 'глажево', 'кобринское', 'гарболово', 'юкки',\n",
       "       'приветнинское', 'мануйлово', 'пчева', 'цвылёво', 'мельниково',\n",
       "       'пудость', 'усть-луга', 'светогорск', 'любань', 'селезнёво',\n",
       "       'каменногорск', 'кривко', 'глебычево', 'парицы', 'жилпосёлок',\n",
       "       'войскорово', 'стеклянный', 'важины', 'мыза-ивановка',\n",
       "       'русско-высоцкое', 'форносово', 'житково', 'виллози', 'лампово',\n",
       "       'шпаньково', 'лаврики', 'сумино', 'возрождение', 'старосиверская',\n",
       "       'кикерино', 'хинколово', 'пригородный', 'торфяное', 'будогощь',\n",
       "       'суходолье', 'долина', 'хапо-ое', 'горка', 'нос', 'яльгелево',\n",
       "       'рождествено', 'старополье', 'левашово', 'сяськелево', 'камышовка',\n",
       "       'поляна', 'хязельки', 'жилгородок', 'ялгино', 'учхоз', 'гончарово',\n",
       "       'почап', 'сапёрное', 'километр', 'каложицы', 'фалилеево',\n",
       "       'пельгора', 'торошковичи', 'белоостров', 'алексеевка',\n",
       "       'серебрянский', 'лукаши', 'тарасово', 'кингисеппский', 'ушаки',\n",
       "       'котлы', 'сижно', 'торосово', 'новолисино', 'громово', 'глинка',\n",
       "       'пустошь', 'коммунары', 'починок', 'вознесенье', 'разбегаево',\n",
       "       'гладкое', 'тёсово-4', 'коробицыно', 'вруда', 'курковицы',\n",
       "       'кобралово', 'суоранда', 'кондратьево', 'счастье', 'реброво',\n",
       "       'тойворово', 'семиозерье', 'лесное', 'совхозный', 'ленинское',\n",
       "       'суйда', 'осельки', 'свирь', 'перово', 'высоцк', 'шум',\n",
       "       'котельский', 'лужайка', 'пустомержа', 'красносельское', 'кара',\n",
       "       'пижма', 'север', 'ромашки', 'каськово', 'куровицы', 'плоское',\n",
       "       'кирпичное', 'ям-тесово', 'раздолье', 'терпилицы', 'шугозеро',\n",
       "       'ваганово', 'пушное', 'садко', 'усть-ижора', 'выскатка',\n",
       "       'свирьстрой', 'кисельня', 'высокоключевой', 'ненимяки',\n",
       "       'снегирёвка', 'рапполово', 'пустынка', 'сабск', 'русско',\n",
       "       'лупполово', 'рейзино', 'дружноселье', 'пчевжа', 'володарское',\n",
       "       'нижняя', 'тихковицы', 'грива', 'дзержинского'], dtype=object)"
      ]
     },
     "execution_count": 11,
     "metadata": {},
     "output_type": "execute_result"
    }
   ],
   "source": [
    "data['locality_name'].unique()"
   ]
  },
  {
   "cell_type": "code",
   "execution_count": 12,
   "metadata": {},
   "outputs": [
    {
     "data": {
      "text/html": [
       "<div>\n",
       "<style scoped>\n",
       "    .dataframe tbody tr th:only-of-type {\n",
       "        vertical-align: middle;\n",
       "    }\n",
       "\n",
       "    .dataframe tbody tr th {\n",
       "        vertical-align: top;\n",
       "    }\n",
       "\n",
       "    .dataframe thead th {\n",
       "        text-align: right;\n",
       "    }\n",
       "</style>\n",
       "<table border=\"1\" class=\"dataframe\">\n",
       "  <thead>\n",
       "    <tr style=\"text-align: right;\">\n",
       "      <th></th>\n",
       "      <th>total_images</th>\n",
       "      <th>last_price</th>\n",
       "      <th>total_area</th>\n",
       "      <th>first_day_exposition</th>\n",
       "      <th>rooms</th>\n",
       "      <th>ceiling_height</th>\n",
       "      <th>floors_total</th>\n",
       "      <th>living_area</th>\n",
       "      <th>floor</th>\n",
       "      <th>is_apartment</th>\n",
       "      <th>...</th>\n",
       "      <th>kitchen_area</th>\n",
       "      <th>balcony</th>\n",
       "      <th>locality_name</th>\n",
       "      <th>airports_nearest</th>\n",
       "      <th>cityCenters_nearest</th>\n",
       "      <th>parks_around3000</th>\n",
       "      <th>parks_nearest</th>\n",
       "      <th>ponds_around3000</th>\n",
       "      <th>ponds_nearest</th>\n",
       "      <th>days_exposition</th>\n",
       "    </tr>\n",
       "  </thead>\n",
       "  <tbody>\n",
       "    <tr>\n",
       "      <th>0</th>\n",
       "      <td>20</td>\n",
       "      <td>13000000.0</td>\n",
       "      <td>108.0</td>\n",
       "      <td>2019-03-07T00:00:00</td>\n",
       "      <td>3</td>\n",
       "      <td>2.70</td>\n",
       "      <td>16.0</td>\n",
       "      <td>51.0</td>\n",
       "      <td>8</td>\n",
       "      <td>NaN</td>\n",
       "      <td>...</td>\n",
       "      <td>25.0</td>\n",
       "      <td>0</td>\n",
       "      <td>санкт-петербург</td>\n",
       "      <td>18863.0</td>\n",
       "      <td>16028.0</td>\n",
       "      <td>1.0</td>\n",
       "      <td>482.0</td>\n",
       "      <td>2.0</td>\n",
       "      <td>755.0</td>\n",
       "      <td>NaN</td>\n",
       "    </tr>\n",
       "    <tr>\n",
       "      <th>1</th>\n",
       "      <td>7</td>\n",
       "      <td>3350000.0</td>\n",
       "      <td>40.4</td>\n",
       "      <td>2018-12-04T00:00:00</td>\n",
       "      <td>1</td>\n",
       "      <td>NaN</td>\n",
       "      <td>11.0</td>\n",
       "      <td>18.6</td>\n",
       "      <td>1</td>\n",
       "      <td>NaN</td>\n",
       "      <td>...</td>\n",
       "      <td>11.0</td>\n",
       "      <td>2</td>\n",
       "      <td>шушары</td>\n",
       "      <td>12817.0</td>\n",
       "      <td>18603.0</td>\n",
       "      <td>0.0</td>\n",
       "      <td>NaN</td>\n",
       "      <td>0.0</td>\n",
       "      <td>NaN</td>\n",
       "      <td>81.0</td>\n",
       "    </tr>\n",
       "    <tr>\n",
       "      <th>2</th>\n",
       "      <td>10</td>\n",
       "      <td>5196000.0</td>\n",
       "      <td>56.0</td>\n",
       "      <td>2015-08-20T00:00:00</td>\n",
       "      <td>2</td>\n",
       "      <td>NaN</td>\n",
       "      <td>5.0</td>\n",
       "      <td>34.3</td>\n",
       "      <td>4</td>\n",
       "      <td>NaN</td>\n",
       "      <td>...</td>\n",
       "      <td>8.3</td>\n",
       "      <td>0</td>\n",
       "      <td>санкт-петербург</td>\n",
       "      <td>21741.0</td>\n",
       "      <td>13933.0</td>\n",
       "      <td>1.0</td>\n",
       "      <td>90.0</td>\n",
       "      <td>2.0</td>\n",
       "      <td>574.0</td>\n",
       "      <td>558.0</td>\n",
       "    </tr>\n",
       "    <tr>\n",
       "      <th>3</th>\n",
       "      <td>0</td>\n",
       "      <td>64900000.0</td>\n",
       "      <td>159.0</td>\n",
       "      <td>2015-07-24T00:00:00</td>\n",
       "      <td>3</td>\n",
       "      <td>NaN</td>\n",
       "      <td>14.0</td>\n",
       "      <td>NaN</td>\n",
       "      <td>9</td>\n",
       "      <td>NaN</td>\n",
       "      <td>...</td>\n",
       "      <td>NaN</td>\n",
       "      <td>0</td>\n",
       "      <td>санкт-петербург</td>\n",
       "      <td>28098.0</td>\n",
       "      <td>6800.0</td>\n",
       "      <td>2.0</td>\n",
       "      <td>84.0</td>\n",
       "      <td>3.0</td>\n",
       "      <td>234.0</td>\n",
       "      <td>424.0</td>\n",
       "    </tr>\n",
       "    <tr>\n",
       "      <th>4</th>\n",
       "      <td>2</td>\n",
       "      <td>10000000.0</td>\n",
       "      <td>100.0</td>\n",
       "      <td>2018-06-19T00:00:00</td>\n",
       "      <td>2</td>\n",
       "      <td>3.03</td>\n",
       "      <td>14.0</td>\n",
       "      <td>32.0</td>\n",
       "      <td>13</td>\n",
       "      <td>NaN</td>\n",
       "      <td>...</td>\n",
       "      <td>41.0</td>\n",
       "      <td>0</td>\n",
       "      <td>санкт-петербург</td>\n",
       "      <td>31856.0</td>\n",
       "      <td>8098.0</td>\n",
       "      <td>2.0</td>\n",
       "      <td>112.0</td>\n",
       "      <td>1.0</td>\n",
       "      <td>48.0</td>\n",
       "      <td>121.0</td>\n",
       "    </tr>\n",
       "  </tbody>\n",
       "</table>\n",
       "<p>5 rows × 22 columns</p>\n",
       "</div>"
      ],
      "text/plain": [
       "   total_images  last_price  total_area first_day_exposition  rooms  \\\n",
       "0            20  13000000.0       108.0  2019-03-07T00:00:00      3   \n",
       "1             7   3350000.0        40.4  2018-12-04T00:00:00      1   \n",
       "2            10   5196000.0        56.0  2015-08-20T00:00:00      2   \n",
       "3             0  64900000.0       159.0  2015-07-24T00:00:00      3   \n",
       "4             2  10000000.0       100.0  2018-06-19T00:00:00      2   \n",
       "\n",
       "   ceiling_height  floors_total  living_area  floor is_apartment  ...  \\\n",
       "0            2.70          16.0         51.0      8          NaN  ...   \n",
       "1             NaN          11.0         18.6      1          NaN  ...   \n",
       "2             NaN           5.0         34.3      4          NaN  ...   \n",
       "3             NaN          14.0          NaN      9          NaN  ...   \n",
       "4            3.03          14.0         32.0     13          NaN  ...   \n",
       "\n",
       "   kitchen_area  balcony    locality_name  airports_nearest  \\\n",
       "0          25.0        0  санкт-петербург           18863.0   \n",
       "1          11.0        2           шушары           12817.0   \n",
       "2           8.3        0  санкт-петербург           21741.0   \n",
       "3           NaN        0  санкт-петербург           28098.0   \n",
       "4          41.0        0  санкт-петербург           31856.0   \n",
       "\n",
       "  cityCenters_nearest  parks_around3000  parks_nearest  ponds_around3000  \\\n",
       "0             16028.0               1.0          482.0               2.0   \n",
       "1             18603.0               0.0            NaN               0.0   \n",
       "2             13933.0               1.0           90.0               2.0   \n",
       "3              6800.0               2.0           84.0               3.0   \n",
       "4              8098.0               2.0          112.0               1.0   \n",
       "\n",
       "   ponds_nearest  days_exposition  \n",
       "0          755.0              NaN  \n",
       "1            NaN             81.0  \n",
       "2          574.0            558.0  \n",
       "3          234.0            424.0  \n",
       "4           48.0            121.0  \n",
       "\n",
       "[5 rows x 22 columns]"
      ]
     },
     "execution_count": 12,
     "metadata": {},
     "output_type": "execute_result"
    }
   ],
   "source": [
    "data.head()"
   ]
  },
  {
   "cell_type": "markdown",
   "metadata": {},
   "source": [
    "**Обработаем значения в столбце 'ceiling_heaight'**\n",
    "\n",
    "Заменяем пропщуенные значения, на медианное значение подходящего населенного пункта. Так же постараемся по максимому избавиться от аномальных значений."
   ]
  },
  {
   "cell_type": "code",
   "execution_count": 13,
   "metadata": {},
   "outputs": [
    {
     "data": {
      "text/plain": [
       "count    14504.000000\n",
       "mean         2.771499\n",
       "std          1.261056\n",
       "min          1.000000\n",
       "25%          2.520000\n",
       "50%          2.650000\n",
       "75%          2.800000\n",
       "max        100.000000\n",
       "Name: ceiling_height, dtype: float64"
      ]
     },
     "execution_count": 13,
     "metadata": {},
     "output_type": "execute_result"
    }
   ],
   "source": [
    "data['ceiling_height'].describe()"
   ]
  },
  {
   "cell_type": "code",
   "execution_count": 14,
   "metadata": {},
   "outputs": [],
   "source": [
    "for t in data['locality_name'].unique():\n",
    "    data.loc[(data['locality_name'] == t) & (data['ceiling_height'].isna()), 'ceiling_height'] = \\\n",
    "    data.loc[(data['locality_name'] == t), 'ceiling_height'].median()"
   ]
  },
  {
   "cell_type": "code",
   "execution_count": 15,
   "metadata": {},
   "outputs": [
    {
     "name": "stdout",
     "output_type": "stream",
     "text": [
      "[  2.7     2.63    3.03    2.65    2.64    2.5     2.67    2.55    2.6\n",
      "   2.56    3.05    2.75    2.9     2.56    2.8     3.      3.2     2.61\n",
      "   2.51      nan   3.25    3.45    2.77    2.85    2.57    4.15    3.5\n",
      "   3.3     2.71    4.      2.47    2.73    2.84    3.1     2.34    3.4\n",
      "   2.52    3.06    2.72    2.54    2.78    2.65    2.76   25.      2.58\n",
      "   3.7     5.2     2.575   2.87    2.66    2.59    2.      2.45    3.6\n",
      "   3.9     2.92    3.11    3.13    3.8     3.15    3.55    3.16    3.62\n",
      "   3.12    2.53    2.74    2.96    2.46    5.3     5.      2.79    2.95\n",
      "   4.06    2.94    3.82    3.54    3.53    2.83    4.7     2.4     3.38\n",
      "   3.01    5.6     3.65    3.18    3.35    2.3     2.525   3.57    2.48\n",
      "   2.62    2.82    3.98    2.875   3.83   27.      3.52    3.95    3.75\n",
      "   2.88    3.67    3.87    3.66    3.85    3.86    4.19    3.24    4.8\n",
      "   4.5     4.2     3.36   32.      3.08    3.68    3.07    3.37    3.09\n",
      "   8.      3.26    3.34    2.81    3.44    2.97    3.14    4.37    2.68\n",
      "   2.6     3.22    3.27    4.1     2.93    3.46   24.      3.47    3.33\n",
      "   3.63    2.625   3.32   26.      2.615   1.2     8.3     2.98    2.86\n",
      "   3.17    4.4     3.28    3.04    4.45    5.5     3.84    3.23    3.02\n",
      "   3.21    3.43    3.78    4.3     2.725   3.39    2.69    3.31    4.65\n",
      "   3.56    2.2     3.51    3.93    3.42    2.99    3.49   14.      4.14\n",
      "   2.91    3.88    1.75    4.25    3.29   20.      2.675   2.25    3.76\n",
      "   3.69    6.     22.6     2.89    3.58    5.8    27.5     2.49    4.9\n",
      "   3.48   10.3     1.    100.      3.59 ]\n",
      "Оставшееся количесвто пропусков 87\n"
     ]
    }
   ],
   "source": [
    "print(data['ceiling_height'].unique())\n",
    "print('Оставшееся количесвто пропусков', data['ceiling_height'].isna().sum())"
   ]
  },
  {
   "cell_type": "markdown",
   "metadata": {},
   "source": [
    "Осталось 87 пропусков, очень маленький процент от общей картины, удалю строки с оставшимеся пропусками"
   ]
  },
  {
   "cell_type": "code",
   "execution_count": 16,
   "metadata": {},
   "outputs": [],
   "source": [
    "data.dropna(subset=['ceiling_height'], inplace=True, axis=0)"
   ]
  },
  {
   "cell_type": "code",
   "execution_count": 17,
   "metadata": {},
   "outputs": [],
   "source": [
    "data = data.reset_index(drop=True)\n",
    "data.loc[data['ceiling_height'] > 20, 'ceiling_height'] = data.loc[data['ceiling_height'] > 20, 'ceiling_height'] / 10"
   ]
  },
  {
   "cell_type": "code",
   "execution_count": 18,
   "metadata": {},
   "outputs": [
    {
     "data": {
      "text/plain": [
       "14"
      ]
     },
     "execution_count": 18,
     "metadata": {},
     "output_type": "execute_result"
    }
   ],
   "source": [
    "len(data[data['ceiling_height'] < 2.1])"
   ]
  },
  {
   "cell_type": "code",
   "execution_count": 19,
   "metadata": {},
   "outputs": [],
   "source": [
    "#По госту высота потолков в квартирах не может быть меньше чем 2.1 метр, удалим строки которые не соотвествуют госту.\n",
    "data = data.query('ceiling_height > 2')"
   ]
  },
  {
   "cell_type": "markdown",
   "metadata": {},
   "source": [
    "**Обработаем значения в столбце 'is_apartment'**\n",
    "\n",
    "Скорее всего при заполнении люди у кого не аппартаменты, не стали указывать это значение, логичнее будет заполнить пропуски значениями \"False\" и сразу заменим тип ячейки на булево значение."
   ]
  },
  {
   "cell_type": "code",
   "execution_count": 20,
   "metadata": {},
   "outputs": [],
   "source": [
    "data['is_apartment'].fillna(False, inplace=True)\n",
    "data['is_apartment'] = data['is_apartment'].astype(bool)"
   ]
  },
  {
   "cell_type": "markdown",
   "metadata": {},
   "source": [
    "**Обработаем значения в столбце 'floors_total'**\n",
    "\n",
    "Исправим пропуски в общем количестве этажей. В данном случае удаление не повлечет за собой больших последствий, так как таких объектов всего 86 из 23699, что меньше чем 0.5 процента от общей выборки(~0.3%)"
   ]
  },
  {
   "cell_type": "code",
   "execution_count": 21,
   "metadata": {},
   "outputs": [
    {
     "data": {
      "text/html": [
       "<div>\n",
       "<style scoped>\n",
       "    .dataframe tbody tr th:only-of-type {\n",
       "        vertical-align: middle;\n",
       "    }\n",
       "\n",
       "    .dataframe tbody tr th {\n",
       "        vertical-align: top;\n",
       "    }\n",
       "\n",
       "    .dataframe thead th {\n",
       "        text-align: right;\n",
       "    }\n",
       "</style>\n",
       "<table border=\"1\" class=\"dataframe\">\n",
       "  <thead>\n",
       "    <tr style=\"text-align: right;\">\n",
       "      <th></th>\n",
       "      <th>total_images</th>\n",
       "      <th>last_price</th>\n",
       "      <th>total_area</th>\n",
       "      <th>first_day_exposition</th>\n",
       "      <th>rooms</th>\n",
       "      <th>ceiling_height</th>\n",
       "      <th>floors_total</th>\n",
       "      <th>living_area</th>\n",
       "      <th>floor</th>\n",
       "      <th>is_apartment</th>\n",
       "      <th>...</th>\n",
       "      <th>kitchen_area</th>\n",
       "      <th>balcony</th>\n",
       "      <th>locality_name</th>\n",
       "      <th>airports_nearest</th>\n",
       "      <th>cityCenters_nearest</th>\n",
       "      <th>parks_around3000</th>\n",
       "      <th>parks_nearest</th>\n",
       "      <th>ponds_around3000</th>\n",
       "      <th>ponds_nearest</th>\n",
       "      <th>days_exposition</th>\n",
       "    </tr>\n",
       "  </thead>\n",
       "  <tbody>\n",
       "    <tr>\n",
       "      <th>0</th>\n",
       "      <td>20</td>\n",
       "      <td>13000000.0</td>\n",
       "      <td>108.00</td>\n",
       "      <td>2019-03-07T00:00:00</td>\n",
       "      <td>3</td>\n",
       "      <td>2.70</td>\n",
       "      <td>16.0</td>\n",
       "      <td>51.0</td>\n",
       "      <td>8</td>\n",
       "      <td>False</td>\n",
       "      <td>...</td>\n",
       "      <td>25.00</td>\n",
       "      <td>0</td>\n",
       "      <td>санкт-петербург</td>\n",
       "      <td>18863.0</td>\n",
       "      <td>16028.0</td>\n",
       "      <td>1.0</td>\n",
       "      <td>482.0</td>\n",
       "      <td>2.0</td>\n",
       "      <td>755.0</td>\n",
       "      <td>NaN</td>\n",
       "    </tr>\n",
       "    <tr>\n",
       "      <th>1</th>\n",
       "      <td>7</td>\n",
       "      <td>3350000.0</td>\n",
       "      <td>40.40</td>\n",
       "      <td>2018-12-04T00:00:00</td>\n",
       "      <td>1</td>\n",
       "      <td>2.63</td>\n",
       "      <td>11.0</td>\n",
       "      <td>18.6</td>\n",
       "      <td>1</td>\n",
       "      <td>False</td>\n",
       "      <td>...</td>\n",
       "      <td>11.00</td>\n",
       "      <td>2</td>\n",
       "      <td>шушары</td>\n",
       "      <td>12817.0</td>\n",
       "      <td>18603.0</td>\n",
       "      <td>0.0</td>\n",
       "      <td>NaN</td>\n",
       "      <td>0.0</td>\n",
       "      <td>NaN</td>\n",
       "      <td>81.0</td>\n",
       "    </tr>\n",
       "    <tr>\n",
       "      <th>2</th>\n",
       "      <td>10</td>\n",
       "      <td>5196000.0</td>\n",
       "      <td>56.00</td>\n",
       "      <td>2015-08-20T00:00:00</td>\n",
       "      <td>2</td>\n",
       "      <td>2.70</td>\n",
       "      <td>5.0</td>\n",
       "      <td>34.3</td>\n",
       "      <td>4</td>\n",
       "      <td>False</td>\n",
       "      <td>...</td>\n",
       "      <td>8.30</td>\n",
       "      <td>0</td>\n",
       "      <td>санкт-петербург</td>\n",
       "      <td>21741.0</td>\n",
       "      <td>13933.0</td>\n",
       "      <td>1.0</td>\n",
       "      <td>90.0</td>\n",
       "      <td>2.0</td>\n",
       "      <td>574.0</td>\n",
       "      <td>558.0</td>\n",
       "    </tr>\n",
       "    <tr>\n",
       "      <th>3</th>\n",
       "      <td>0</td>\n",
       "      <td>64900000.0</td>\n",
       "      <td>159.00</td>\n",
       "      <td>2015-07-24T00:00:00</td>\n",
       "      <td>3</td>\n",
       "      <td>2.70</td>\n",
       "      <td>14.0</td>\n",
       "      <td>NaN</td>\n",
       "      <td>9</td>\n",
       "      <td>False</td>\n",
       "      <td>...</td>\n",
       "      <td>NaN</td>\n",
       "      <td>0</td>\n",
       "      <td>санкт-петербург</td>\n",
       "      <td>28098.0</td>\n",
       "      <td>6800.0</td>\n",
       "      <td>2.0</td>\n",
       "      <td>84.0</td>\n",
       "      <td>3.0</td>\n",
       "      <td>234.0</td>\n",
       "      <td>424.0</td>\n",
       "    </tr>\n",
       "    <tr>\n",
       "      <th>4</th>\n",
       "      <td>2</td>\n",
       "      <td>10000000.0</td>\n",
       "      <td>100.00</td>\n",
       "      <td>2018-06-19T00:00:00</td>\n",
       "      <td>2</td>\n",
       "      <td>3.03</td>\n",
       "      <td>14.0</td>\n",
       "      <td>32.0</td>\n",
       "      <td>13</td>\n",
       "      <td>False</td>\n",
       "      <td>...</td>\n",
       "      <td>41.00</td>\n",
       "      <td>0</td>\n",
       "      <td>санкт-петербург</td>\n",
       "      <td>31856.0</td>\n",
       "      <td>8098.0</td>\n",
       "      <td>2.0</td>\n",
       "      <td>112.0</td>\n",
       "      <td>1.0</td>\n",
       "      <td>48.0</td>\n",
       "      <td>121.0</td>\n",
       "    </tr>\n",
       "    <tr>\n",
       "      <th>...</th>\n",
       "      <td>...</td>\n",
       "      <td>...</td>\n",
       "      <td>...</td>\n",
       "      <td>...</td>\n",
       "      <td>...</td>\n",
       "      <td>...</td>\n",
       "      <td>...</td>\n",
       "      <td>...</td>\n",
       "      <td>...</td>\n",
       "      <td>...</td>\n",
       "      <td>...</td>\n",
       "      <td>...</td>\n",
       "      <td>...</td>\n",
       "      <td>...</td>\n",
       "      <td>...</td>\n",
       "      <td>...</td>\n",
       "      <td>...</td>\n",
       "      <td>...</td>\n",
       "      <td>...</td>\n",
       "      <td>...</td>\n",
       "      <td>...</td>\n",
       "    </tr>\n",
       "    <tr>\n",
       "      <th>23507</th>\n",
       "      <td>9</td>\n",
       "      <td>4600000.0</td>\n",
       "      <td>62.40</td>\n",
       "      <td>2016-08-05T00:00:00</td>\n",
       "      <td>3</td>\n",
       "      <td>2.60</td>\n",
       "      <td>9.0</td>\n",
       "      <td>40.0</td>\n",
       "      <td>8</td>\n",
       "      <td>False</td>\n",
       "      <td>...</td>\n",
       "      <td>8.00</td>\n",
       "      <td>0</td>\n",
       "      <td>петергоф</td>\n",
       "      <td>45602.0</td>\n",
       "      <td>34104.0</td>\n",
       "      <td>1.0</td>\n",
       "      <td>352.0</td>\n",
       "      <td>1.0</td>\n",
       "      <td>675.0</td>\n",
       "      <td>239.0</td>\n",
       "    </tr>\n",
       "    <tr>\n",
       "      <th>23508</th>\n",
       "      <td>9</td>\n",
       "      <td>9700000.0</td>\n",
       "      <td>133.81</td>\n",
       "      <td>2017-03-21T00:00:00</td>\n",
       "      <td>3</td>\n",
       "      <td>3.70</td>\n",
       "      <td>5.0</td>\n",
       "      <td>73.3</td>\n",
       "      <td>3</td>\n",
       "      <td>False</td>\n",
       "      <td>...</td>\n",
       "      <td>13.83</td>\n",
       "      <td>0</td>\n",
       "      <td>санкт-петербург</td>\n",
       "      <td>24665.0</td>\n",
       "      <td>4232.0</td>\n",
       "      <td>1.0</td>\n",
       "      <td>796.0</td>\n",
       "      <td>3.0</td>\n",
       "      <td>381.0</td>\n",
       "      <td>NaN</td>\n",
       "    </tr>\n",
       "    <tr>\n",
       "      <th>23509</th>\n",
       "      <td>14</td>\n",
       "      <td>3100000.0</td>\n",
       "      <td>59.00</td>\n",
       "      <td>2018-01-15T00:00:00</td>\n",
       "      <td>3</td>\n",
       "      <td>2.50</td>\n",
       "      <td>5.0</td>\n",
       "      <td>38.0</td>\n",
       "      <td>4</td>\n",
       "      <td>False</td>\n",
       "      <td>...</td>\n",
       "      <td>8.50</td>\n",
       "      <td>0</td>\n",
       "      <td>тосно</td>\n",
       "      <td>NaN</td>\n",
       "      <td>NaN</td>\n",
       "      <td>NaN</td>\n",
       "      <td>NaN</td>\n",
       "      <td>NaN</td>\n",
       "      <td>NaN</td>\n",
       "      <td>45.0</td>\n",
       "    </tr>\n",
       "    <tr>\n",
       "      <th>23510</th>\n",
       "      <td>13</td>\n",
       "      <td>11475000.0</td>\n",
       "      <td>76.75</td>\n",
       "      <td>2017-03-28T00:00:00</td>\n",
       "      <td>2</td>\n",
       "      <td>3.00</td>\n",
       "      <td>17.0</td>\n",
       "      <td>NaN</td>\n",
       "      <td>12</td>\n",
       "      <td>False</td>\n",
       "      <td>...</td>\n",
       "      <td>23.30</td>\n",
       "      <td>2</td>\n",
       "      <td>санкт-петербург</td>\n",
       "      <td>39140.0</td>\n",
       "      <td>10364.0</td>\n",
       "      <td>2.0</td>\n",
       "      <td>173.0</td>\n",
       "      <td>3.0</td>\n",
       "      <td>196.0</td>\n",
       "      <td>602.0</td>\n",
       "    </tr>\n",
       "    <tr>\n",
       "      <th>23511</th>\n",
       "      <td>4</td>\n",
       "      <td>1350000.0</td>\n",
       "      <td>32.30</td>\n",
       "      <td>2017-07-21T00:00:00</td>\n",
       "      <td>1</td>\n",
       "      <td>2.50</td>\n",
       "      <td>5.0</td>\n",
       "      <td>12.3</td>\n",
       "      <td>1</td>\n",
       "      <td>False</td>\n",
       "      <td>...</td>\n",
       "      <td>9.00</td>\n",
       "      <td>0</td>\n",
       "      <td>учхоз</td>\n",
       "      <td>NaN</td>\n",
       "      <td>NaN</td>\n",
       "      <td>NaN</td>\n",
       "      <td>NaN</td>\n",
       "      <td>NaN</td>\n",
       "      <td>NaN</td>\n",
       "      <td>NaN</td>\n",
       "    </tr>\n",
       "  </tbody>\n",
       "</table>\n",
       "<p>23512 rows × 22 columns</p>\n",
       "</div>"
      ],
      "text/plain": [
       "       total_images  last_price  total_area first_day_exposition  rooms  \\\n",
       "0                20  13000000.0      108.00  2019-03-07T00:00:00      3   \n",
       "1                 7   3350000.0       40.40  2018-12-04T00:00:00      1   \n",
       "2                10   5196000.0       56.00  2015-08-20T00:00:00      2   \n",
       "3                 0  64900000.0      159.00  2015-07-24T00:00:00      3   \n",
       "4                 2  10000000.0      100.00  2018-06-19T00:00:00      2   \n",
       "...             ...         ...         ...                  ...    ...   \n",
       "23507             9   4600000.0       62.40  2016-08-05T00:00:00      3   \n",
       "23508             9   9700000.0      133.81  2017-03-21T00:00:00      3   \n",
       "23509            14   3100000.0       59.00  2018-01-15T00:00:00      3   \n",
       "23510            13  11475000.0       76.75  2017-03-28T00:00:00      2   \n",
       "23511             4   1350000.0       32.30  2017-07-21T00:00:00      1   \n",
       "\n",
       "       ceiling_height  floors_total  living_area  floor  is_apartment  ...  \\\n",
       "0                2.70          16.0         51.0      8         False  ...   \n",
       "1                2.63          11.0         18.6      1         False  ...   \n",
       "2                2.70           5.0         34.3      4         False  ...   \n",
       "3                2.70          14.0          NaN      9         False  ...   \n",
       "4                3.03          14.0         32.0     13         False  ...   \n",
       "...               ...           ...          ...    ...           ...  ...   \n",
       "23507            2.60           9.0         40.0      8         False  ...   \n",
       "23508            3.70           5.0         73.3      3         False  ...   \n",
       "23509            2.50           5.0         38.0      4         False  ...   \n",
       "23510            3.00          17.0          NaN     12         False  ...   \n",
       "23511            2.50           5.0         12.3      1         False  ...   \n",
       "\n",
       "       kitchen_area  balcony    locality_name  airports_nearest  \\\n",
       "0             25.00        0  санкт-петербург           18863.0   \n",
       "1             11.00        2           шушары           12817.0   \n",
       "2              8.30        0  санкт-петербург           21741.0   \n",
       "3               NaN        0  санкт-петербург           28098.0   \n",
       "4             41.00        0  санкт-петербург           31856.0   \n",
       "...             ...      ...              ...               ...   \n",
       "23507          8.00        0         петергоф           45602.0   \n",
       "23508         13.83        0  санкт-петербург           24665.0   \n",
       "23509          8.50        0            тосно               NaN   \n",
       "23510         23.30        2  санкт-петербург           39140.0   \n",
       "23511          9.00        0            учхоз               NaN   \n",
       "\n",
       "      cityCenters_nearest  parks_around3000  parks_nearest  ponds_around3000  \\\n",
       "0                 16028.0               1.0          482.0               2.0   \n",
       "1                 18603.0               0.0            NaN               0.0   \n",
       "2                 13933.0               1.0           90.0               2.0   \n",
       "3                  6800.0               2.0           84.0               3.0   \n",
       "4                  8098.0               2.0          112.0               1.0   \n",
       "...                   ...               ...            ...               ...   \n",
       "23507             34104.0               1.0          352.0               1.0   \n",
       "23508              4232.0               1.0          796.0               3.0   \n",
       "23509                 NaN               NaN            NaN               NaN   \n",
       "23510             10364.0               2.0          173.0               3.0   \n",
       "23511                 NaN               NaN            NaN               NaN   \n",
       "\n",
       "       ponds_nearest  days_exposition  \n",
       "0              755.0              NaN  \n",
       "1                NaN             81.0  \n",
       "2              574.0            558.0  \n",
       "3              234.0            424.0  \n",
       "4               48.0            121.0  \n",
       "...              ...              ...  \n",
       "23507          675.0            239.0  \n",
       "23508          381.0              NaN  \n",
       "23509            NaN             45.0  \n",
       "23510          196.0            602.0  \n",
       "23511            NaN              NaN  \n",
       "\n",
       "[23512 rows x 22 columns]"
      ]
     },
     "execution_count": 21,
     "metadata": {},
     "output_type": "execute_result"
    }
   ],
   "source": [
    "data.dropna(subset=[\"floors_total\"],inplace = True,axis = 0 )\n",
    "data.reset_index(drop=True)"
   ]
  },
  {
   "cell_type": "markdown",
   "metadata": {},
   "source": [
    "**Обработаем значения в столбцах 'living_area' и 'kitchen_area'**\n",
    "\n",
    "Посчитаем долю среднего значения жилой и кухонной площади от общей площади и заменим пропуски соотношением"
   ]
  },
  {
   "cell_type": "code",
   "execution_count": 22,
   "metadata": {},
   "outputs": [],
   "source": [
    "living_ratio = data['living_area'].mean() / data['total_area'].mean()\n",
    "kitchen_ratio = data['kitchen_area'].mean() / data['total_area'].mean()\n",
    "data['living_area'].fillna(living_ratio * data['total_area'], inplace=True)\n",
    "data['kitchen_area'].fillna(kitchen_ratio * data['total_area'], inplace=True)"
   ]
  },
  {
   "cell_type": "code",
   "execution_count": 23,
   "metadata": {},
   "outputs": [
    {
     "name": "stdout",
     "output_type": "stream",
     "text": [
      "Количество пропусков жилой площади: 0\n",
      "Количество пропусков кухонной площади: 0\n"
     ]
    }
   ],
   "source": [
    "print(\"Количество пропусков жилой площади:\", data['living_area'].isna().sum())\n",
    "print('Количество пропусков кухонной площади:', data['kitchen_area'].isna().sum())"
   ]
  },
  {
   "cell_type": "markdown",
   "metadata": {},
   "source": [
    "**Обработаем значения в столбцах 'cityCenters_nearest' и 'airports_nearest'**\n",
    "\n",
    "Заменим пропуски средним значением по населенным пунктам."
   ]
  },
  {
   "cell_type": "code",
   "execution_count": 24,
   "metadata": {},
   "outputs": [
    {
     "data": {
      "text/plain": [
       "5418"
      ]
     },
     "execution_count": 24,
     "metadata": {},
     "output_type": "execute_result"
    }
   ],
   "source": [
    "data['cityCenters_nearest'].isna().sum()"
   ]
  },
  {
   "cell_type": "code",
   "execution_count": 25,
   "metadata": {},
   "outputs": [],
   "source": [
    "for t in data['locality_name'].unique():\n",
    "    data.loc[(data['locality_name'] == t) & (data['cityCenters_nearest'].isna()), 'cityCenters_nearest'] = \\\n",
    "    data.loc[(data['locality_name'] == t), 'cityCenters_nearest'].mean()"
   ]
  },
  {
   "cell_type": "code",
   "execution_count": 26,
   "metadata": {},
   "outputs": [],
   "source": [
    "for t in data['locality_name'].unique():\n",
    "    data.loc[(data['locality_name'] == t) & (data['airports_nearest'].isna()), 'airports_nearest'] = \\\n",
    "    data.loc[(data['locality_name'] == t), 'airports_nearest'].mean()"
   ]
  },
  {
   "cell_type": "code",
   "execution_count": 27,
   "metadata": {},
   "outputs": [
    {
     "name": "stdout",
     "output_type": "stream",
     "text": [
      "Оставшееся количество пропусков в cityCenters_nearest: 5341\n",
      "Оставшееся количество пропусков в airports_nearest: 5341\n"
     ]
    }
   ],
   "source": [
    "print('Оставшееся количество пропусков в cityCenters_nearest:', data['cityCenters_nearest'].isna().sum())\n",
    "print('Оставшееся количество пропусков в airports_nearest:', data['airports_nearest'].isna().sum())"
   ]
  },
  {
   "cell_type": "code",
   "execution_count": 28,
   "metadata": {},
   "outputs": [
    {
     "name": "stdout",
     "output_type": "stream",
     "text": [
      "Пропуски в Питере по столбцу cityCenters_nearest: 0\n",
      "Пропуски в Питере по столбцу airports_nearest: 0\n"
     ]
    }
   ],
   "source": [
    "print('Пропуски в Питере по столбцу cityCenters_nearest:',data.query('\"санкт-петербург\" in locality_name')['cityCenters_nearest'].isna().sum())\n",
    "print('Пропуски в Питере по столбцу airports_nearest:',data.query('\"санкт-петербург\" in locality_name')['airports_nearest'].isna().sum())\n"
   ]
  },
  {
   "cell_type": "markdown",
   "metadata": {},
   "source": [
    "Данные рассчитывала система. Они могут отустствовать по причине того, что относительно конкретно взятого населенного пункта/точки искались расстояние в определенном радиусе. Если в пределах этого радиуса ни аэропорта, ни парков не было, то и указать в этом столбце системе было нечего. Как мы видим такие проблемы отсутствуют в городе Санкт-Петербург, оставим пропуски, но будем их учитывать в дальнейшем анализе"
   ]
  },
  {
   "cell_type": "markdown",
   "metadata": {},
   "source": [
    "**Обработаем значения в столбцах 'parks_nearest' и 'ponds_nearest'**\n",
    "\n",
    "Вполне возможно, что данные просто не были заполнены. Беря в расчет то, что это далеко не самые важные параметры, и отсутствие возможности проставить какое-либо адекватные расстояние, которое не испортит статистику по уже присутствующим данным по этим столбцам, предлагаю здесь не трогать пропуски, учитывая, что есть достаточное количество строк, где данные присутствуют, и по ним можно сделать срез и заметить определенные тенденции"
   ]
  },
  {
   "cell_type": "code",
   "execution_count": 29,
   "metadata": {},
   "outputs": [
    {
     "name": "stdout",
     "output_type": "stream",
     "text": [
      "Количество пропусков parks_nearest: 15470\n",
      "Количество пропусков ponds_nearest: 14457\n"
     ]
    }
   ],
   "source": [
    "print('Количество пропусков parks_nearest:', data['parks_nearest'].isna().sum())\n",
    "print('Количество пропусков ponds_nearest:', data['ponds_nearest'].isna().sum())"
   ]
  },
  {
   "cell_type": "markdown",
   "metadata": {},
   "source": [
    "**Обработаем значения в столбцах 'parks_around3000' и 'ponds_around3000'**\n",
    "\n",
    "Это далеко не самая важная информация, поэтому могу предположить, что пропуски в этих столбцах означают, что в данных пределах отсуствуют парки и пруды, заменим пропущенные значения на 0. Так же изменим значения ячеек на целое число"
   ]
  },
  {
   "cell_type": "code",
   "execution_count": 30,
   "metadata": {},
   "outputs": [],
   "source": [
    "data['parks_around3000'] = data['parks_around3000'].fillna(value=0).astype(int)\n",
    "data['ponds_around3000'] = data['ponds_around3000'].fillna(value=0).astype(int)"
   ]
  },
  {
   "cell_type": "markdown",
   "metadata": {},
   "source": [
    "**Обработаем значения в столбце 'days_exposition'**\n",
    "\n",
    "Восстановить данные о длительности размещения не представляется возможным, поэтому заменим их на 0."
   ]
  },
  {
   "cell_type": "code",
   "execution_count": 31,
   "metadata": {},
   "outputs": [],
   "source": [
    "data['days_exposition'] = data['days_exposition'].fillna(0)"
   ]
  },
  {
   "cell_type": "markdown",
   "metadata": {},
   "source": [
    "**Перед тем, как приступить к следующему шагу, изменим тип нескольких столбцов**\n",
    "\n",
    "- `first_day_exposition` - изменим на тип datetime\n",
    "- `floors_total` - изменим тип на int\n",
    "- `days_exposition` - изменим тип на int\n",
    "- `last_price` - изменим тип на int"
   ]
  },
  {
   "cell_type": "code",
   "execution_count": 32,
   "metadata": {},
   "outputs": [],
   "source": [
    "data['first_day_exposition'] = pd.to_datetime(data['first_day_exposition'], format = '%Y-%m-%d')\n",
    "data['floors_total'] = data['floors_total'].astype(int)\n",
    "data['days_exposition'] = data['days_exposition'].astype(int)\n",
    "data['last_price'] = data['last_price'].astype(int)"
   ]
  },
  {
   "cell_type": "code",
   "execution_count": 33,
   "metadata": {},
   "outputs": [
    {
     "data": {
      "text/plain": [
       "0"
      ]
     },
     "execution_count": 33,
     "metadata": {},
     "output_type": "execute_result"
    }
   ],
   "source": [
    "data.duplicated().sum()"
   ]
  },
  {
   "cell_type": "markdown",
   "metadata": {},
   "source": [
    "**Вывод:**\n",
    "\n",
    "Данные которые изначально были нам данны, имели множество пропусков, неявных дубликатов и аномалий. Сначала я избавился от пропусков, изменил типы данных, убрал неявные дубликаты и где смог исправил аномалии. Явных дубликатов нет."
   ]
  },
  {
   "cell_type": "markdown",
   "metadata": {},
   "source": [
    "### Посчитайте и добавьте в таблицу новые столбцы"
   ]
  },
  {
   "cell_type": "markdown",
   "metadata": {},
   "source": [
    "**Добавим столбец `price_square_meter` -  цена за квадратный метр и округлим количество знаков после запятой до 2.**"
   ]
  },
  {
   "cell_type": "code",
   "execution_count": 34,
   "metadata": {},
   "outputs": [
    {
     "data": {
      "text/html": [
       "<div>\n",
       "<style scoped>\n",
       "    .dataframe tbody tr th:only-of-type {\n",
       "        vertical-align: middle;\n",
       "    }\n",
       "\n",
       "    .dataframe tbody tr th {\n",
       "        vertical-align: top;\n",
       "    }\n",
       "\n",
       "    .dataframe thead th {\n",
       "        text-align: right;\n",
       "    }\n",
       "</style>\n",
       "<table border=\"1\" class=\"dataframe\">\n",
       "  <thead>\n",
       "    <tr style=\"text-align: right;\">\n",
       "      <th></th>\n",
       "      <th>total_images</th>\n",
       "      <th>last_price</th>\n",
       "      <th>total_area</th>\n",
       "      <th>first_day_exposition</th>\n",
       "      <th>rooms</th>\n",
       "      <th>ceiling_height</th>\n",
       "      <th>floors_total</th>\n",
       "      <th>living_area</th>\n",
       "      <th>floor</th>\n",
       "      <th>is_apartment</th>\n",
       "      <th>...</th>\n",
       "      <th>balcony</th>\n",
       "      <th>locality_name</th>\n",
       "      <th>airports_nearest</th>\n",
       "      <th>cityCenters_nearest</th>\n",
       "      <th>parks_around3000</th>\n",
       "      <th>parks_nearest</th>\n",
       "      <th>ponds_around3000</th>\n",
       "      <th>ponds_nearest</th>\n",
       "      <th>days_exposition</th>\n",
       "      <th>price_square_meter</th>\n",
       "    </tr>\n",
       "  </thead>\n",
       "  <tbody>\n",
       "    <tr>\n",
       "      <th>0</th>\n",
       "      <td>20</td>\n",
       "      <td>13000000</td>\n",
       "      <td>108.0</td>\n",
       "      <td>2019-03-07</td>\n",
       "      <td>3</td>\n",
       "      <td>2.70</td>\n",
       "      <td>16</td>\n",
       "      <td>51.00000</td>\n",
       "      <td>8</td>\n",
       "      <td>False</td>\n",
       "      <td>...</td>\n",
       "      <td>0</td>\n",
       "      <td>санкт-петербург</td>\n",
       "      <td>18863.0</td>\n",
       "      <td>16028.0</td>\n",
       "      <td>1</td>\n",
       "      <td>482.0</td>\n",
       "      <td>2</td>\n",
       "      <td>755.0</td>\n",
       "      <td>0</td>\n",
       "      <td>120370.37</td>\n",
       "    </tr>\n",
       "    <tr>\n",
       "      <th>1</th>\n",
       "      <td>7</td>\n",
       "      <td>3350000</td>\n",
       "      <td>40.4</td>\n",
       "      <td>2018-12-04</td>\n",
       "      <td>1</td>\n",
       "      <td>2.63</td>\n",
       "      <td>11</td>\n",
       "      <td>18.60000</td>\n",
       "      <td>1</td>\n",
       "      <td>False</td>\n",
       "      <td>...</td>\n",
       "      <td>2</td>\n",
       "      <td>шушары</td>\n",
       "      <td>12817.0</td>\n",
       "      <td>18603.0</td>\n",
       "      <td>0</td>\n",
       "      <td>NaN</td>\n",
       "      <td>0</td>\n",
       "      <td>NaN</td>\n",
       "      <td>81</td>\n",
       "      <td>82920.79</td>\n",
       "    </tr>\n",
       "    <tr>\n",
       "      <th>2</th>\n",
       "      <td>10</td>\n",
       "      <td>5196000</td>\n",
       "      <td>56.0</td>\n",
       "      <td>2015-08-20</td>\n",
       "      <td>2</td>\n",
       "      <td>2.70</td>\n",
       "      <td>5</td>\n",
       "      <td>34.30000</td>\n",
       "      <td>4</td>\n",
       "      <td>False</td>\n",
       "      <td>...</td>\n",
       "      <td>0</td>\n",
       "      <td>санкт-петербург</td>\n",
       "      <td>21741.0</td>\n",
       "      <td>13933.0</td>\n",
       "      <td>1</td>\n",
       "      <td>90.0</td>\n",
       "      <td>2</td>\n",
       "      <td>574.0</td>\n",
       "      <td>558</td>\n",
       "      <td>92785.71</td>\n",
       "    </tr>\n",
       "    <tr>\n",
       "      <th>3</th>\n",
       "      <td>0</td>\n",
       "      <td>64900000</td>\n",
       "      <td>159.0</td>\n",
       "      <td>2015-07-24</td>\n",
       "      <td>3</td>\n",
       "      <td>2.70</td>\n",
       "      <td>14</td>\n",
       "      <td>90.79153</td>\n",
       "      <td>9</td>\n",
       "      <td>False</td>\n",
       "      <td>...</td>\n",
       "      <td>0</td>\n",
       "      <td>санкт-петербург</td>\n",
       "      <td>28098.0</td>\n",
       "      <td>6800.0</td>\n",
       "      <td>2</td>\n",
       "      <td>84.0</td>\n",
       "      <td>3</td>\n",
       "      <td>234.0</td>\n",
       "      <td>424</td>\n",
       "      <td>408176.10</td>\n",
       "    </tr>\n",
       "    <tr>\n",
       "      <th>4</th>\n",
       "      <td>2</td>\n",
       "      <td>10000000</td>\n",
       "      <td>100.0</td>\n",
       "      <td>2018-06-19</td>\n",
       "      <td>2</td>\n",
       "      <td>3.03</td>\n",
       "      <td>14</td>\n",
       "      <td>32.00000</td>\n",
       "      <td>13</td>\n",
       "      <td>False</td>\n",
       "      <td>...</td>\n",
       "      <td>0</td>\n",
       "      <td>санкт-петербург</td>\n",
       "      <td>31856.0</td>\n",
       "      <td>8098.0</td>\n",
       "      <td>2</td>\n",
       "      <td>112.0</td>\n",
       "      <td>1</td>\n",
       "      <td>48.0</td>\n",
       "      <td>121</td>\n",
       "      <td>100000.00</td>\n",
       "    </tr>\n",
       "  </tbody>\n",
       "</table>\n",
       "<p>5 rows × 23 columns</p>\n",
       "</div>"
      ],
      "text/plain": [
       "   total_images  last_price  total_area first_day_exposition  rooms  \\\n",
       "0            20    13000000       108.0           2019-03-07      3   \n",
       "1             7     3350000        40.4           2018-12-04      1   \n",
       "2            10     5196000        56.0           2015-08-20      2   \n",
       "3             0    64900000       159.0           2015-07-24      3   \n",
       "4             2    10000000       100.0           2018-06-19      2   \n",
       "\n",
       "   ceiling_height  floors_total  living_area  floor  is_apartment  ...  \\\n",
       "0            2.70            16     51.00000      8         False  ...   \n",
       "1            2.63            11     18.60000      1         False  ...   \n",
       "2            2.70             5     34.30000      4         False  ...   \n",
       "3            2.70            14     90.79153      9         False  ...   \n",
       "4            3.03            14     32.00000     13         False  ...   \n",
       "\n",
       "   balcony    locality_name  airports_nearest  cityCenters_nearest  \\\n",
       "0        0  санкт-петербург           18863.0              16028.0   \n",
       "1        2           шушары           12817.0              18603.0   \n",
       "2        0  санкт-петербург           21741.0              13933.0   \n",
       "3        0  санкт-петербург           28098.0               6800.0   \n",
       "4        0  санкт-петербург           31856.0               8098.0   \n",
       "\n",
       "  parks_around3000  parks_nearest  ponds_around3000  ponds_nearest  \\\n",
       "0                1          482.0                 2          755.0   \n",
       "1                0            NaN                 0            NaN   \n",
       "2                1           90.0                 2          574.0   \n",
       "3                2           84.0                 3          234.0   \n",
       "4                2          112.0                 1           48.0   \n",
       "\n",
       "   days_exposition  price_square_meter  \n",
       "0                0           120370.37  \n",
       "1               81            82920.79  \n",
       "2              558            92785.71  \n",
       "3              424           408176.10  \n",
       "4              121           100000.00  \n",
       "\n",
       "[5 rows x 23 columns]"
      ]
     },
     "execution_count": 34,
     "metadata": {},
     "output_type": "execute_result"
    }
   ],
   "source": [
    "data['price_square_meter'] = round(data['last_price'] / data['total_area'], 2)\n",
    "data.head()"
   ]
  },
  {
   "cell_type": "markdown",
   "metadata": {},
   "source": [
    "**Добавим столбцы:**\n",
    "\n",
    "- `day_on_week_exposition` - день недели публикации объявления (0 — понедельник, 1 — вторник и так далее);\n",
    "- `month_exposition` - месяц публикации объявления;\n",
    "- `year_exposition` - год публикации объявления;"
   ]
  },
  {
   "cell_type": "code",
   "execution_count": 35,
   "metadata": {},
   "outputs": [
    {
     "data": {
      "text/html": [
       "<div>\n",
       "<style scoped>\n",
       "    .dataframe tbody tr th:only-of-type {\n",
       "        vertical-align: middle;\n",
       "    }\n",
       "\n",
       "    .dataframe tbody tr th {\n",
       "        vertical-align: top;\n",
       "    }\n",
       "\n",
       "    .dataframe thead th {\n",
       "        text-align: right;\n",
       "    }\n",
       "</style>\n",
       "<table border=\"1\" class=\"dataframe\">\n",
       "  <thead>\n",
       "    <tr style=\"text-align: right;\">\n",
       "      <th></th>\n",
       "      <th>total_images</th>\n",
       "      <th>last_price</th>\n",
       "      <th>total_area</th>\n",
       "      <th>first_day_exposition</th>\n",
       "      <th>rooms</th>\n",
       "      <th>ceiling_height</th>\n",
       "      <th>floors_total</th>\n",
       "      <th>living_area</th>\n",
       "      <th>floor</th>\n",
       "      <th>is_apartment</th>\n",
       "      <th>...</th>\n",
       "      <th>cityCenters_nearest</th>\n",
       "      <th>parks_around3000</th>\n",
       "      <th>parks_nearest</th>\n",
       "      <th>ponds_around3000</th>\n",
       "      <th>ponds_nearest</th>\n",
       "      <th>days_exposition</th>\n",
       "      <th>price_square_meter</th>\n",
       "      <th>day_on_week_exposition</th>\n",
       "      <th>month_exposition</th>\n",
       "      <th>year_exposition</th>\n",
       "    </tr>\n",
       "  </thead>\n",
       "  <tbody>\n",
       "    <tr>\n",
       "      <th>0</th>\n",
       "      <td>20</td>\n",
       "      <td>13000000</td>\n",
       "      <td>108.0</td>\n",
       "      <td>2019-03-07</td>\n",
       "      <td>3</td>\n",
       "      <td>2.70</td>\n",
       "      <td>16</td>\n",
       "      <td>51.00000</td>\n",
       "      <td>8</td>\n",
       "      <td>False</td>\n",
       "      <td>...</td>\n",
       "      <td>16028.0</td>\n",
       "      <td>1</td>\n",
       "      <td>482.0</td>\n",
       "      <td>2</td>\n",
       "      <td>755.0</td>\n",
       "      <td>0</td>\n",
       "      <td>120370.37</td>\n",
       "      <td>3</td>\n",
       "      <td>3</td>\n",
       "      <td>2019</td>\n",
       "    </tr>\n",
       "    <tr>\n",
       "      <th>1</th>\n",
       "      <td>7</td>\n",
       "      <td>3350000</td>\n",
       "      <td>40.4</td>\n",
       "      <td>2018-12-04</td>\n",
       "      <td>1</td>\n",
       "      <td>2.63</td>\n",
       "      <td>11</td>\n",
       "      <td>18.60000</td>\n",
       "      <td>1</td>\n",
       "      <td>False</td>\n",
       "      <td>...</td>\n",
       "      <td>18603.0</td>\n",
       "      <td>0</td>\n",
       "      <td>NaN</td>\n",
       "      <td>0</td>\n",
       "      <td>NaN</td>\n",
       "      <td>81</td>\n",
       "      <td>82920.79</td>\n",
       "      <td>1</td>\n",
       "      <td>12</td>\n",
       "      <td>2018</td>\n",
       "    </tr>\n",
       "    <tr>\n",
       "      <th>2</th>\n",
       "      <td>10</td>\n",
       "      <td>5196000</td>\n",
       "      <td>56.0</td>\n",
       "      <td>2015-08-20</td>\n",
       "      <td>2</td>\n",
       "      <td>2.70</td>\n",
       "      <td>5</td>\n",
       "      <td>34.30000</td>\n",
       "      <td>4</td>\n",
       "      <td>False</td>\n",
       "      <td>...</td>\n",
       "      <td>13933.0</td>\n",
       "      <td>1</td>\n",
       "      <td>90.0</td>\n",
       "      <td>2</td>\n",
       "      <td>574.0</td>\n",
       "      <td>558</td>\n",
       "      <td>92785.71</td>\n",
       "      <td>3</td>\n",
       "      <td>8</td>\n",
       "      <td>2015</td>\n",
       "    </tr>\n",
       "    <tr>\n",
       "      <th>3</th>\n",
       "      <td>0</td>\n",
       "      <td>64900000</td>\n",
       "      <td>159.0</td>\n",
       "      <td>2015-07-24</td>\n",
       "      <td>3</td>\n",
       "      <td>2.70</td>\n",
       "      <td>14</td>\n",
       "      <td>90.79153</td>\n",
       "      <td>9</td>\n",
       "      <td>False</td>\n",
       "      <td>...</td>\n",
       "      <td>6800.0</td>\n",
       "      <td>2</td>\n",
       "      <td>84.0</td>\n",
       "      <td>3</td>\n",
       "      <td>234.0</td>\n",
       "      <td>424</td>\n",
       "      <td>408176.10</td>\n",
       "      <td>4</td>\n",
       "      <td>7</td>\n",
       "      <td>2015</td>\n",
       "    </tr>\n",
       "    <tr>\n",
       "      <th>4</th>\n",
       "      <td>2</td>\n",
       "      <td>10000000</td>\n",
       "      <td>100.0</td>\n",
       "      <td>2018-06-19</td>\n",
       "      <td>2</td>\n",
       "      <td>3.03</td>\n",
       "      <td>14</td>\n",
       "      <td>32.00000</td>\n",
       "      <td>13</td>\n",
       "      <td>False</td>\n",
       "      <td>...</td>\n",
       "      <td>8098.0</td>\n",
       "      <td>2</td>\n",
       "      <td>112.0</td>\n",
       "      <td>1</td>\n",
       "      <td>48.0</td>\n",
       "      <td>121</td>\n",
       "      <td>100000.00</td>\n",
       "      <td>1</td>\n",
       "      <td>6</td>\n",
       "      <td>2018</td>\n",
       "    </tr>\n",
       "  </tbody>\n",
       "</table>\n",
       "<p>5 rows × 26 columns</p>\n",
       "</div>"
      ],
      "text/plain": [
       "   total_images  last_price  total_area first_day_exposition  rooms  \\\n",
       "0            20    13000000       108.0           2019-03-07      3   \n",
       "1             7     3350000        40.4           2018-12-04      1   \n",
       "2            10     5196000        56.0           2015-08-20      2   \n",
       "3             0    64900000       159.0           2015-07-24      3   \n",
       "4             2    10000000       100.0           2018-06-19      2   \n",
       "\n",
       "   ceiling_height  floors_total  living_area  floor  is_apartment  ...  \\\n",
       "0            2.70            16     51.00000      8         False  ...   \n",
       "1            2.63            11     18.60000      1         False  ...   \n",
       "2            2.70             5     34.30000      4         False  ...   \n",
       "3            2.70            14     90.79153      9         False  ...   \n",
       "4            3.03            14     32.00000     13         False  ...   \n",
       "\n",
       "   cityCenters_nearest  parks_around3000  parks_nearest  ponds_around3000  \\\n",
       "0              16028.0                 1          482.0                 2   \n",
       "1              18603.0                 0            NaN                 0   \n",
       "2              13933.0                 1           90.0                 2   \n",
       "3               6800.0                 2           84.0                 3   \n",
       "4               8098.0                 2          112.0                 1   \n",
       "\n",
       "  ponds_nearest  days_exposition  price_square_meter  day_on_week_exposition  \\\n",
       "0         755.0                0           120370.37                       3   \n",
       "1           NaN               81            82920.79                       1   \n",
       "2         574.0              558            92785.71                       3   \n",
       "3         234.0              424           408176.10                       4   \n",
       "4          48.0              121           100000.00                       1   \n",
       "\n",
       "   month_exposition  year_exposition  \n",
       "0                 3             2019  \n",
       "1                12             2018  \n",
       "2                 8             2015  \n",
       "3                 7             2015  \n",
       "4                 6             2018  \n",
       "\n",
       "[5 rows x 26 columns]"
      ]
     },
     "execution_count": 35,
     "metadata": {},
     "output_type": "execute_result"
    }
   ],
   "source": [
    "data['day_on_week_exposition'] = data['first_day_exposition'].dt.weekday\n",
    "data['month_exposition'] = data['first_day_exposition'].dt.month\n",
    "data['year_exposition'] = data['first_day_exposition'].dt.year\n",
    "data.head()"
   ]
  },
  {
   "cell_type": "markdown",
   "metadata": {},
   "source": [
    "**Добавим столбец `type_floor` - тип этажа квартиры (значения — «первый», «последний», «другой»)**"
   ]
  },
  {
   "cell_type": "code",
   "execution_count": 36,
   "metadata": {},
   "outputs": [],
   "source": [
    "#создаем функцию которая поделит строки на 3 категории:\n",
    "\n",
    "def floor_category(row):\n",
    "    if row['floor'] == 1:\n",
    "        return 'первый'\n",
    "    elif row['floors_total'] == row['floor']:\n",
    "        return 'последний'\n",
    "    else:\n",
    "        return 'другой'"
   ]
  },
  {
   "cell_type": "code",
   "execution_count": 37,
   "metadata": {},
   "outputs": [],
   "source": [
    "data['type_floor'] = data.apply(floor_category, axis=1) "
   ]
  },
  {
   "cell_type": "markdown",
   "metadata": {},
   "source": [
    "**Добавим столбец `cityCenters_nearest_kilometer` - расстояние до центра города в километрах (переведите из м в км и округлите до целых значений)**"
   ]
  },
  {
   "cell_type": "code",
   "execution_count": 38,
   "metadata": {},
   "outputs": [
    {
     "data": {
      "text/html": [
       "<div>\n",
       "<style scoped>\n",
       "    .dataframe tbody tr th:only-of-type {\n",
       "        vertical-align: middle;\n",
       "    }\n",
       "\n",
       "    .dataframe tbody tr th {\n",
       "        vertical-align: top;\n",
       "    }\n",
       "\n",
       "    .dataframe thead th {\n",
       "        text-align: right;\n",
       "    }\n",
       "</style>\n",
       "<table border=\"1\" class=\"dataframe\">\n",
       "  <thead>\n",
       "    <tr style=\"text-align: right;\">\n",
       "      <th></th>\n",
       "      <th>total_images</th>\n",
       "      <th>last_price</th>\n",
       "      <th>total_area</th>\n",
       "      <th>first_day_exposition</th>\n",
       "      <th>rooms</th>\n",
       "      <th>ceiling_height</th>\n",
       "      <th>floors_total</th>\n",
       "      <th>living_area</th>\n",
       "      <th>floor</th>\n",
       "      <th>is_apartment</th>\n",
       "      <th>...</th>\n",
       "      <th>parks_nearest</th>\n",
       "      <th>ponds_around3000</th>\n",
       "      <th>ponds_nearest</th>\n",
       "      <th>days_exposition</th>\n",
       "      <th>price_square_meter</th>\n",
       "      <th>day_on_week_exposition</th>\n",
       "      <th>month_exposition</th>\n",
       "      <th>year_exposition</th>\n",
       "      <th>type_floor</th>\n",
       "      <th>cityCenters_nearest_kilometer</th>\n",
       "    </tr>\n",
       "  </thead>\n",
       "  <tbody>\n",
       "    <tr>\n",
       "      <th>0</th>\n",
       "      <td>20</td>\n",
       "      <td>13000000</td>\n",
       "      <td>108.0</td>\n",
       "      <td>2019-03-07</td>\n",
       "      <td>3</td>\n",
       "      <td>2.70</td>\n",
       "      <td>16</td>\n",
       "      <td>51.00000</td>\n",
       "      <td>8</td>\n",
       "      <td>False</td>\n",
       "      <td>...</td>\n",
       "      <td>482.0</td>\n",
       "      <td>2</td>\n",
       "      <td>755.0</td>\n",
       "      <td>0</td>\n",
       "      <td>120370.37</td>\n",
       "      <td>3</td>\n",
       "      <td>3</td>\n",
       "      <td>2019</td>\n",
       "      <td>другой</td>\n",
       "      <td>16.0</td>\n",
       "    </tr>\n",
       "    <tr>\n",
       "      <th>1</th>\n",
       "      <td>7</td>\n",
       "      <td>3350000</td>\n",
       "      <td>40.4</td>\n",
       "      <td>2018-12-04</td>\n",
       "      <td>1</td>\n",
       "      <td>2.63</td>\n",
       "      <td>11</td>\n",
       "      <td>18.60000</td>\n",
       "      <td>1</td>\n",
       "      <td>False</td>\n",
       "      <td>...</td>\n",
       "      <td>NaN</td>\n",
       "      <td>0</td>\n",
       "      <td>NaN</td>\n",
       "      <td>81</td>\n",
       "      <td>82920.79</td>\n",
       "      <td>1</td>\n",
       "      <td>12</td>\n",
       "      <td>2018</td>\n",
       "      <td>первый</td>\n",
       "      <td>19.0</td>\n",
       "    </tr>\n",
       "    <tr>\n",
       "      <th>2</th>\n",
       "      <td>10</td>\n",
       "      <td>5196000</td>\n",
       "      <td>56.0</td>\n",
       "      <td>2015-08-20</td>\n",
       "      <td>2</td>\n",
       "      <td>2.70</td>\n",
       "      <td>5</td>\n",
       "      <td>34.30000</td>\n",
       "      <td>4</td>\n",
       "      <td>False</td>\n",
       "      <td>...</td>\n",
       "      <td>90.0</td>\n",
       "      <td>2</td>\n",
       "      <td>574.0</td>\n",
       "      <td>558</td>\n",
       "      <td>92785.71</td>\n",
       "      <td>3</td>\n",
       "      <td>8</td>\n",
       "      <td>2015</td>\n",
       "      <td>другой</td>\n",
       "      <td>14.0</td>\n",
       "    </tr>\n",
       "    <tr>\n",
       "      <th>3</th>\n",
       "      <td>0</td>\n",
       "      <td>64900000</td>\n",
       "      <td>159.0</td>\n",
       "      <td>2015-07-24</td>\n",
       "      <td>3</td>\n",
       "      <td>2.70</td>\n",
       "      <td>14</td>\n",
       "      <td>90.79153</td>\n",
       "      <td>9</td>\n",
       "      <td>False</td>\n",
       "      <td>...</td>\n",
       "      <td>84.0</td>\n",
       "      <td>3</td>\n",
       "      <td>234.0</td>\n",
       "      <td>424</td>\n",
       "      <td>408176.10</td>\n",
       "      <td>4</td>\n",
       "      <td>7</td>\n",
       "      <td>2015</td>\n",
       "      <td>другой</td>\n",
       "      <td>7.0</td>\n",
       "    </tr>\n",
       "    <tr>\n",
       "      <th>4</th>\n",
       "      <td>2</td>\n",
       "      <td>10000000</td>\n",
       "      <td>100.0</td>\n",
       "      <td>2018-06-19</td>\n",
       "      <td>2</td>\n",
       "      <td>3.03</td>\n",
       "      <td>14</td>\n",
       "      <td>32.00000</td>\n",
       "      <td>13</td>\n",
       "      <td>False</td>\n",
       "      <td>...</td>\n",
       "      <td>112.0</td>\n",
       "      <td>1</td>\n",
       "      <td>48.0</td>\n",
       "      <td>121</td>\n",
       "      <td>100000.00</td>\n",
       "      <td>1</td>\n",
       "      <td>6</td>\n",
       "      <td>2018</td>\n",
       "      <td>другой</td>\n",
       "      <td>8.0</td>\n",
       "    </tr>\n",
       "  </tbody>\n",
       "</table>\n",
       "<p>5 rows × 28 columns</p>\n",
       "</div>"
      ],
      "text/plain": [
       "   total_images  last_price  total_area first_day_exposition  rooms  \\\n",
       "0            20    13000000       108.0           2019-03-07      3   \n",
       "1             7     3350000        40.4           2018-12-04      1   \n",
       "2            10     5196000        56.0           2015-08-20      2   \n",
       "3             0    64900000       159.0           2015-07-24      3   \n",
       "4             2    10000000       100.0           2018-06-19      2   \n",
       "\n",
       "   ceiling_height  floors_total  living_area  floor  is_apartment  ...  \\\n",
       "0            2.70            16     51.00000      8         False  ...   \n",
       "1            2.63            11     18.60000      1         False  ...   \n",
       "2            2.70             5     34.30000      4         False  ...   \n",
       "3            2.70            14     90.79153      9         False  ...   \n",
       "4            3.03            14     32.00000     13         False  ...   \n",
       "\n",
       "   parks_nearest  ponds_around3000  ponds_nearest  days_exposition  \\\n",
       "0          482.0                 2          755.0                0   \n",
       "1            NaN                 0            NaN               81   \n",
       "2           90.0                 2          574.0              558   \n",
       "3           84.0                 3          234.0              424   \n",
       "4          112.0                 1           48.0              121   \n",
       "\n",
       "  price_square_meter  day_on_week_exposition  month_exposition  \\\n",
       "0          120370.37                       3                 3   \n",
       "1           82920.79                       1                12   \n",
       "2           92785.71                       3                 8   \n",
       "3          408176.10                       4                 7   \n",
       "4          100000.00                       1                 6   \n",
       "\n",
       "   year_exposition  type_floor  cityCenters_nearest_kilometer  \n",
       "0             2019      другой                           16.0  \n",
       "1             2018      первый                           19.0  \n",
       "2             2015      другой                           14.0  \n",
       "3             2015      другой                            7.0  \n",
       "4             2018      другой                            8.0  \n",
       "\n",
       "[5 rows x 28 columns]"
      ]
     },
     "execution_count": 38,
     "metadata": {},
     "output_type": "execute_result"
    }
   ],
   "source": [
    "data['cityCenters_nearest_kilometer'] = round(data['cityCenters_nearest'] / 1000)\n",
    "data.head()"
   ]
  },
  {
   "cell_type": "markdown",
   "metadata": {},
   "source": [
    "### Проведите исследовательский анализ данных"
   ]
  },
  {
   "cell_type": "markdown",
   "metadata": {},
   "source": [
    "**Изучим общую площадь**"
   ]
  },
  {
   "cell_type": "code",
   "execution_count": 39,
   "metadata": {},
   "outputs": [
    {
     "data": {
      "text/plain": [
       "count    23512.000000\n",
       "mean        60.390836\n",
       "std         35.707224\n",
       "min         12.000000\n",
       "25%         40.000000\n",
       "50%         52.000000\n",
       "75%         70.000000\n",
       "max        900.000000\n",
       "Name: total_area, dtype: float64"
      ]
     },
     "execution_count": 39,
     "metadata": {},
     "output_type": "execute_result"
    },
    {
     "data": {
      "image/png": "[encoded data removed]",
      "text/plain": [
       "<Figure size 720x432 with 1 Axes>"
      ]
     },
     "metadata": {
      "needs_background": "light"
     },
     "output_type": "display_data"
    }
   ],
   "source": [
    "data.plot(y='total_area', kind='hist', bins=50, grid=True, figsize=(10,6), range=(0,250))\n",
    "data['total_area'].describe()"
   ]
  },
  {
   "cell_type": "markdown",
   "metadata": {},
   "source": [
    "На гистограме и в описании `total_area` мы видим, что в основном площадь квартиры находится в области около `40-50` кв.м.\n",
    "Минимальная площадь `12` кв.м, максимальная `900` кв.м. Медианное значение `52` кв.м. "
   ]
  },
  {
   "cell_type": "markdown",
   "metadata": {},
   "source": [
    "**Изучим жилую площадь и площадь кухни**"
   ]
  },
  {
   "cell_type": "code",
   "execution_count": 40,
   "metadata": {},
   "outputs": [
    {
     "data": {
      "text/plain": [
       "count    23512.000000\n",
       "mean        34.629260\n",
       "std         22.402651\n",
       "min          2.000000\n",
       "25%         19.000000\n",
       "50%         30.000000\n",
       "75%         42.200000\n",
       "max        409.700000\n",
       "Name: living_area, dtype: float64"
      ]
     },
     "execution_count": 40,
     "metadata": {},
     "output_type": "execute_result"
    },
    {
     "data": {
      "image/png": "[encoded data removed]",
      "text/plain": [
       "<Figure size 720x432 with 1 Axes>"
      ]
     },
     "metadata": {
      "needs_background": "light"
     },
     "output_type": "display_data"
    }
   ],
   "source": [
    "data.plot(y='living_area', kind='hist', bins=50, grid=True, figsize=(10,6), range=(0,100))\n",
    "data['living_area'].describe()"
   ]
  },
  {
   "cell_type": "code",
   "execution_count": 41,
   "metadata": {},
   "outputs": [
    {
     "data": {
      "text/plain": [
       "count    23512.000000\n",
       "mean        10.512449\n",
       "std          6.049257\n",
       "min          1.300000\n",
       "25%          7.000000\n",
       "50%          9.000000\n",
       "75%         12.000000\n",
       "max        112.000000\n",
       "Name: kitchen_area, dtype: float64"
      ]
     },
     "execution_count": 41,
     "metadata": {},
     "output_type": "execute_result"
    },
    {
     "data": {
      "image/png": "[encoded data removed]",
      "text/plain": [
       "<Figure size 720x432 with 1 Axes>"
      ]
     },
     "metadata": {
      "needs_background": "light"
     },
     "output_type": "display_data"
    }
   ],
   "source": [
    "data.plot(y='kitchen_area', kind='hist', bins=30, grid=True, figsize=(10,6), range=(0,60))\n",
    "data['kitchen_area'].describe()"
   ]
  },
  {
   "cell_type": "markdown",
   "metadata": {},
   "source": [
    "**Вывод по жилой площади**\n",
    "\n",
    "Большой всплеск квартир с жилой площадью `15-20` кв.м и чуть меньший всплеск в районе `25-30` кв.м. Смущает минимальная квадратура жилой площади `2` кв.м\n",
    "\n",
    "**Вывод по кухонной площади**\n",
    "\n",
    "В основном площадь кухонь располагается в районе `5-12` кв.м. Так же смущает минимальная квадратура кухни `1,3` кв.м, но здесь этому есть объяснение, возможно это кухонная зона в студии.\n",
    "\n"
   ]
  },
  {
   "cell_type": "markdown",
   "metadata": {},
   "source": [
    "**Изучим цену объектов**"
   ]
  },
  {
   "cell_type": "code",
   "execution_count": 42,
   "metadata": {},
   "outputs": [
    {
     "data": {
      "text/plain": [
       "count    23512.000000\n",
       "mean         6.560461\n",
       "std         10.920463\n",
       "min          0.012190\n",
       "25%          3.450000\n",
       "50%          4.650000\n",
       "75%          6.800000\n",
       "max        763.000000\n",
       "Name: last_price_million, dtype: float64"
      ]
     },
     "execution_count": 42,
     "metadata": {},
     "output_type": "execute_result"
    },
    {
     "data": {
      "image/png": "[encoded data removed]",
      "text/plain": [
       "<Figure size 720x432 with 1 Axes>"
      ]
     },
     "metadata": {
      "needs_background": "light"
     },
     "output_type": "display_data"
    }
   ],
   "source": [
    "#Создам дополнительный столбец в котором цена будеn указана в миллионах\n",
    "data['last_price_million'] = data['last_price'] / 1000000\n",
    "data.plot(y = 'last_price_million', kind = 'hist', bins = 50, grid=True, range = (0,50), figsize = (10,6))\n",
    "data['last_price_million'].describe()"
   ]
  },
  {
   "cell_type": "markdown",
   "metadata": {},
   "source": [
    "Большинство квартир в районе `4` млн.руб. после `4` млн. руб. наблюдается тендцения на падение кол-ва квартир, в некоторых областях есть незначительное возвышение. В среднем цена на квартиру `6.5` млн.руб. Квартиру за `763` млн.руб. (максимальная цена) в интернете я найти смог для утверждения, а вот дешевой квартиры с ценой `120` тыс.руб. (минимальная цена) не смог, с этим вопросом следует обрадиться к сотрудникам предоставившим данные.\n"
   ]
  },
  {
   "cell_type": "markdown",
   "metadata": {},
   "source": [
    "**Изучим количество комнат**"
   ]
  },
  {
   "cell_type": "code",
   "execution_count": 43,
   "metadata": {},
   "outputs": [
    {
     "data": {
      "text/plain": [
       "count    23512.000000\n",
       "mean         2.072048\n",
       "std          1.079463\n",
       "min          0.000000\n",
       "25%          1.000000\n",
       "50%          2.000000\n",
       "75%          3.000000\n",
       "max         19.000000\n",
       "Name: rooms, dtype: float64"
      ]
     },
     "execution_count": 43,
     "metadata": {},
     "output_type": "execute_result"
    },
    {
     "data": {
      "image/png": "[encoded data removed]",
      "text/plain": [
       "<Figure size 720x432 with 1 Axes>"
      ]
     },
     "metadata": {
      "needs_background": "light"
     },
     "output_type": "display_data"
    }
   ],
   "source": [
    "data.plot(y = 'rooms', kind = 'hist', bins = 30, grid=True, range = (0,10), figsize = (10,6))\n",
    "data['rooms'].describe()"
   ]
  },
  {
   "cell_type": "markdown",
   "metadata": {},
   "source": [
    "Большая часть квартир являются однокомнатными и двукомнатными, с увеличением количества комнат, уменьшается количество квартир"
   ]
  },
  {
   "cell_type": "markdown",
   "metadata": {},
   "source": [
    "**Изучим высоту потолков**"
   ]
  },
  {
   "cell_type": "code",
   "execution_count": 44,
   "metadata": {},
   "outputs": [
    {
     "data": {
      "text/plain": [
       "count    23512.000000\n",
       "mean         2.707118\n",
       "std          0.280938\n",
       "min          2.200000\n",
       "25%          2.550000\n",
       "50%          2.700000\n",
       "75%          2.700000\n",
       "max         20.000000\n",
       "Name: ceiling_height, dtype: float64"
      ]
     },
     "execution_count": 44,
     "metadata": {},
     "output_type": "execute_result"
    },
    {
     "data": {
      "image/png": "[encoded data removed]",
      "text/plain": [
       "<Figure size 720x432 with 1 Axes>"
      ]
     },
     "metadata": {
      "needs_background": "light"
     },
     "output_type": "display_data"
    }
   ],
   "source": [
    "data.plot(y = 'ceiling_height', kind = 'hist', bins = 50, grid=True, range = (0,5), figsize = (10,6))\n",
    "data['ceiling_height'].describe()\n",
    "\n"
   ]
  },
  {
   "cell_type": "code",
   "execution_count": 45,
   "metadata": {},
   "outputs": [
    {
     "data": {
      "text/plain": [
       "(0.0, 20.0)"
      ]
     },
     "execution_count": 45,
     "metadata": {},
     "output_type": "execute_result"
    },
    {
     "data": {
      "image/png": "[encoded data removed]",
      "text/plain": [
       "<Figure size 720x720 with 1 Axes>"
      ]
     },
     "metadata": {
      "needs_background": "light"
     },
     "output_type": "display_data"
    }
   ],
   "source": [
    "data.boxplot('ceiling_height', figsize=(10,10))\n",
    "plt.ylim(0, 20)\n"
   ]
  },
  {
   "cell_type": "markdown",
   "metadata": {},
   "source": [
    "Высота потолков в среднем составляет 2,71 м и очень близка к медиане 2,7 м."
   ]
  },
  {
   "cell_type": "markdown",
   "metadata": {},
   "source": [
    "**Изучим этажность квартир**"
   ]
  },
  {
   "cell_type": "code",
   "execution_count": 46,
   "metadata": {},
   "outputs": [
    {
     "data": {
      "text/plain": [
       "count    23512.000000\n",
       "mean         5.889716\n",
       "std          4.877693\n",
       "min          1.000000\n",
       "25%          2.000000\n",
       "50%          4.000000\n",
       "75%          8.000000\n",
       "max         33.000000\n",
       "Name: floor, dtype: float64"
      ]
     },
     "execution_count": 46,
     "metadata": {},
     "output_type": "execute_result"
    },
    {
     "data": {
      "image/png": "[encoded data removed]",
      "text/plain": [
       "<Figure size 720x432 with 1 Axes>"
      ]
     },
     "metadata": {
      "needs_background": "light"
     },
     "output_type": "display_data"
    }
   ],
   "source": [
    "data.plot(y = 'floor', kind = 'hist', bins = 30, grid=True, range = (0,30), figsize = (10,6))\n",
    "data['floor'].describe()"
   ]
  },
  {
   "cell_type": "code",
   "execution_count": 47,
   "metadata": {},
   "outputs": [
    {
     "data": {
      "text/plain": [
       "type_floor\n",
       "другой       17322\n",
       "первый        2884\n",
       "последний     3306\n",
       "Name: type_floor, dtype: int64"
      ]
     },
     "execution_count": 47,
     "metadata": {},
     "output_type": "execute_result"
    },
    {
     "data": {
      "image/png": "[encoded data removed]",
      "text/plain": [
       "<Figure size 720x432 with 1 Axes>"
      ]
     },
     "metadata": {
      "needs_background": "light"
     },
     "output_type": "display_data"
    }
   ],
   "source": [
    "#Выполнил визуализацию\n",
    "type_floor222 = data.groupby('type_floor')['type_floor'].count()\n",
    "type_floor222.columns = ['count']\n",
    "type_floor222.plot(y = 'count', kind='bar', figsize=(10,6))\n",
    "type_floor222 "
   ]
  },
  {
   "cell_type": "markdown",
   "metadata": {},
   "source": [
    "Чаще всего квартиры располагаются `со 2 по 6 этаж`, меньше всего квартир на `первых` этажах и чуть больше на `последних`."
   ]
  },
  {
   "cell_type": "markdown",
   "metadata": {},
   "source": [
    "**Изучим общее количество этажей в доме**"
   ]
  },
  {
   "cell_type": "code",
   "execution_count": 48,
   "metadata": {},
   "outputs": [
    {
     "data": {
      "text/plain": [
       "count    23512.000000\n",
       "mean        10.698069\n",
       "std          6.593947\n",
       "min          1.000000\n",
       "25%          5.000000\n",
       "50%          9.000000\n",
       "75%         16.000000\n",
       "max         60.000000\n",
       "Name: floors_total, dtype: float64"
      ]
     },
     "execution_count": 48,
     "metadata": {},
     "output_type": "execute_result"
    },
    {
     "data": {
      "image/png": "[encoded data removed]",
      "text/plain": [
       "<Figure size 720x432 with 1 Axes>"
      ]
     },
     "metadata": {
      "needs_background": "light"
     },
     "output_type": "display_data"
    }
   ],
   "source": [
    "data.plot(y = 'floors_total', kind = 'hist', bins = 30, grid=True, range = (0,30), figsize = (10,6))\n",
    "data['floors_total'].describe()"
   ]
  },
  {
   "cell_type": "markdown",
   "metadata": {},
   "source": [
    "Больше всего `5` этажных (больше 5 тысяч) и `9` этажных домов (чуть меньше 4 тысяч)"
   ]
  },
  {
   "cell_type": "markdown",
   "metadata": {},
   "source": [
    "**Изучим расстояние до центра города в метрах**"
   ]
  },
  {
   "cell_type": "code",
   "execution_count": 49,
   "metadata": {},
   "outputs": [
    {
     "data": {
      "text/plain": [
       "count    18171.000000\n",
       "mean     14179.323800\n",
       "std       8607.328942\n",
       "min        181.000000\n",
       "25%       9241.000000\n",
       "50%      13063.000000\n",
       "75%      16275.000000\n",
       "max      65968.000000\n",
       "Name: cityCenters_nearest, dtype: float64"
      ]
     },
     "execution_count": 49,
     "metadata": {},
     "output_type": "execute_result"
    },
    {
     "data": {
      "image/png": "[encoded data removed]",
      "text/plain": [
       "<Figure size 864x432 with 1 Axes>"
      ]
     },
     "metadata": {
      "needs_background": "light"
     },
     "output_type": "display_data"
    }
   ],
   "source": [
    "data.plot(y = 'cityCenters_nearest', kind = 'hist', bins = 50, grid=True, range = (0,55000), figsize = (12,6))\n",
    "data['cityCenters_nearest'].describe()"
   ]
  },
  {
   "cell_type": "markdown",
   "metadata": {},
   "source": [
    "Самое большое расстояние до центра `66` тыс.м. в среднем квартиры от центра располагаются в промежутке `от 11 до 16` тыс.м. Есть те кто буквально живут в центре `181` м. "
   ]
  },
  {
   "cell_type": "markdown",
   "metadata": {},
   "source": [
    "**Изучим расстояние до ближайшего аэропорта**"
   ]
  },
  {
   "cell_type": "code",
   "execution_count": 50,
   "metadata": {},
   "outputs": [
    {
     "data": {
      "text/plain": [
       "21008    0.0\n",
       "Name: airports_nearest, dtype: float64"
      ]
     },
     "execution_count": 50,
     "metadata": {},
     "output_type": "execute_result"
    }
   ],
   "source": [
    "data[data['airports_nearest'] <= 5000]['airports_nearest']"
   ]
  },
  {
   "cell_type": "markdown",
   "metadata": {},
   "source": [
    "Возможно это квартира главного героя из фильма \"Терминал\", но для гистограммы я отложу эту строку"
   ]
  },
  {
   "cell_type": "code",
   "execution_count": 51,
   "metadata": {},
   "outputs": [],
   "source": [
    "#Создал временный датафрэйм чтобы с помощью среза избавиться от аномальной строки\n",
    "temporary_data = data.query('airports_nearest != 0')"
   ]
  },
  {
   "cell_type": "code",
   "execution_count": 52,
   "metadata": {},
   "outputs": [
    {
     "data": {
      "text/plain": [
       "count    18170.000000\n",
       "mean     28782.547390\n",
       "std      12595.226396\n",
       "min       6450.000000\n",
       "25%      18608.250000\n",
       "50%      26782.500000\n",
       "75%      37153.000000\n",
       "max      84869.000000\n",
       "Name: airports_nearest, dtype: float64"
      ]
     },
     "execution_count": 52,
     "metadata": {},
     "output_type": "execute_result"
    },
    {
     "data": {
      "image/png": "[encoded data removed]",
      "text/plain": [
       "<Figure size 864x432 with 1 Axes>"
      ]
     },
     "metadata": {
      "needs_background": "light"
     },
     "output_type": "display_data"
    }
   ],
   "source": [
    "temporary_data.plot(y = 'airports_nearest', kind = 'hist', bins = 50, grid=True, range = (0,75000), figsize = (12,6))\n",
    "temporary_data['airports_nearest'].describe()"
   ]
  },
  {
   "cell_type": "markdown",
   "metadata": {},
   "source": [
    "Ближе всех к аэропорту распологается квартира на расстоянии `6.5` тыс.м., а дальше всех на расстоянии `85` тыс.м. В среднем квартиры располагаются на растоянии `29` тыс. м."
   ]
  },
  {
   "cell_type": "markdown",
   "metadata": {},
   "source": [
    "**Изучим расстояние до ближайшего парка**"
   ]
  },
  {
   "cell_type": "code",
   "execution_count": 53,
   "metadata": {},
   "outputs": [
    {
     "data": {
      "text/plain": [
       "count    8042.000000\n",
       "mean      490.565904\n",
       "std       341.392007\n",
       "min         1.000000\n",
       "25%       288.000000\n",
       "50%       455.000000\n",
       "75%       612.000000\n",
       "max      3190.000000\n",
       "Name: parks_nearest, dtype: float64"
      ]
     },
     "execution_count": 53,
     "metadata": {},
     "output_type": "execute_result"
    },
    {
     "data": {
      "image/png": "[encoded data removed]",
      "text/plain": [
       "<Figure size 864x432 with 1 Axes>"
      ]
     },
     "metadata": {
      "needs_background": "light"
     },
     "output_type": "display_data"
    }
   ],
   "source": [
    "data.plot(y = 'parks_nearest', kind = 'hist', bins = 50, grid=True, range = (0,3000), figsize = (12,6))\n",
    "data['parks_nearest'].describe()"
   ]
  },
  {
   "cell_type": "markdown",
   "metadata": {},
   "source": [
    "Количество квартир расположенных в пределах `3` км. от парка `8042`. В среднем квартиры располагаются на растоянии `490` м."
   ]
  },
  {
   "cell_type": "markdown",
   "metadata": {},
   "source": [
    "**Изучим день и месяц публикации объявления**"
   ]
  },
  {
   "cell_type": "code",
   "execution_count": 54,
   "metadata": {},
   "outputs": [
    {
     "name": "stdout",
     "output_type": "stream",
     "text": [
      "<class 'pandas.core.frame.DataFrame'>\n",
      "Int64Index: 23512 entries, 0 to 23611\n",
      "Data columns (total 29 columns):\n",
      " #   Column                         Non-Null Count  Dtype         \n",
      "---  ------                         --------------  -----         \n",
      " 0   total_images                   23512 non-null  int64         \n",
      " 1   last_price                     23512 non-null  int32         \n",
      " 2   total_area                     23512 non-null  float64       \n",
      " 3   first_day_exposition           23512 non-null  datetime64[ns]\n",
      " 4   rooms                          23512 non-null  int64         \n",
      " 5   ceiling_height                 23512 non-null  float64       \n",
      " 6   floors_total                   23512 non-null  int32         \n",
      " 7   living_area                    23512 non-null  float64       \n",
      " 8   floor                          23512 non-null  int64         \n",
      " 9   is_apartment                   23512 non-null  bool          \n",
      " 10  studio                         23512 non-null  bool          \n",
      " 11  open_plan                      23512 non-null  bool          \n",
      " 12  kitchen_area                   23512 non-null  float64       \n",
      " 13  balcony                        23512 non-null  int32         \n",
      " 14  locality_name                  23512 non-null  object        \n",
      " 15  airports_nearest               18171 non-null  float64       \n",
      " 16  cityCenters_nearest            18171 non-null  float64       \n",
      " 17  parks_around3000               23512 non-null  int32         \n",
      " 18  parks_nearest                  8042 non-null   float64       \n",
      " 19  ponds_around3000               23512 non-null  int32         \n",
      " 20  ponds_nearest                  9055 non-null   float64       \n",
      " 21  days_exposition                23512 non-null  int32         \n",
      " 22  price_square_meter             23512 non-null  float64       \n",
      " 23  day_on_week_exposition         23512 non-null  int64         \n",
      " 24  month_exposition               23512 non-null  int64         \n",
      " 25  year_exposition                23512 non-null  int64         \n",
      " 26  type_floor                     23512 non-null  object        \n",
      " 27  cityCenters_nearest_kilometer  18171 non-null  float64       \n",
      " 28  last_price_million             23512 non-null  float64       \n",
      "dtypes: bool(3), datetime64[ns](1), float64(11), int32(6), int64(6), object(2)\n",
      "memory usage: 4.4+ MB\n"
     ]
    }
   ],
   "source": [
    "data.info()"
   ]
  },
  {
   "cell_type": "code",
   "execution_count": 55,
   "metadata": {},
   "outputs": [
    {
     "data": {
      "text/plain": [
       "count    23512.000000\n",
       "mean         2.566647\n",
       "std          1.788264\n",
       "min          0.000000\n",
       "25%          1.000000\n",
       "50%          3.000000\n",
       "75%          4.000000\n",
       "max          6.000000\n",
       "Name: day_on_week_exposition, dtype: float64"
      ]
     },
     "execution_count": 55,
     "metadata": {},
     "output_type": "execute_result"
    },
    {
     "data": {
      "image/png": "[encoded data removed]",
      "text/plain": [
       "<Figure size 864x432 with 1 Axes>"
      ]
     },
     "metadata": {
      "needs_background": "light"
     },
     "output_type": "display_data"
    }
   ],
   "source": [
    "data.plot(y = 'day_on_week_exposition', kind = 'hist', bins = 50, grid=True, range = (0,6), figsize = (12,6))\n",
    "data['day_on_week_exposition'].describe()"
   ]
  },
  {
   "cell_type": "markdown",
   "metadata": {},
   "source": [
    "В `воскресенье` редко выставляют объявления, чаще всего это происходит во `вторник и четверг`. В целом по `будням` почти одинаковое распределение"
   ]
  },
  {
   "cell_type": "code",
   "execution_count": 56,
   "metadata": {},
   "outputs": [
    {
     "data": {
      "text/plain": [
       "count    23512.000000\n",
       "mean         6.399668\n",
       "std          3.492893\n",
       "min          1.000000\n",
       "25%          3.000000\n",
       "50%          6.000000\n",
       "75%         10.000000\n",
       "max         12.000000\n",
       "Name: month_exposition, dtype: float64"
      ]
     },
     "execution_count": 56,
     "metadata": {},
     "output_type": "execute_result"
    },
    {
     "data": {
      "image/png": "[encoded data removed]",
      "text/plain": [
       "<Figure size 864x432 with 1 Axes>"
      ]
     },
     "metadata": {
      "needs_background": "light"
     },
     "output_type": "display_data"
    }
   ],
   "source": [
    "data.plot(y = 'month_exposition', kind = 'hist', bins = 100, grid=True, range = (1,12), figsize = (12,6))\n",
    "data['month_exposition'].describe()"
   ]
  },
  {
   "cell_type": "markdown",
   "metadata": {},
   "source": [
    "Чаще всего квартиры выставляли на продажу в `феврале` и `марте`, меньше всего объявлений в `мае`. В мае не до продаж, все на огородах=)"
   ]
  },
  {
   "cell_type": "markdown",
   "metadata": {},
   "source": [
    "**2:**\n",
    "\n",
    "**Изучите, как быстро продавались квартиры (столбец days_exposition). Этот параметр показывает, сколько дней было размещено каждое объявление.**"
   ]
  },
  {
   "cell_type": "markdown",
   "metadata": {},
   "source": [
    "Создадим временный датафрейм избавившись от 0."
   ]
  },
  {
   "cell_type": "code",
   "execution_count": 57,
   "metadata": {},
   "outputs": [],
   "source": [
    "exp_data = data.query('days_exposition != 0')"
   ]
  },
  {
   "cell_type": "code",
   "execution_count": 58,
   "metadata": {},
   "outputs": [
    {
     "data": {
      "text/plain": [
       "count    20363.000000\n",
       "mean       181.126651\n",
       "std        219.893816\n",
       "min          1.000000\n",
       "25%         45.000000\n",
       "50%         95.000000\n",
       "75%        232.000000\n",
       "max       1580.000000\n",
       "Name: days_exposition, dtype: float64"
      ]
     },
     "execution_count": 58,
     "metadata": {},
     "output_type": "execute_result"
    },
    {
     "data": {
      "image/png": "[encoded data removed]",
      "text/plain": [
       "<Figure size 936x360 with 1 Axes>"
      ]
     },
     "metadata": {
      "needs_background": "light"
     },
     "output_type": "display_data"
    }
   ],
   "source": [
    "exp_data.plot(y = 'days_exposition', kind = 'hist', bins = 400, grid=True, range = (0,1200), figsize = (13,5))\n",
    "exp_data['days_exposition'].describe()"
   ]
  },
  {
   "cell_type": "code",
   "execution_count": 59,
   "metadata": {},
   "outputs": [
    {
     "data": {
      "text/plain": [
       "(-10.0, 1200.0)"
      ]
     },
     "execution_count": 59,
     "metadata": {},
     "output_type": "execute_result"
    },
    {
     "data": {
      "image/png": "[encoded data removed]",
      "text/plain": [
       "<Figure size 864x432 with 1 Axes>"
      ]
     },
     "metadata": {
      "needs_background": "light"
     },
     "output_type": "display_data"
    }
   ],
   "source": [
    "exp_data.boxplot('days_exposition', figsize =(12,6))\n",
    "plt.ylim(-10, 1200)"
   ]
  },
  {
   "cell_type": "markdown",
   "metadata": {},
   "source": [
    "В среднем объявление о продаже висит на сайте `181` день, медианное значение `95` дней. Нормальное распределение продаж от `1 до 500` дней, имеются выбросы. `1580` дней максимальное количество дней. Большая часть квартир продавалась в течение первых `50` дней, есть и квартиры, которые продавались до `года`. Чем дальше, тем реже встречаются такие случаи."
   ]
  },
  {
   "cell_type": "markdown",
   "metadata": {},
   "source": [
    "**3:**\n",
    "\n",
    "**Какие факторы больше всего влияют на общую (полную) стоимость объекта?**\n",
    "\n",
    "- общей площади;\n",
    "- жилой площади;\n",
    "- площади кухни;\n",
    "- количества комнат;\n",
    "- этажа, на котором расположена квартира (первый, последний, другой);\n",
    "- даты размещения (день недели, месяц, год).\n"
   ]
  },
  {
   "cell_type": "code",
   "execution_count": 60,
   "metadata": {},
   "outputs": [
    {
     "data": {
      "text/html": [
       "<div>\n",
       "<style scoped>\n",
       "    .dataframe tbody tr th:only-of-type {\n",
       "        vertical-align: middle;\n",
       "    }\n",
       "\n",
       "    .dataframe tbody tr th {\n",
       "        vertical-align: top;\n",
       "    }\n",
       "\n",
       "    .dataframe thead th {\n",
       "        text-align: right;\n",
       "    }\n",
       "</style>\n",
       "<table border=\"1\" class=\"dataframe\">\n",
       "  <thead>\n",
       "    <tr style=\"text-align: right;\">\n",
       "      <th></th>\n",
       "      <th>total_area</th>\n",
       "      <th>living_area</th>\n",
       "      <th>kitchen_area</th>\n",
       "      <th>rooms</th>\n",
       "      <th>day_on_week_exposition</th>\n",
       "      <th>month_exposition</th>\n",
       "      <th>year_exposition</th>\n",
       "      <th>last_price</th>\n",
       "    </tr>\n",
       "  </thead>\n",
       "  <tbody>\n",
       "    <tr>\n",
       "      <th>total_area</th>\n",
       "      <td>1.000000</td>\n",
       "      <td>0.946265</td>\n",
       "      <td>0.660306</td>\n",
       "      <td>0.758362</td>\n",
       "      <td>-0.005700</td>\n",
       "      <td>0.004899</td>\n",
       "      <td>-0.079300</td>\n",
       "      <td>0.653509</td>\n",
       "    </tr>\n",
       "    <tr>\n",
       "      <th>living_area</th>\n",
       "      <td>0.946265</td>\n",
       "      <td>1.000000</td>\n",
       "      <td>0.502492</td>\n",
       "      <td>0.827192</td>\n",
       "      <td>-0.004914</td>\n",
       "      <td>-0.000237</td>\n",
       "      <td>-0.071786</td>\n",
       "      <td>0.585644</td>\n",
       "    </tr>\n",
       "    <tr>\n",
       "      <th>kitchen_area</th>\n",
       "      <td>0.660306</td>\n",
       "      <td>0.502492</td>\n",
       "      <td>1.000000</td>\n",
       "      <td>0.325174</td>\n",
       "      <td>-0.005891</td>\n",
       "      <td>0.003574</td>\n",
       "      <td>-0.059325</td>\n",
       "      <td>0.514016</td>\n",
       "    </tr>\n",
       "    <tr>\n",
       "      <th>rooms</th>\n",
       "      <td>0.758362</td>\n",
       "      <td>0.827192</td>\n",
       "      <td>0.325174</td>\n",
       "      <td>1.000000</td>\n",
       "      <td>-0.005550</td>\n",
       "      <td>-0.004084</td>\n",
       "      <td>-0.055299</td>\n",
       "      <td>0.363241</td>\n",
       "    </tr>\n",
       "    <tr>\n",
       "      <th>day_on_week_exposition</th>\n",
       "      <td>-0.005700</td>\n",
       "      <td>-0.004914</td>\n",
       "      <td>-0.005891</td>\n",
       "      <td>-0.005550</td>\n",
       "      <td>1.000000</td>\n",
       "      <td>0.012694</td>\n",
       "      <td>-0.004226</td>\n",
       "      <td>0.001621</td>\n",
       "    </tr>\n",
       "    <tr>\n",
       "      <th>month_exposition</th>\n",
       "      <td>0.004899</td>\n",
       "      <td>-0.000237</td>\n",
       "      <td>0.003574</td>\n",
       "      <td>-0.004084</td>\n",
       "      <td>0.012694</td>\n",
       "      <td>1.000000</td>\n",
       "      <td>-0.270129</td>\n",
       "      <td>0.002841</td>\n",
       "    </tr>\n",
       "    <tr>\n",
       "      <th>year_exposition</th>\n",
       "      <td>-0.079300</td>\n",
       "      <td>-0.071786</td>\n",
       "      <td>-0.059325</td>\n",
       "      <td>-0.055299</td>\n",
       "      <td>-0.004226</td>\n",
       "      <td>-0.270129</td>\n",
       "      <td>1.000000</td>\n",
       "      <td>-0.042630</td>\n",
       "    </tr>\n",
       "    <tr>\n",
       "      <th>last_price</th>\n",
       "      <td>0.653509</td>\n",
       "      <td>0.585644</td>\n",
       "      <td>0.514016</td>\n",
       "      <td>0.363241</td>\n",
       "      <td>0.001621</td>\n",
       "      <td>0.002841</td>\n",
       "      <td>-0.042630</td>\n",
       "      <td>1.000000</td>\n",
       "    </tr>\n",
       "  </tbody>\n",
       "</table>\n",
       "</div>"
      ],
      "text/plain": [
       "                        total_area  living_area  kitchen_area     rooms  \\\n",
       "total_area                1.000000     0.946265      0.660306  0.758362   \n",
       "living_area               0.946265     1.000000      0.502492  0.827192   \n",
       "kitchen_area              0.660306     0.502492      1.000000  0.325174   \n",
       "rooms                     0.758362     0.827192      0.325174  1.000000   \n",
       "day_on_week_exposition   -0.005700    -0.004914     -0.005891 -0.005550   \n",
       "month_exposition          0.004899    -0.000237      0.003574 -0.004084   \n",
       "year_exposition          -0.079300    -0.071786     -0.059325 -0.055299   \n",
       "last_price                0.653509     0.585644      0.514016  0.363241   \n",
       "\n",
       "                        day_on_week_exposition  month_exposition  \\\n",
       "total_area                           -0.005700          0.004899   \n",
       "living_area                          -0.004914         -0.000237   \n",
       "kitchen_area                         -0.005891          0.003574   \n",
       "rooms                                -0.005550         -0.004084   \n",
       "day_on_week_exposition                1.000000          0.012694   \n",
       "month_exposition                      0.012694          1.000000   \n",
       "year_exposition                      -0.004226         -0.270129   \n",
       "last_price                            0.001621          0.002841   \n",
       "\n",
       "                        year_exposition  last_price  \n",
       "total_area                    -0.079300    0.653509  \n",
       "living_area                   -0.071786    0.585644  \n",
       "kitchen_area                  -0.059325    0.514016  \n",
       "rooms                         -0.055299    0.363241  \n",
       "day_on_week_exposition        -0.004226    0.001621  \n",
       "month_exposition              -0.270129    0.002841  \n",
       "year_exposition                1.000000   -0.042630  \n",
       "last_price                    -0.042630    1.000000  "
      ]
     },
     "metadata": {},
     "output_type": "display_data"
    }
   ],
   "source": [
    "display(\n",
    "    data[\n",
    "        ['total_area','living_area','kitchen_area','rooms','day_on_week_exposition','month_exposition','year_exposition', 'last_price']\n",
    "    ].corr())\n"
   ]
  },
  {
   "cell_type": "code",
   "execution_count": 61,
   "metadata": {},
   "outputs": [
    {
     "data": {
      "image/png": "[encoded data removed]",
      "text/plain": [
       "<Figure size 1080x1080 with 25 Axes>"
      ]
     },
     "metadata": {
      "needs_background": "light"
     },
     "output_type": "display_data"
    }
   ],
   "source": [
    "pd.plotting.scatter_matrix(\n",
    "    data[['total_area','living_area','kitchen_area','rooms','last_price']],figsize=(15,15));"
   ]
  },
  {
   "cell_type": "markdown",
   "metadata": {},
   "source": [
    "Цена зависит как от общей площади(`0.65`), так и жилой(`0.58`) и кухонной(`0.51`), в скобочках указанна кореляция относительно цены. От количества комнат тоже есть положительная зависимость, но не такая явная (`0.36`)"
   ]
  },
  {
   "cell_type": "code",
   "execution_count": 62,
   "metadata": {},
   "outputs": [
    {
     "data": {
      "image/png": "[encoded data removed]",
      "text/plain": [
       "<Figure size 1080x1080 with 16 Axes>"
      ]
     },
     "metadata": {
      "needs_background": "light"
     },
     "output_type": "display_data"
    }
   ],
   "source": [
    "pd.plotting.scatter_matrix(\n",
    "    data[['day_on_week_exposition','month_exposition','year_exposition', 'last_price']],figsize=(15,15));"
   ]
  },
  {
   "cell_type": "code",
   "execution_count": 63,
   "metadata": {},
   "outputs": [
    {
     "data": {
      "text/html": [
       "<div>\n",
       "<style scoped>\n",
       "    .dataframe tbody tr th:only-of-type {\n",
       "        vertical-align: middle;\n",
       "    }\n",
       "\n",
       "    .dataframe tbody tr th {\n",
       "        vertical-align: top;\n",
       "    }\n",
       "\n",
       "    .dataframe thead th {\n",
       "        text-align: right;\n",
       "    }\n",
       "</style>\n",
       "<table border=\"1\" class=\"dataframe\">\n",
       "  <thead>\n",
       "    <tr style=\"text-align: right;\">\n",
       "      <th></th>\n",
       "      <th>mean</th>\n",
       "      <th>count</th>\n",
       "      <th>median</th>\n",
       "    </tr>\n",
       "    <tr>\n",
       "      <th>day_on_week_exposition</th>\n",
       "      <th></th>\n",
       "      <th></th>\n",
       "      <th></th>\n",
       "    </tr>\n",
       "  </thead>\n",
       "  <tbody>\n",
       "    <tr>\n",
       "      <th>1</th>\n",
       "      <td>6.404005e+06</td>\n",
       "      <td>4156</td>\n",
       "      <td>4750000</td>\n",
       "    </tr>\n",
       "    <tr>\n",
       "      <th>2</th>\n",
       "      <td>6.652946e+06</td>\n",
       "      <td>3938</td>\n",
       "      <td>4700000</td>\n",
       "    </tr>\n",
       "    <tr>\n",
       "      <th>0</th>\n",
       "      <td>6.536449e+06</td>\n",
       "      <td>3590</td>\n",
       "      <td>4650000</td>\n",
       "    </tr>\n",
       "    <tr>\n",
       "      <th>3</th>\n",
       "      <td>6.722857e+06</td>\n",
       "      <td>4267</td>\n",
       "      <td>4650000</td>\n",
       "    </tr>\n",
       "    <tr>\n",
       "      <th>4</th>\n",
       "      <td>6.388250e+06</td>\n",
       "      <td>3970</td>\n",
       "      <td>4600000</td>\n",
       "    </tr>\n",
       "    <tr>\n",
       "      <th>5</th>\n",
       "      <td>7.008002e+06</td>\n",
       "      <td>1912</td>\n",
       "      <td>4590000</td>\n",
       "    </tr>\n",
       "    <tr>\n",
       "      <th>6</th>\n",
       "      <td>6.266999e+06</td>\n",
       "      <td>1679</td>\n",
       "      <td>4550000</td>\n",
       "    </tr>\n",
       "  </tbody>\n",
       "</table>\n",
       "</div>"
      ],
      "text/plain": [
       "                                mean  count   median\n",
       "day_on_week_exposition                              \n",
       "1                       6.404005e+06   4156  4750000\n",
       "2                       6.652946e+06   3938  4700000\n",
       "0                       6.536449e+06   3590  4650000\n",
       "3                       6.722857e+06   4267  4650000\n",
       "4                       6.388250e+06   3970  4600000\n",
       "5                       7.008002e+06   1912  4590000\n",
       "6                       6.266999e+06   1679  4550000"
      ]
     },
     "execution_count": 63,
     "metadata": {},
     "output_type": "execute_result"
    },
    {
     "data": {
      "image/png": "[encoded data removed]",
      "text/plain": [
       "<Figure size 864x432 with 1 Axes>"
      ]
     },
     "metadata": {
      "needs_background": "light"
     },
     "output_type": "display_data"
    }
   ],
   "source": [
    "day_on_week_exposition_pvt = data.pivot_table(index = 'day_on_week_exposition', values = 'last_price', aggfunc = ['mean', 'count', 'median'])\n",
    "day_on_week_exposition_pvt.columns = ['mean', 'count', 'median']\n",
    "day_on_week_exposition_pvt.plot(y = 'median', figsize=(12,6))\n",
    "\n",
    "day_on_week_exposition_pvt.sort_values('median', ascending = False)"
   ]
  },
  {
   "cell_type": "markdown",
   "metadata": {},
   "source": [
    "Видим, что выставленные во вторник объявления в среднем выше стоимость, но незначительно! Воскресенье стоимость самая низкая!\n",
    "Полагаю, что стоимость выставленной на продажу недвижимости зависит от общей активности людей, так как именно в рабочие дни мы видим более высокие цены."
   ]
  },
  {
   "cell_type": "code",
   "execution_count": 64,
   "metadata": {},
   "outputs": [
    {
     "data": {
      "text/html": [
       "<div>\n",
       "<style scoped>\n",
       "    .dataframe tbody tr th:only-of-type {\n",
       "        vertical-align: middle;\n",
       "    }\n",
       "\n",
       "    .dataframe tbody tr th {\n",
       "        vertical-align: top;\n",
       "    }\n",
       "\n",
       "    .dataframe thead th {\n",
       "        text-align: right;\n",
       "    }\n",
       "</style>\n",
       "<table border=\"1\" class=\"dataframe\">\n",
       "  <thead>\n",
       "    <tr style=\"text-align: right;\">\n",
       "      <th></th>\n",
       "      <th>mean</th>\n",
       "      <th>count</th>\n",
       "      <th>median</th>\n",
       "    </tr>\n",
       "    <tr>\n",
       "      <th>month_exposition</th>\n",
       "      <th></th>\n",
       "      <th></th>\n",
       "      <th></th>\n",
       "    </tr>\n",
       "  </thead>\n",
       "  <tbody>\n",
       "    <tr>\n",
       "      <th>4</th>\n",
       "      <td>6.749099e+06</td>\n",
       "      <td>2357</td>\n",
       "      <td>4800000</td>\n",
       "    </tr>\n",
       "    <tr>\n",
       "      <th>9</th>\n",
       "      <td>6.852090e+06</td>\n",
       "      <td>1967</td>\n",
       "      <td>4700000</td>\n",
       "    </tr>\n",
       "    <tr>\n",
       "      <th>11</th>\n",
       "      <td>6.468371e+06</td>\n",
       "      <td>2354</td>\n",
       "      <td>4700000</td>\n",
       "    </tr>\n",
       "    <tr>\n",
       "      <th>12</th>\n",
       "      <td>7.043844e+06</td>\n",
       "      <td>1631</td>\n",
       "      <td>4700000</td>\n",
       "    </tr>\n",
       "    <tr>\n",
       "      <th>3</th>\n",
       "      <td>6.381182e+06</td>\n",
       "      <td>2563</td>\n",
       "      <td>4690000</td>\n",
       "    </tr>\n",
       "    <tr>\n",
       "      <th>2</th>\n",
       "      <td>6.494356e+06</td>\n",
       "      <td>2622</td>\n",
       "      <td>4650000</td>\n",
       "    </tr>\n",
       "    <tr>\n",
       "      <th>7</th>\n",
       "      <td>6.666770e+06</td>\n",
       "      <td>1684</td>\n",
       "      <td>4650000</td>\n",
       "    </tr>\n",
       "    <tr>\n",
       "      <th>1</th>\n",
       "      <td>6.672632e+06</td>\n",
       "      <td>1494</td>\n",
       "      <td>4600000</td>\n",
       "    </tr>\n",
       "    <tr>\n",
       "      <th>8</th>\n",
       "      <td>6.363794e+06</td>\n",
       "      <td>1734</td>\n",
       "      <td>4600000</td>\n",
       "    </tr>\n",
       "    <tr>\n",
       "      <th>10</th>\n",
       "      <td>6.250834e+06</td>\n",
       "      <td>2103</td>\n",
       "      <td>4590000</td>\n",
       "    </tr>\n",
       "    <tr>\n",
       "      <th>5</th>\n",
       "      <td>6.605225e+06</td>\n",
       "      <td>1263</td>\n",
       "      <td>4500000</td>\n",
       "    </tr>\n",
       "    <tr>\n",
       "      <th>6</th>\n",
       "      <td>6.348956e+06</td>\n",
       "      <td>1740</td>\n",
       "      <td>4425000</td>\n",
       "    </tr>\n",
       "  </tbody>\n",
       "</table>\n",
       "</div>"
      ],
      "text/plain": [
       "                          mean  count   median\n",
       "month_exposition                              \n",
       "4                 6.749099e+06   2357  4800000\n",
       "9                 6.852090e+06   1967  4700000\n",
       "11                6.468371e+06   2354  4700000\n",
       "12                7.043844e+06   1631  4700000\n",
       "3                 6.381182e+06   2563  4690000\n",
       "2                 6.494356e+06   2622  4650000\n",
       "7                 6.666770e+06   1684  4650000\n",
       "1                 6.672632e+06   1494  4600000\n",
       "8                 6.363794e+06   1734  4600000\n",
       "10                6.250834e+06   2103  4590000\n",
       "5                 6.605225e+06   1263  4500000\n",
       "6                 6.348956e+06   1740  4425000"
      ]
     },
     "execution_count": 64,
     "metadata": {},
     "output_type": "execute_result"
    },
    {
     "data": {
      "image/png": "[encoded data removed]",
      "text/plain": [
       "<Figure size 864x432 with 1 Axes>"
      ]
     },
     "metadata": {
      "needs_background": "light"
     },
     "output_type": "display_data"
    }
   ],
   "source": [
    "month_exposition_pvt = data.pivot_table(index = 'month_exposition', values = 'last_price', aggfunc = ['mean', 'count', 'median'])\n",
    "month_exposition_pvt.columns = ['mean', 'count', 'median']\n",
    "month_exposition_pvt.plot(y = 'median', figsize=(12,6))\n",
    "\n",
    "month_exposition_pvt.sort_values('median', ascending = False)"
   ]
  },
  {
   "cell_type": "markdown",
   "metadata": {},
   "source": [
    "На рынке недвижимости, как и во многих других сферах присутствует сезонность - в начале лета мы видим наименьшее предложение как по количеству, так и по стоимости недвижимости. Наверное, это связано с отпусками. Самая высокая стоимость квартир в `апреле`! Самая низкая стоимость в `мае` и `июне`! "
   ]
  },
  {
   "cell_type": "code",
   "execution_count": 65,
   "metadata": {},
   "outputs": [
    {
     "data": {
      "text/html": [
       "<div>\n",
       "<style scoped>\n",
       "    .dataframe tbody tr th:only-of-type {\n",
       "        vertical-align: middle;\n",
       "    }\n",
       "\n",
       "    .dataframe tbody tr th {\n",
       "        vertical-align: top;\n",
       "    }\n",
       "\n",
       "    .dataframe thead th {\n",
       "        text-align: right;\n",
       "    }\n",
       "</style>\n",
       "<table border=\"1\" class=\"dataframe\">\n",
       "  <thead>\n",
       "    <tr style=\"text-align: right;\">\n",
       "      <th></th>\n",
       "      <th>mean</th>\n",
       "      <th>count</th>\n",
       "      <th>median</th>\n",
       "    </tr>\n",
       "    <tr>\n",
       "      <th>year_exposition</th>\n",
       "      <th></th>\n",
       "      <th></th>\n",
       "      <th></th>\n",
       "    </tr>\n",
       "  </thead>\n",
       "  <tbody>\n",
       "    <tr>\n",
       "      <th>2014</th>\n",
       "      <td>1.208714e+07</td>\n",
       "      <td>137</td>\n",
       "      <td>7700000</td>\n",
       "    </tr>\n",
       "    <tr>\n",
       "      <th>2015</th>\n",
       "      <td>8.587923e+06</td>\n",
       "      <td>1182</td>\n",
       "      <td>5337000</td>\n",
       "    </tr>\n",
       "    <tr>\n",
       "      <th>2019</th>\n",
       "      <td>6.802786e+06</td>\n",
       "      <td>2856</td>\n",
       "      <td>5100000</td>\n",
       "    </tr>\n",
       "    <tr>\n",
       "      <th>2018</th>\n",
       "      <td>5.976737e+06</td>\n",
       "      <td>8443</td>\n",
       "      <td>4595000</td>\n",
       "    </tr>\n",
       "    <tr>\n",
       "      <th>2016</th>\n",
       "      <td>6.840734e+06</td>\n",
       "      <td>2756</td>\n",
       "      <td>4550000</td>\n",
       "    </tr>\n",
       "    <tr>\n",
       "      <th>2017</th>\n",
       "      <td>6.598586e+06</td>\n",
       "      <td>8138</td>\n",
       "      <td>4500000</td>\n",
       "    </tr>\n",
       "  </tbody>\n",
       "</table>\n",
       "</div>"
      ],
      "text/plain": [
       "                         mean  count   median\n",
       "year_exposition                              \n",
       "2014             1.208714e+07    137  7700000\n",
       "2015             8.587923e+06   1182  5337000\n",
       "2019             6.802786e+06   2856  5100000\n",
       "2018             5.976737e+06   8443  4595000\n",
       "2016             6.840734e+06   2756  4550000\n",
       "2017             6.598586e+06   8138  4500000"
      ]
     },
     "execution_count": 65,
     "metadata": {},
     "output_type": "execute_result"
    },
    {
     "data": {
      "image/png": "[encoded data removed]",
      "text/plain": [
       "<Figure size 864x432 with 1 Axes>"
      ]
     },
     "metadata": {
      "needs_background": "light"
     },
     "output_type": "display_data"
    }
   ],
   "source": [
    "year_exposition_pvt = data.pivot_table(index = 'year_exposition', values = 'last_price', aggfunc = ['mean', 'count', 'median'])\n",
    "year_exposition_pvt.columns = ['mean', 'count', 'median']\n",
    "year_exposition_pvt.plot(y = 'median', figsize=(12,6))\n",
    "\n",
    "year_exposition_pvt.sort_values('median', ascending = False)"
   ]
  },
  {
   "cell_type": "code",
   "execution_count": 66,
   "metadata": {},
   "outputs": [
    {
     "data": {
      "text/html": [
       "<div>\n",
       "<style scoped>\n",
       "    .dataframe tbody tr th:only-of-type {\n",
       "        vertical-align: middle;\n",
       "    }\n",
       "\n",
       "    .dataframe tbody tr th {\n",
       "        vertical-align: top;\n",
       "    }\n",
       "\n",
       "    .dataframe thead th {\n",
       "        text-align: right;\n",
       "    }\n",
       "</style>\n",
       "<table border=\"1\" class=\"dataframe\">\n",
       "  <thead>\n",
       "    <tr style=\"text-align: right;\">\n",
       "      <th></th>\n",
       "      <th>mean</th>\n",
       "      <th>mean2</th>\n",
       "      <th>count</th>\n",
       "      <th>count2</th>\n",
       "      <th>median</th>\n",
       "      <th>median2</th>\n",
       "    </tr>\n",
       "    <tr>\n",
       "      <th>year_exposition</th>\n",
       "      <th></th>\n",
       "      <th></th>\n",
       "      <th></th>\n",
       "      <th></th>\n",
       "      <th></th>\n",
       "      <th></th>\n",
       "    </tr>\n",
       "  </thead>\n",
       "  <tbody>\n",
       "    <tr>\n",
       "      <th>2014</th>\n",
       "      <td>1.208714e+07</td>\n",
       "      <td>86.249854</td>\n",
       "      <td>137</td>\n",
       "      <td>137</td>\n",
       "      <td>7700000</td>\n",
       "      <td>76.26</td>\n",
       "    </tr>\n",
       "    <tr>\n",
       "      <th>2015</th>\n",
       "      <td>8.587923e+06</td>\n",
       "      <td>71.612606</td>\n",
       "      <td>1182</td>\n",
       "      <td>1182</td>\n",
       "      <td>5337000</td>\n",
       "      <td>60.00</td>\n",
       "    </tr>\n",
       "    <tr>\n",
       "      <th>2019</th>\n",
       "      <td>6.802786e+06</td>\n",
       "      <td>59.531922</td>\n",
       "      <td>2856</td>\n",
       "      <td>2856</td>\n",
       "      <td>5100000</td>\n",
       "      <td>52.00</td>\n",
       "    </tr>\n",
       "    <tr>\n",
       "      <th>2018</th>\n",
       "      <td>5.976737e+06</td>\n",
       "      <td>57.755156</td>\n",
       "      <td>8443</td>\n",
       "      <td>8443</td>\n",
       "      <td>4595000</td>\n",
       "      <td>50.50</td>\n",
       "    </tr>\n",
       "    <tr>\n",
       "      <th>2016</th>\n",
       "      <td>6.840734e+06</td>\n",
       "      <td>62.171872</td>\n",
       "      <td>2756</td>\n",
       "      <td>2756</td>\n",
       "      <td>4550000</td>\n",
       "      <td>53.15</td>\n",
       "    </tr>\n",
       "    <tr>\n",
       "      <th>2017</th>\n",
       "      <td>6.598586e+06</td>\n",
       "      <td>60.758340</td>\n",
       "      <td>8138</td>\n",
       "      <td>8138</td>\n",
       "      <td>4500000</td>\n",
       "      <td>52.00</td>\n",
       "    </tr>\n",
       "  </tbody>\n",
       "</table>\n",
       "</div>"
      ],
      "text/plain": [
       "                         mean      mean2  count  count2   median  median2\n",
       "year_exposition                                                          \n",
       "2014             1.208714e+07  86.249854    137     137  7700000    76.26\n",
       "2015             8.587923e+06  71.612606   1182    1182  5337000    60.00\n",
       "2019             6.802786e+06  59.531922   2856    2856  5100000    52.00\n",
       "2018             5.976737e+06  57.755156   8443    8443  4595000    50.50\n",
       "2016             6.840734e+06  62.171872   2756    2756  4550000    53.15\n",
       "2017             6.598586e+06  60.758340   8138    8138  4500000    52.00"
      ]
     },
     "execution_count": 66,
     "metadata": {},
     "output_type": "execute_result"
    },
    {
     "data": {
      "image/png": "[encoded data removed]",
      "text/plain": [
       "<Figure size 864x432 with 1 Axes>"
      ]
     },
     "metadata": {
      "needs_background": "light"
     },
     "output_type": "display_data"
    }
   ],
   "source": [
    "year_exposition_pvt2 = data.pivot_table(index = 'year_exposition', values = ['last_price', 'total_area'], aggfunc = ['mean', 'count', 'median'])\n",
    "year_exposition_pvt2.columns = ['mean', 'mean2', 'count', 'count2', 'median', 'median2']\n",
    "year_exposition_pvt2.plot(y = 'median', figsize=(12,6))\n",
    "\n",
    "year_exposition_pvt2.sort_values('median', ascending = False)"
   ]
  },
  {
   "cell_type": "markdown",
   "metadata": {},
   "source": [
    "Как мы видим с 2014 по 2016 год цена падала и не только цена но и общая площадь квартир тоже пошла на спад!Цена после 2017 года пошла на повышение, а квадратура зафиксировалась в среднем 52 кв.м. По факту стоимость аналогичных квартир могла себя вести абсолютно иначе от года к году!"
   ]
  },
  {
   "cell_type": "code",
   "execution_count": 67,
   "metadata": {},
   "outputs": [
    {
     "data": {
      "text/html": [
       "<div>\n",
       "<style scoped>\n",
       "    .dataframe tbody tr th:only-of-type {\n",
       "        vertical-align: middle;\n",
       "    }\n",
       "\n",
       "    .dataframe tbody tr th {\n",
       "        vertical-align: top;\n",
       "    }\n",
       "\n",
       "    .dataframe thead th {\n",
       "        text-align: right;\n",
       "    }\n",
       "</style>\n",
       "<table border=\"1\" class=\"dataframe\">\n",
       "  <thead>\n",
       "    <tr style=\"text-align: right;\">\n",
       "      <th></th>\n",
       "      <th>mean</th>\n",
       "      <th>count</th>\n",
       "      <th>median</th>\n",
       "    </tr>\n",
       "    <tr>\n",
       "      <th>type_floor</th>\n",
       "      <th></th>\n",
       "      <th></th>\n",
       "      <th></th>\n",
       "    </tr>\n",
       "  </thead>\n",
       "  <tbody>\n",
       "    <tr>\n",
       "      <th>другой</th>\n",
       "      <td>6.684359e+06</td>\n",
       "      <td>17322</td>\n",
       "      <td>4850000</td>\n",
       "    </tr>\n",
       "    <tr>\n",
       "      <th>первый</th>\n",
       "      <td>4.838012e+06</td>\n",
       "      <td>2884</td>\n",
       "      <td>3900000</td>\n",
       "    </tr>\n",
       "    <tr>\n",
       "      <th>последний</th>\n",
       "      <td>7.413877e+06</td>\n",
       "      <td>3306</td>\n",
       "      <td>4350000</td>\n",
       "    </tr>\n",
       "  </tbody>\n",
       "</table>\n",
       "</div>"
      ],
      "text/plain": [
       "                    mean  count   median\n",
       "type_floor                              \n",
       "другой      6.684359e+06  17322  4850000\n",
       "первый      4.838012e+06   2884  3900000\n",
       "последний   7.413877e+06   3306  4350000"
      ]
     },
     "execution_count": 67,
     "metadata": {},
     "output_type": "execute_result"
    },
    {
     "data": {
      "image/png": "[encoded data removed]",
      "text/plain": [
       "<Figure size 864x432 with 1 Axes>"
      ]
     },
     "metadata": {
      "needs_background": "light"
     },
     "output_type": "display_data"
    }
   ],
   "source": [
    "type_floor_pvt = data.pivot_table(index = 'type_floor', values = 'last_price', aggfunc = ['mean', 'count', 'median'])\n",
    "type_floor_pvt .columns = ['mean', 'count', 'median']\n",
    "type_floor_pvt .plot(y = 'median', figsize=(12,6))\n",
    "type_floor_pvt "
   ]
  },
  {
   "cell_type": "markdown",
   "metadata": {},
   "source": [
    "На первом этаже квартиры дешевле всего, выше всего цена квартир в промежутке между первым и последним этажах."
   ]
  },
  {
   "cell_type": "markdown",
   "metadata": {},
   "source": [
    "**Вывод:**\n",
    "\n",
    "Больше всего влияют на общую (полную) стоимость объекта это площадь квартиры (общая, жилая, кухонная), немного влияет количество комнат и этаж. Лучшее время года для продажи квартиры это апрель, сентябрь и ноябрь. Каждый год рынок меняется"
   ]
  },
  {
   "cell_type": "markdown",
   "metadata": {},
   "source": [
    "**4:**\n",
    "\n",
    "**Посчитайте среднюю цену одного квадратного метра в 10 населённых пунктах с наибольшим числом объявлений. Выделите населённые пункты с самой высокой и низкой стоимостью квадратного метра. Эти данные можно найти по имени в столбце `locality_name`**."
   ]
  },
  {
   "cell_type": "code",
   "execution_count": 68,
   "metadata": {},
   "outputs": [
    {
     "data": {
      "text/html": [
       "<div>\n",
       "<style scoped>\n",
       "    .dataframe tbody tr th:only-of-type {\n",
       "        vertical-align: middle;\n",
       "    }\n",
       "\n",
       "    .dataframe tbody tr th {\n",
       "        vertical-align: top;\n",
       "    }\n",
       "\n",
       "    .dataframe thead th {\n",
       "        text-align: right;\n",
       "    }\n",
       "</style>\n",
       "<table border=\"1\" class=\"dataframe\">\n",
       "  <thead>\n",
       "    <tr style=\"text-align: right;\">\n",
       "      <th></th>\n",
       "      <th>count</th>\n",
       "      <th>median</th>\n",
       "    </tr>\n",
       "    <tr>\n",
       "      <th>locality_name</th>\n",
       "      <th></th>\n",
       "      <th></th>\n",
       "    </tr>\n",
       "  </thead>\n",
       "  <tbody>\n",
       "    <tr>\n",
       "      <th>санкт-петербург</th>\n",
       "      <td>15647</td>\n",
       "      <td>104774.540</td>\n",
       "    </tr>\n",
       "    <tr>\n",
       "      <th>мурино</th>\n",
       "      <td>586</td>\n",
       "      <td>86250.375</td>\n",
       "    </tr>\n",
       "    <tr>\n",
       "      <th>кудрово</th>\n",
       "      <td>469</td>\n",
       "      <td>95588.240</td>\n",
       "    </tr>\n",
       "    <tr>\n",
       "      <th>шушары</th>\n",
       "      <td>439</td>\n",
       "      <td>76829.270</td>\n",
       "    </tr>\n",
       "    <tr>\n",
       "      <th>всеволожск</th>\n",
       "      <td>397</td>\n",
       "      <td>65789.470</td>\n",
       "    </tr>\n",
       "    <tr>\n",
       "      <th>пушкин</th>\n",
       "      <td>369</td>\n",
       "      <td>100000.000</td>\n",
       "    </tr>\n",
       "    <tr>\n",
       "      <th>колпино</th>\n",
       "      <td>338</td>\n",
       "      <td>74723.745</td>\n",
       "    </tr>\n",
       "    <tr>\n",
       "      <th>парголово</th>\n",
       "      <td>327</td>\n",
       "      <td>91642.860</td>\n",
       "    </tr>\n",
       "    <tr>\n",
       "      <th>гатчина</th>\n",
       "      <td>307</td>\n",
       "      <td>67796.610</td>\n",
       "    </tr>\n",
       "    <tr>\n",
       "      <th>выборг</th>\n",
       "      <td>235</td>\n",
       "      <td>58307.690</td>\n",
       "    </tr>\n",
       "  </tbody>\n",
       "</table>\n",
       "</div>"
      ],
      "text/plain": [
       "                 count      median\n",
       "locality_name                     \n",
       "санкт-петербург  15647  104774.540\n",
       "мурино             586   86250.375\n",
       "кудрово            469   95588.240\n",
       "шушары             439   76829.270\n",
       "всеволожск         397   65789.470\n",
       "пушкин             369  100000.000\n",
       "колпино            338   74723.745\n",
       "парголово          327   91642.860\n",
       "гатчина            307   67796.610\n",
       "выборг             235   58307.690"
      ]
     },
     "execution_count": 68,
     "metadata": {},
     "output_type": "execute_result"
    }
   ],
   "source": [
    "locality_name_pvt = (\n",
    "    data.query('locality_name != \"unknown\"')\n",
    "    .pivot_table(index='locality_name', values = 'price_square_meter', aggfunc = ['count', 'median'])\n",
    "    )\n",
    "locality_name_pvt.columns = ['count', 'median']\n",
    "locality_name_pvt = locality_name_pvt.sort_values(by='count', ascending=False).head(10)\n",
    "locality_name_pvt"
   ]
  },
  {
   "cell_type": "code",
   "execution_count": 69,
   "metadata": {},
   "outputs": [
    {
     "name": "stdout",
     "output_type": "stream",
     "text": [
      "Самая высокая стоимость квадратного метра в СПБ: 1907500.0\n",
      "Самая низкая стоимость квадратного метра в Выборге: 111.83\n"
     ]
    }
   ],
   "source": [
    "print(\"Самая высокая стоимость квадратного метра в СПБ:\", data[data['locality_name'] == 'санкт-петербург']['price_square_meter'].max())\n",
    "print(\"Самая низкая стоимость квадратного метра в Выборге:\", data[data['locality_name'] != 'выборг']['price_square_meter'].min())"
   ]
  },
  {
   "cell_type": "markdown",
   "metadata": {},
   "source": [
    "*Возможно я не правильно понял задание и сделал лишнее.*"
   ]
  },
  {
   "cell_type": "markdown",
   "metadata": {},
   "source": [
    "**5:**\n",
    "\n",
    "**Ранее вы посчитали расстояние до центра в километрах. Теперь выделите квартиры в `Санкт-Петербурге` с помощью столбца `locality_name` и вычислите среднюю цену каждого километра. Опишите, как стоимость объектов зависит от расстояния до центра города.**"
   ]
  },
  {
   "cell_type": "code",
   "execution_count": 70,
   "metadata": {},
   "outputs": [],
   "source": [
    "data['cityCenters_nearest_kilometer'] = data['cityCenters_nearest_kilometer'].fillna(-1)"
   ]
  },
  {
   "cell_type": "code",
   "execution_count": 71,
   "metadata": {},
   "outputs": [
    {
     "data": {
      "text/html": [
       "<div>\n",
       "<style scoped>\n",
       "    .dataframe tbody tr th:only-of-type {\n",
       "        vertical-align: middle;\n",
       "    }\n",
       "\n",
       "    .dataframe tbody tr th {\n",
       "        vertical-align: top;\n",
       "    }\n",
       "\n",
       "    .dataframe thead th {\n",
       "        text-align: right;\n",
       "    }\n",
       "</style>\n",
       "<table border=\"1\" class=\"dataframe\">\n",
       "  <thead>\n",
       "    <tr style=\"text-align: right;\">\n",
       "      <th></th>\n",
       "      <th>last_price_million</th>\n",
       "    </tr>\n",
       "    <tr>\n",
       "      <th>cityCenters_nearest_kilometer</th>\n",
       "      <th></th>\n",
       "    </tr>\n",
       "  </thead>\n",
       "  <tbody>\n",
       "    <tr>\n",
       "      <th>0.0</th>\n",
       "      <td>31.449116</td>\n",
       "    </tr>\n",
       "    <tr>\n",
       "      <th>1.0</th>\n",
       "      <td>21.206721</td>\n",
       "    </tr>\n",
       "    <tr>\n",
       "      <th>2.0</th>\n",
       "      <td>17.788320</td>\n",
       "    </tr>\n",
       "    <tr>\n",
       "      <th>3.0</th>\n",
       "      <td>11.137395</td>\n",
       "    </tr>\n",
       "    <tr>\n",
       "      <th>4.0</th>\n",
       "      <td>13.304280</td>\n",
       "    </tr>\n",
       "    <tr>\n",
       "      <th>5.0</th>\n",
       "      <td>14.455996</td>\n",
       "    </tr>\n",
       "    <tr>\n",
       "      <th>6.0</th>\n",
       "      <td>15.338418</td>\n",
       "    </tr>\n",
       "    <tr>\n",
       "      <th>7.0</th>\n",
       "      <td>14.775153</td>\n",
       "    </tr>\n",
       "    <tr>\n",
       "      <th>8.0</th>\n",
       "      <td>9.945147</td>\n",
       "    </tr>\n",
       "    <tr>\n",
       "      <th>9.0</th>\n",
       "      <td>6.956583</td>\n",
       "    </tr>\n",
       "    <tr>\n",
       "      <th>10.0</th>\n",
       "      <td>6.500434</td>\n",
       "    </tr>\n",
       "    <tr>\n",
       "      <th>11.0</th>\n",
       "      <td>6.228108</td>\n",
       "    </tr>\n",
       "    <tr>\n",
       "      <th>12.0</th>\n",
       "      <td>6.199857</td>\n",
       "    </tr>\n",
       "    <tr>\n",
       "      <th>13.0</th>\n",
       "      <td>6.077643</td>\n",
       "    </tr>\n",
       "    <tr>\n",
       "      <th>14.0</th>\n",
       "      <td>5.624879</td>\n",
       "    </tr>\n",
       "    <tr>\n",
       "      <th>15.0</th>\n",
       "      <td>5.876323</td>\n",
       "    </tr>\n",
       "    <tr>\n",
       "      <th>16.0</th>\n",
       "      <td>5.373131</td>\n",
       "    </tr>\n",
       "    <tr>\n",
       "      <th>17.0</th>\n",
       "      <td>5.299496</td>\n",
       "    </tr>\n",
       "    <tr>\n",
       "      <th>18.0</th>\n",
       "      <td>5.091331</td>\n",
       "    </tr>\n",
       "    <tr>\n",
       "      <th>19.0</th>\n",
       "      <td>5.051410</td>\n",
       "    </tr>\n",
       "    <tr>\n",
       "      <th>20.0</th>\n",
       "      <td>5.990037</td>\n",
       "    </tr>\n",
       "    <tr>\n",
       "      <th>21.0</th>\n",
       "      <td>5.493469</td>\n",
       "    </tr>\n",
       "    <tr>\n",
       "      <th>22.0</th>\n",
       "      <td>5.415524</td>\n",
       "    </tr>\n",
       "    <tr>\n",
       "      <th>23.0</th>\n",
       "      <td>4.985376</td>\n",
       "    </tr>\n",
       "    <tr>\n",
       "      <th>24.0</th>\n",
       "      <td>3.854430</td>\n",
       "    </tr>\n",
       "    <tr>\n",
       "      <th>25.0</th>\n",
       "      <td>4.052840</td>\n",
       "    </tr>\n",
       "    <tr>\n",
       "      <th>26.0</th>\n",
       "      <td>4.014287</td>\n",
       "    </tr>\n",
       "    <tr>\n",
       "      <th>27.0</th>\n",
       "      <td>8.300000</td>\n",
       "    </tr>\n",
       "    <tr>\n",
       "      <th>28.0</th>\n",
       "      <td>5.026429</td>\n",
       "    </tr>\n",
       "    <tr>\n",
       "      <th>29.0</th>\n",
       "      <td>4.236667</td>\n",
       "    </tr>\n",
       "  </tbody>\n",
       "</table>\n",
       "</div>"
      ],
      "text/plain": [
       "                               last_price_million\n",
       "cityCenters_nearest_kilometer                    \n",
       "0.0                                     31.449116\n",
       "1.0                                     21.206721\n",
       "2.0                                     17.788320\n",
       "3.0                                     11.137395\n",
       "4.0                                     13.304280\n",
       "5.0                                     14.455996\n",
       "6.0                                     15.338418\n",
       "7.0                                     14.775153\n",
       "8.0                                      9.945147\n",
       "9.0                                      6.956583\n",
       "10.0                                     6.500434\n",
       "11.0                                     6.228108\n",
       "12.0                                     6.199857\n",
       "13.0                                     6.077643\n",
       "14.0                                     5.624879\n",
       "15.0                                     5.876323\n",
       "16.0                                     5.373131\n",
       "17.0                                     5.299496\n",
       "18.0                                     5.091331\n",
       "19.0                                     5.051410\n",
       "20.0                                     5.990037\n",
       "21.0                                     5.493469\n",
       "22.0                                     5.415524\n",
       "23.0                                     4.985376\n",
       "24.0                                     3.854430\n",
       "25.0                                     4.052840\n",
       "26.0                                     4.014287\n",
       "27.0                                     8.300000\n",
       "28.0                                     5.026429\n",
       "29.0                                     4.236667"
      ]
     },
     "execution_count": 71,
     "metadata": {},
     "output_type": "execute_result"
    },
    {
     "data": {
      "image/png": "[encoded data removed]",
      "text/plain": [
       "<Figure size 864x432 with 1 Axes>"
      ]
     },
     "metadata": {
      "needs_background": "light"
     },
     "output_type": "display_data"
    }
   ],
   "source": [
    "spb_centers_nearest = (\n",
    "    data.query('locality_name == \"санкт-петербург\" and cityCenters_nearest_kilometer != -1')\n",
    "    .pivot_table(index = 'cityCenters_nearest_kilometer', values = 'last_price_million')\n",
    "    )\n",
    "\n",
    "spb_centers_nearest.plot(grid = True, title = 'Заголовок', figsize=(12,6))\n",
    "spb_centers_nearest"
   ]
  },
  {
   "cell_type": "markdown",
   "metadata": {},
   "source": [
    "В самом центре (в радиусе до 1 км включительно) средняя цена на квартиру в пределах `от 20 до 30` млн.р. Если опираться на резкое падение цены по графику, то центр ограничен радиусом в `8` км с средней ценой `~10` млн.р., далее средняя цена довольно заметно падает. На расстоянии `27` км. от центра видимо находится хороший район, средняя цена(`8.3` млн.р) не намного меньше чем на окраине центра."
   ]
  },
  {
   "cell_type": "markdown",
   "metadata": {},
   "source": [
    "### Общий вывод"
   ]
  },
  {
   "cell_type": "markdown",
   "metadata": {},
   "source": [
    "Данные которые изначально были нам данны, имели множество пропусков, неявных дубликатов и аномалий. Сначала я избавился от пропусков, изменил типы данных, убрал неявные дубликаты и где смог исправил аномалии.\n",
    "\n",
    "Затем приступил к добавлению столбцов: \n",
    "- цена за квадратный метр \n",
    "- день недели, месяц и год публикации объявления\n",
    "- категории по этажам квартир\n",
    "- расстояние до центра города в километрах\n",
    "\n",
    "Изучил следующие параметры и построил гистограммы:\n",
    "- общая площадь\n",
    "- жилая площадь\n",
    "- площадь кухни\n",
    "- цена объекта\n",
    "- количество комнат\n",
    "- высота потолков\n",
    "- этаж квартиры\n",
    "- тип этажа квартиры («первый», «последний», «другой»)\n",
    "- общее количество этажей в доме\n",
    "- расстояние до центра города в метрах\n",
    "- расстояние до ближайшего аэропорта\n",
    "- расстояние до ближайшего парка\n",
    "- день и месяц публикации объявления\n",
    "\n",
    "Выяснил, что больше всего влияют на общую (полную) стоимость объекта это площадь квартиры (общая, жилая, кухонная) и растояние до центра города. немного влияет количество комнат и этаж. Изучая время продажи квартир я выявил, что нормальные значения продажи квартир располагаются в промежутке от 1 до 500 дней. Незначительно на стоимость квартир влияет день публикации. Лучшее время года для продажи квартиры это апрель, сентябрь и ноябрь. Судя, по резкости изменения цен в зависимости от удаления от центра СПБ, я выявил центр города в радиусе 8 километров.\n",
    "\n",
    "Также важно учитывать, что, рассматривая среднюю стоимость квартир в 2014-2019 годах, я не делал сегментацию рынка, а лишь смотрел средние показатели по рынку в целом. Т.е. возможно, что цены на аналогичные квартиры в разных годах вели себя абсолютно по-разному. Т.е. например в то время, когда средняя стоимость квартиры по рынку в 2016-2017 годах была наиболее низкой, какие-то аналогичные прошлым годам квартиры могли и не падать в цене, а наоборот дорожать!"
   ]
  }
 ],
 "metadata": {
  "ExecuteTimeLog": [
   {
    "duration": 543,
    "start_time": "2022-10-28T06:19:03.348Z"
   },
   {
    "duration": 20,
    "start_time": "2022-10-28T06:19:45.392Z"
   },
   {
    "duration": 119,
    "start_time": "2022-10-28T06:20:08.334Z"
   },
   {
    "duration": 37,
    "start_time": "2022-10-28T06:20:13.255Z"
   },
   {
    "duration": 925,
    "start_time": "2022-10-28T06:23:16.843Z"
   },
   {
    "duration": 84,
    "start_time": "2022-10-28T06:27:04.994Z"
   },
   {
    "duration": 116,
    "start_time": "2022-10-28T06:27:11.461Z"
   },
   {
    "duration": 12,
    "start_time": "2022-10-28T06:27:14.894Z"
   },
   {
    "duration": 29,
    "start_time": "2022-10-28T06:30:27.051Z"
   },
   {
    "duration": 2048,
    "start_time": "2022-10-28T06:30:33.260Z"
   },
   {
    "duration": 82,
    "start_time": "2022-10-28T06:30:43.520Z"
   },
   {
    "duration": 69,
    "start_time": "2022-10-28T06:30:48.755Z"
   },
   {
    "duration": 77,
    "start_time": "2022-10-28T06:31:14.411Z"
   },
   {
    "duration": 2290,
    "start_time": "2022-10-28T06:31:36.523Z"
   },
   {
    "duration": 912,
    "start_time": "2022-11-01T07:00:25.055Z"
   },
   {
    "duration": 352,
    "start_time": "2022-11-01T07:00:26.611Z"
   },
   {
    "duration": 33,
    "start_time": "2022-11-01T07:00:27.731Z"
   },
   {
    "duration": 2094,
    "start_time": "2022-11-01T07:00:28.586Z"
   },
   {
    "duration": 15,
    "start_time": "2022-11-01T07:00:33.555Z"
   },
   {
    "duration": 126,
    "start_time": "2022-11-01T07:00:40.163Z"
   },
   {
    "duration": 72,
    "start_time": "2022-11-01T08:32:56.985Z"
   },
   {
    "duration": 4,
    "start_time": "2022-11-01T08:33:03.593Z"
   },
   {
    "duration": 5,
    "start_time": "2022-11-01T08:33:30.657Z"
   },
   {
    "duration": 72,
    "start_time": "2022-11-01T08:41:13.148Z"
   },
   {
    "duration": 14,
    "start_time": "2022-11-01T08:41:14.438Z"
   },
   {
    "duration": 611,
    "start_time": "2022-11-01T08:47:38.676Z"
   },
   {
    "duration": 106,
    "start_time": "2022-11-01T08:47:40.180Z"
   },
   {
    "duration": 33,
    "start_time": "2022-11-01T08:47:43.849Z"
   },
   {
    "duration": 1981,
    "start_time": "2022-11-01T08:47:45.543Z"
   },
   {
    "duration": 81,
    "start_time": "2022-11-01T08:47:51.696Z"
   },
   {
    "duration": 9,
    "start_time": "2022-11-01T08:47:53.896Z"
   },
   {
    "duration": 7,
    "start_time": "2022-11-01T08:53:55.677Z"
   },
   {
    "duration": 5,
    "start_time": "2022-11-01T08:54:33.076Z"
   },
   {
    "duration": 9,
    "start_time": "2022-11-01T08:55:01.324Z"
   },
   {
    "duration": 75,
    "start_time": "2022-11-01T08:55:48.052Z"
   },
   {
    "duration": 588,
    "start_time": "2022-11-01T09:33:06.388Z"
   },
   {
    "duration": 103,
    "start_time": "2022-11-01T09:33:07.407Z"
   },
   {
    "duration": 32,
    "start_time": "2022-11-01T09:33:08.231Z"
   },
   {
    "duration": 2022,
    "start_time": "2022-11-01T09:33:08.815Z"
   },
   {
    "duration": 77,
    "start_time": "2022-11-01T09:33:10.839Z"
   },
   {
    "duration": 8,
    "start_time": "2022-11-01T09:33:10.918Z"
   },
   {
    "duration": 4,
    "start_time": "2022-11-01T09:33:15.646Z"
   },
   {
    "duration": 1344,
    "start_time": "2022-11-01T09:33:17.518Z"
   },
   {
    "duration": 88,
    "start_time": "2022-11-01T09:35:26.678Z"
   },
   {
    "duration": 11,
    "start_time": "2022-11-01T09:35:31.550Z"
   },
   {
    "duration": 1458,
    "start_time": "2022-11-01T09:36:21.038Z"
   },
   {
    "duration": 5,
    "start_time": "2022-11-01T09:39:00.347Z"
   },
   {
    "duration": 7,
    "start_time": "2022-11-01T09:39:39.840Z"
   },
   {
    "duration": 18,
    "start_time": "2022-11-01T09:43:45.744Z"
   },
   {
    "duration": 1305,
    "start_time": "2022-11-01T09:43:48.233Z"
   },
   {
    "duration": 6,
    "start_time": "2022-11-01T09:44:02.728Z"
   },
   {
    "duration": 661,
    "start_time": "2022-11-01T09:44:46.344Z"
   },
   {
    "duration": 106,
    "start_time": "2022-11-01T09:44:47.184Z"
   },
   {
    "duration": 28,
    "start_time": "2022-11-01T09:44:48.437Z"
   },
   {
    "duration": 1977,
    "start_time": "2022-11-01T09:44:49.156Z"
   },
   {
    "duration": 79,
    "start_time": "2022-11-01T09:44:51.135Z"
   },
   {
    "duration": 10,
    "start_time": "2022-11-01T09:44:54.035Z"
   },
   {
    "duration": 4,
    "start_time": "2022-11-01T09:45:00.020Z"
   },
   {
    "duration": 10,
    "start_time": "2022-11-01T09:45:02.404Z"
   },
   {
    "duration": 1395,
    "start_time": "2022-11-01T09:45:06.444Z"
   },
   {
    "duration": 5,
    "start_time": "2022-11-01T09:45:09.149Z"
   },
   {
    "duration": 7,
    "start_time": "2022-11-01T09:45:31.134Z"
   },
   {
    "duration": 5,
    "start_time": "2022-11-01T09:45:35.363Z"
   },
   {
    "duration": 14,
    "start_time": "2022-11-01T09:51:47.935Z"
   },
   {
    "duration": 27,
    "start_time": "2022-11-01T09:52:03.288Z"
   },
   {
    "duration": 1391,
    "start_time": "2022-11-01T09:52:13.895Z"
   },
   {
    "duration": 5,
    "start_time": "2022-11-01T09:52:16.287Z"
   },
   {
    "duration": 70,
    "start_time": "2022-11-01T09:53:28.574Z"
   },
   {
    "duration": 5,
    "start_time": "2022-11-01T09:53:50.014Z"
   },
   {
    "duration": 11,
    "start_time": "2022-11-01T09:54:01.166Z"
   },
   {
    "duration": 11,
    "start_time": "2022-11-01T09:54:13.342Z"
   },
   {
    "duration": 11,
    "start_time": "2022-11-01T09:54:51.940Z"
   },
   {
    "duration": 17,
    "start_time": "2022-11-01T09:56:38.965Z"
   },
   {
    "duration": 17,
    "start_time": "2022-11-01T09:57:03.709Z"
   },
   {
    "duration": 31,
    "start_time": "2022-11-01T10:02:15.146Z"
   },
   {
    "duration": 34,
    "start_time": "2022-11-01T10:02:31.477Z"
   },
   {
    "duration": 16,
    "start_time": "2022-11-01T10:02:34.312Z"
   },
   {
    "duration": 17,
    "start_time": "2022-11-01T10:02:40.002Z"
   },
   {
    "duration": 7,
    "start_time": "2022-11-01T10:04:17.360Z"
   },
   {
    "duration": 4079,
    "start_time": "2022-11-01T10:26:33.593Z"
   },
   {
    "duration": 8,
    "start_time": "2022-11-01T10:26:59.153Z"
   },
   {
    "duration": 674,
    "start_time": "2022-11-01T10:27:47.144Z"
   },
   {
    "duration": 111,
    "start_time": "2022-11-01T10:27:47.951Z"
   },
   {
    "duration": 32,
    "start_time": "2022-11-01T10:27:48.518Z"
   },
   {
    "duration": 2060,
    "start_time": "2022-11-01T10:27:49.189Z"
   },
   {
    "duration": 97,
    "start_time": "2022-11-01T10:27:51.596Z"
   },
   {
    "duration": 10,
    "start_time": "2022-11-01T10:27:52.923Z"
   },
   {
    "duration": 4,
    "start_time": "2022-11-01T10:27:58.956Z"
   },
   {
    "duration": 8,
    "start_time": "2022-11-01T10:28:42.123Z"
   },
   {
    "duration": 15,
    "start_time": "2022-11-01T10:28:50.460Z"
   },
   {
    "duration": 4091,
    "start_time": "2022-11-01T10:28:51.834Z"
   },
   {
    "duration": 6,
    "start_time": "2022-11-01T10:28:55.927Z"
   },
   {
    "duration": 84,
    "start_time": "2022-11-01T10:29:33.795Z"
   },
   {
    "duration": 6,
    "start_time": "2022-11-01T10:32:34.233Z"
   },
   {
    "duration": 20,
    "start_time": "2022-11-01T10:43:40.058Z"
   },
   {
    "duration": 59,
    "start_time": "2022-11-01T10:44:13.114Z"
   },
   {
    "duration": 63,
    "start_time": "2022-11-01T10:44:25.650Z"
   },
   {
    "duration": 579,
    "start_time": "2022-11-01T10:45:24.003Z"
   },
   {
    "duration": 112,
    "start_time": "2022-11-01T10:45:24.584Z"
   },
   {
    "duration": 33,
    "start_time": "2022-11-01T10:45:25.047Z"
   },
   {
    "duration": 2062,
    "start_time": "2022-11-01T10:45:25.599Z"
   },
   {
    "duration": 85,
    "start_time": "2022-11-01T10:45:27.664Z"
   },
   {
    "duration": 9,
    "start_time": "2022-11-01T10:45:28.190Z"
   },
   {
    "duration": 4,
    "start_time": "2022-11-01T10:45:29.895Z"
   },
   {
    "duration": 9,
    "start_time": "2022-11-01T10:45:31.165Z"
   },
   {
    "duration": 14,
    "start_time": "2022-11-01T10:45:31.702Z"
   },
   {
    "duration": 48,
    "start_time": "2022-11-01T10:45:32.781Z"
   },
   {
    "duration": 28,
    "start_time": "2022-11-01T10:45:35.895Z"
   },
   {
    "duration": 1342,
    "start_time": "2022-11-01T10:45:44.662Z"
   },
   {
    "duration": 6,
    "start_time": "2022-11-01T10:45:47.102Z"
   },
   {
    "duration": 60,
    "start_time": "2022-11-01T10:49:21.156Z"
   },
   {
    "duration": 134,
    "start_time": "2022-11-01T10:49:25.594Z"
   },
   {
    "duration": 1174,
    "start_time": "2022-11-01T10:49:42.028Z"
   },
   {
    "duration": 44,
    "start_time": "2022-11-01T10:50:59.419Z"
   },
   {
    "duration": 11,
    "start_time": "2022-11-01T10:51:09.610Z"
   },
   {
    "duration": 27,
    "start_time": "2022-11-01T10:51:16.795Z"
   },
   {
    "duration": 7,
    "start_time": "2022-11-01T10:51:25.930Z"
   },
   {
    "duration": 47,
    "start_time": "2022-11-01T10:51:36.826Z"
   },
   {
    "duration": 9,
    "start_time": "2022-11-01T10:51:38.619Z"
   },
   {
    "duration": 49,
    "start_time": "2022-11-01T10:51:54.170Z"
   },
   {
    "duration": 9,
    "start_time": "2022-11-01T10:51:55.858Z"
   },
   {
    "duration": 658,
    "start_time": "2022-11-01T10:52:03.609Z"
   },
   {
    "duration": 8,
    "start_time": "2022-11-01T10:52:05.410Z"
   },
   {
    "duration": 51,
    "start_time": "2022-11-01T10:52:12.465Z"
   },
   {
    "duration": 7,
    "start_time": "2022-11-01T10:52:14.026Z"
   },
   {
    "duration": 615,
    "start_time": "2022-11-01T10:52:30.771Z"
   },
   {
    "duration": 52,
    "start_time": "2022-11-01T10:52:44.938Z"
   },
   {
    "duration": 8,
    "start_time": "2022-11-01T10:52:46.842Z"
   },
   {
    "duration": 8,
    "start_time": "2022-11-01T10:52:48.252Z"
   },
   {
    "duration": 4187,
    "start_time": "2022-11-01T10:54:18.297Z"
   },
   {
    "duration": 30,
    "start_time": "2022-11-01T10:54:22.494Z"
   },
   {
    "duration": 22,
    "start_time": "2022-11-01T10:54:25.306Z"
   },
   {
    "duration": 28,
    "start_time": "2022-11-01T10:55:51.064Z"
   },
   {
    "duration": 13,
    "start_time": "2022-11-01T10:55:52.952Z"
   },
   {
    "duration": 403,
    "start_time": "2022-11-01T10:56:03.024Z"
   },
   {
    "duration": 10,
    "start_time": "2022-11-01T10:56:20.512Z"
   },
   {
    "duration": 67,
    "start_time": "2022-11-01T10:56:26.009Z"
   },
   {
    "duration": 426,
    "start_time": "2022-11-01T10:56:35.015Z"
   },
   {
    "duration": 413,
    "start_time": "2022-11-01T10:58:05.991Z"
   },
   {
    "duration": 7,
    "start_time": "2022-11-01T10:58:08.790Z"
   },
   {
    "duration": 19,
    "start_time": "2022-11-01T10:58:11.112Z"
   },
   {
    "duration": 627,
    "start_time": "2022-11-01T10:58:19.110Z"
   },
   {
    "duration": 111,
    "start_time": "2022-11-01T10:58:19.739Z"
   },
   {
    "duration": 32,
    "start_time": "2022-11-01T10:58:20.089Z"
   },
   {
    "duration": 2162,
    "start_time": "2022-11-01T10:58:20.586Z"
   },
   {
    "duration": 75,
    "start_time": "2022-11-01T10:58:22.750Z"
   },
   {
    "duration": 9,
    "start_time": "2022-11-01T10:58:22.826Z"
   },
   {
    "duration": 4,
    "start_time": "2022-11-01T10:58:24.161Z"
   },
   {
    "duration": 6,
    "start_time": "2022-11-01T10:58:25.938Z"
   },
   {
    "duration": 14,
    "start_time": "2022-11-01T10:58:26.675Z"
   },
   {
    "duration": 640,
    "start_time": "2022-11-01T10:58:27.241Z"
   },
   {
    "duration": 7,
    "start_time": "2022-11-01T10:58:29.202Z"
   },
   {
    "duration": 28,
    "start_time": "2022-11-01T10:58:31.267Z"
   },
   {
    "duration": 26,
    "start_time": "2022-11-01T10:58:40.476Z"
   },
   {
    "duration": 1067,
    "start_time": "2022-11-01T10:58:43.674Z"
   },
   {
    "duration": 5,
    "start_time": "2022-11-01T10:58:46.563Z"
   },
   {
    "duration": 75,
    "start_time": "2022-11-01T11:12:59.087Z"
   },
   {
    "duration": 8,
    "start_time": "2022-11-01T11:13:05.833Z"
   },
   {
    "duration": 6,
    "start_time": "2022-11-01T11:13:19.448Z"
   },
   {
    "duration": 26,
    "start_time": "2022-11-01T11:13:38.210Z"
   },
   {
    "duration": 11,
    "start_time": "2022-11-01T11:13:47.417Z"
   },
   {
    "duration": 5,
    "start_time": "2022-11-01T11:14:08.560Z"
   },
   {
    "duration": 660,
    "start_time": "2022-11-01T11:14:28.957Z"
   },
   {
    "duration": 113,
    "start_time": "2022-11-01T11:14:29.619Z"
   },
   {
    "duration": 31,
    "start_time": "2022-11-01T11:14:30.121Z"
   },
   {
    "duration": 2169,
    "start_time": "2022-11-01T11:14:30.680Z"
   },
   {
    "duration": 77,
    "start_time": "2022-11-01T11:14:32.851Z"
   },
   {
    "duration": 25,
    "start_time": "2022-11-01T11:14:32.930Z"
   },
   {
    "duration": 4,
    "start_time": "2022-11-01T11:14:34.209Z"
   },
   {
    "duration": 7,
    "start_time": "2022-11-01T11:14:35.207Z"
   },
   {
    "duration": 15,
    "start_time": "2022-11-01T11:14:35.703Z"
   },
   {
    "duration": 683,
    "start_time": "2022-11-01T11:14:36.216Z"
   },
   {
    "duration": 5,
    "start_time": "2022-11-01T11:14:36.901Z"
   },
   {
    "duration": 26,
    "start_time": "2022-11-01T11:14:39.384Z"
   },
   {
    "duration": 1112,
    "start_time": "2022-11-01T11:14:42.188Z"
   },
   {
    "duration": 5,
    "start_time": "2022-11-01T11:14:43.665Z"
   },
   {
    "duration": 5,
    "start_time": "2022-11-01T11:14:46.176Z"
   },
   {
    "duration": 6,
    "start_time": "2022-11-01T11:14:46.719Z"
   },
   {
    "duration": 5,
    "start_time": "2022-11-01T11:17:16.821Z"
   },
   {
    "duration": 10,
    "start_time": "2022-11-01T11:48:37.281Z"
   },
   {
    "duration": 860,
    "start_time": "2022-11-01T13:41:31.082Z"
   },
   {
    "duration": 209,
    "start_time": "2022-11-01T13:41:31.945Z"
   },
   {
    "duration": 32,
    "start_time": "2022-11-01T13:41:32.156Z"
   },
   {
    "duration": 2173,
    "start_time": "2022-11-01T13:41:32.191Z"
   },
   {
    "duration": 80,
    "start_time": "2022-11-01T13:41:34.366Z"
   },
   {
    "duration": 10,
    "start_time": "2022-11-01T13:41:34.448Z"
   },
   {
    "duration": 4,
    "start_time": "2022-11-01T13:41:34.460Z"
   },
   {
    "duration": 7,
    "start_time": "2022-11-01T13:41:34.466Z"
   },
   {
    "duration": 16,
    "start_time": "2022-11-01T13:41:34.475Z"
   },
   {
    "duration": 741,
    "start_time": "2022-11-01T13:41:34.493Z"
   },
   {
    "duration": 6,
    "start_time": "2022-11-01T13:41:35.236Z"
   },
   {
    "duration": 28,
    "start_time": "2022-11-01T13:41:35.244Z"
   },
   {
    "duration": 1190,
    "start_time": "2022-11-01T13:41:35.401Z"
   },
   {
    "duration": 3,
    "start_time": "2022-11-01T13:41:36.593Z"
   },
   {
    "duration": 12,
    "start_time": "2022-11-01T13:41:36.598Z"
   },
   {
    "duration": 13,
    "start_time": "2022-11-01T13:41:36.612Z"
   },
   {
    "duration": 45,
    "start_time": "2022-11-03T04:59:13.603Z"
   },
   {
    "duration": 773,
    "start_time": "2022-11-03T04:59:32.569Z"
   },
   {
    "duration": 324,
    "start_time": "2022-11-03T04:59:33.344Z"
   },
   {
    "duration": 33,
    "start_time": "2022-11-03T04:59:34.932Z"
   },
   {
    "duration": 1968,
    "start_time": "2022-11-03T04:59:35.780Z"
   },
   {
    "duration": 71,
    "start_time": "2022-11-03T04:59:37.750Z"
   },
   {
    "duration": 7,
    "start_time": "2022-11-03T04:59:37.823Z"
   },
   {
    "duration": 4,
    "start_time": "2022-11-03T04:59:39.268Z"
   },
   {
    "duration": 6,
    "start_time": "2022-11-03T04:59:40.364Z"
   },
   {
    "duration": 13,
    "start_time": "2022-11-03T04:59:40.844Z"
   },
   {
    "duration": 647,
    "start_time": "2022-11-03T04:59:41.332Z"
   },
   {
    "duration": 6,
    "start_time": "2022-11-03T04:59:41.981Z"
   },
   {
    "duration": 26,
    "start_time": "2022-11-03T04:59:42.668Z"
   },
   {
    "duration": 1041,
    "start_time": "2022-11-03T04:59:44.388Z"
   },
   {
    "duration": 3,
    "start_time": "2022-11-03T04:59:45.767Z"
   },
   {
    "duration": 5,
    "start_time": "2022-11-03T04:59:47.260Z"
   },
   {
    "duration": 5,
    "start_time": "2022-11-03T04:59:48.012Z"
   },
   {
    "duration": 7,
    "start_time": "2022-11-03T04:59:49.803Z"
   },
   {
    "duration": 9,
    "start_time": "2022-11-03T05:00:07.211Z"
   },
   {
    "duration": 7,
    "start_time": "2022-11-03T06:58:44.496Z"
   },
   {
    "duration": 5,
    "start_time": "2022-11-03T06:59:13.655Z"
   },
   {
    "duration": 5,
    "start_time": "2022-11-03T06:59:21.326Z"
   },
   {
    "duration": 14,
    "start_time": "2022-11-03T07:00:28.821Z"
   },
   {
    "duration": 10,
    "start_time": "2022-11-03T07:49:26.789Z"
   },
   {
    "duration": 45,
    "start_time": "2022-11-03T07:50:01.942Z"
   },
   {
    "duration": 16,
    "start_time": "2022-11-03T07:57:30.537Z"
   },
   {
    "duration": 14,
    "start_time": "2022-11-03T07:58:21.257Z"
   },
   {
    "duration": 11,
    "start_time": "2022-11-03T07:58:23.167Z"
   },
   {
    "duration": 12,
    "start_time": "2022-11-03T07:58:24.632Z"
   },
   {
    "duration": 44,
    "start_time": "2022-11-03T07:58:41.608Z"
   },
   {
    "duration": 158,
    "start_time": "2022-11-03T08:06:11.067Z"
   },
   {
    "duration": 317,
    "start_time": "2022-11-03T08:06:28.244Z"
   },
   {
    "duration": 9,
    "start_time": "2022-11-03T08:07:05.634Z"
   },
   {
    "duration": 648,
    "start_time": "2022-11-03T08:07:17.583Z"
   },
   {
    "duration": 128,
    "start_time": "2022-11-03T08:07:18.266Z"
   },
   {
    "duration": 31,
    "start_time": "2022-11-03T08:07:19.002Z"
   },
   {
    "duration": 1958,
    "start_time": "2022-11-03T08:07:19.810Z"
   },
   {
    "duration": 75,
    "start_time": "2022-11-03T08:07:21.770Z"
   },
   {
    "duration": 9,
    "start_time": "2022-11-03T08:07:21.847Z"
   },
   {
    "duration": 3,
    "start_time": "2022-11-03T08:07:23.717Z"
   },
   {
    "duration": 7,
    "start_time": "2022-11-03T08:07:24.913Z"
   },
   {
    "duration": 15,
    "start_time": "2022-11-03T08:07:25.569Z"
   },
   {
    "duration": 715,
    "start_time": "2022-11-03T08:07:26.018Z"
   },
   {
    "duration": 6,
    "start_time": "2022-11-03T08:07:27.457Z"
   },
   {
    "duration": 27,
    "start_time": "2022-11-03T08:07:29.779Z"
   },
   {
    "duration": 1105,
    "start_time": "2022-11-03T08:07:32.513Z"
   },
   {
    "duration": 4,
    "start_time": "2022-11-03T08:07:34.969Z"
   },
   {
    "duration": 5,
    "start_time": "2022-11-03T08:07:36.025Z"
   },
   {
    "duration": 5,
    "start_time": "2022-11-03T08:07:36.554Z"
   },
   {
    "duration": 8,
    "start_time": "2022-11-03T08:07:38.001Z"
   },
   {
    "duration": 8,
    "start_time": "2022-11-03T08:07:39.497Z"
   },
   {
    "duration": 9,
    "start_time": "2022-11-03T08:07:42.489Z"
   },
   {
    "duration": 162,
    "start_time": "2022-11-03T08:07:46.266Z"
   },
   {
    "duration": 10,
    "start_time": "2022-11-03T08:07:49.434Z"
   },
   {
    "duration": 9,
    "start_time": "2022-11-03T08:08:22.264Z"
   },
   {
    "duration": 2,
    "start_time": "2022-11-03T08:27:33.581Z"
   },
   {
    "duration": 694,
    "start_time": "2022-11-03T10:26:28.253Z"
   },
   {
    "duration": 144,
    "start_time": "2022-11-03T10:26:28.949Z"
   },
   {
    "duration": 27,
    "start_time": "2022-11-03T10:26:29.998Z"
   },
   {
    "duration": 1742,
    "start_time": "2022-11-03T10:26:30.830Z"
   },
   {
    "duration": 64,
    "start_time": "2022-11-03T10:26:34.559Z"
   },
   {
    "duration": 8,
    "start_time": "2022-11-03T10:26:35.967Z"
   },
   {
    "duration": 4,
    "start_time": "2022-11-03T10:27:31.037Z"
   },
   {
    "duration": 6,
    "start_time": "2022-11-03T10:27:35.283Z"
   },
   {
    "duration": 17,
    "start_time": "2022-11-03T10:27:36.004Z"
   },
   {
    "duration": 627,
    "start_time": "2022-11-03T10:27:38.741Z"
   },
   {
    "duration": 6,
    "start_time": "2022-11-03T10:27:40.357Z"
   },
   {
    "duration": 25,
    "start_time": "2022-11-03T10:27:42.485Z"
   },
   {
    "duration": 925,
    "start_time": "2022-11-03T10:27:46.853Z"
   },
   {
    "duration": 3,
    "start_time": "2022-11-03T10:28:20.085Z"
   },
   {
    "duration": 5,
    "start_time": "2022-11-03T10:28:23.413Z"
   },
   {
    "duration": 5,
    "start_time": "2022-11-03T10:28:24.350Z"
   },
   {
    "duration": 7,
    "start_time": "2022-11-03T10:28:28.364Z"
   },
   {
    "duration": 6,
    "start_time": "2022-11-03T10:28:30.020Z"
   },
   {
    "duration": 144,
    "start_time": "2022-11-03T10:30:49.411Z"
   },
   {
    "duration": 1008,
    "start_time": "2022-11-03T10:38:46.837Z"
   },
   {
    "duration": 567,
    "start_time": "2022-11-03T10:39:33.237Z"
   },
   {
    "duration": 101,
    "start_time": "2022-11-03T10:39:34.905Z"
   },
   {
    "duration": 37,
    "start_time": "2022-11-03T10:39:36.227Z"
   },
   {
    "duration": 1935,
    "start_time": "2022-11-03T10:39:37.081Z"
   },
   {
    "duration": 76,
    "start_time": "2022-11-03T10:39:39.113Z"
   },
   {
    "duration": 9,
    "start_time": "2022-11-03T10:39:42.633Z"
   },
   {
    "duration": 4,
    "start_time": "2022-11-03T10:39:48.688Z"
   },
   {
    "duration": 6,
    "start_time": "2022-11-03T10:40:06.249Z"
   },
   {
    "duration": 13,
    "start_time": "2022-11-03T10:40:09.208Z"
   },
   {
    "duration": 589,
    "start_time": "2022-11-03T10:40:10.137Z"
   },
   {
    "duration": 7,
    "start_time": "2022-11-03T10:40:14.217Z"
   },
   {
    "duration": 23,
    "start_time": "2022-11-03T10:40:15.929Z"
   },
   {
    "duration": 924,
    "start_time": "2022-11-03T10:40:18.376Z"
   },
   {
    "duration": 4,
    "start_time": "2022-11-03T10:40:21.073Z"
   },
   {
    "duration": 6,
    "start_time": "2022-11-03T10:40:27.257Z"
   },
   {
    "duration": 5,
    "start_time": "2022-11-03T10:40:28.272Z"
   },
   {
    "duration": 7,
    "start_time": "2022-11-03T10:40:30.040Z"
   },
   {
    "duration": 6,
    "start_time": "2022-11-03T10:40:31.416Z"
   },
   {
    "duration": 1123,
    "start_time": "2022-11-03T10:40:36.560Z"
   },
   {
    "duration": 10,
    "start_time": "2022-11-03T10:40:39.432Z"
   },
   {
    "duration": 4,
    "start_time": "2022-11-03T10:40:52.959Z"
   },
   {
    "duration": 7,
    "start_time": "2022-11-03T11:11:02.648Z"
   },
   {
    "duration": 4,
    "start_time": "2022-11-03T11:11:12.572Z"
   },
   {
    "duration": 140,
    "start_time": "2022-11-03T11:11:14.531Z"
   },
   {
    "duration": 5,
    "start_time": "2022-11-03T11:11:19.620Z"
   },
   {
    "duration": 4,
    "start_time": "2022-11-03T11:11:35.452Z"
   },
   {
    "duration": 1105,
    "start_time": "2022-11-03T11:11:36.828Z"
   },
   {
    "duration": 5,
    "start_time": "2022-11-03T11:11:38.299Z"
   },
   {
    "duration": 567,
    "start_time": "2022-11-03T11:44:20.151Z"
   },
   {
    "duration": 98,
    "start_time": "2022-11-03T11:44:20.719Z"
   },
   {
    "duration": 30,
    "start_time": "2022-11-03T11:44:21.029Z"
   },
   {
    "duration": 1820,
    "start_time": "2022-11-03T11:44:21.420Z"
   },
   {
    "duration": 69,
    "start_time": "2022-11-03T11:44:23.242Z"
   },
   {
    "duration": 8,
    "start_time": "2022-11-03T11:44:23.313Z"
   },
   {
    "duration": 4,
    "start_time": "2022-11-03T11:44:24.650Z"
   },
   {
    "duration": 6,
    "start_time": "2022-11-03T11:44:25.842Z"
   },
   {
    "duration": 12,
    "start_time": "2022-11-03T11:44:26.250Z"
   },
   {
    "duration": 602,
    "start_time": "2022-11-03T11:44:26.635Z"
   },
   {
    "duration": 5,
    "start_time": "2022-11-03T11:44:27.250Z"
   },
   {
    "duration": 23,
    "start_time": "2022-11-03T11:44:29.051Z"
   },
   {
    "duration": 968,
    "start_time": "2022-11-03T11:44:34.003Z"
   },
   {
    "duration": 4,
    "start_time": "2022-11-03T11:44:36.346Z"
   },
   {
    "duration": 6,
    "start_time": "2022-11-03T11:44:40.074Z"
   },
   {
    "duration": 5,
    "start_time": "2022-11-03T11:44:41.034Z"
   },
   {
    "duration": 7,
    "start_time": "2022-11-03T11:44:43.234Z"
   },
   {
    "duration": 7,
    "start_time": "2022-11-03T11:44:44.907Z"
   },
   {
    "duration": 5,
    "start_time": "2022-11-03T11:45:01.363Z"
   },
   {
    "duration": 153,
    "start_time": "2022-11-03T11:45:04.859Z"
   },
   {
    "duration": 5,
    "start_time": "2022-11-03T11:45:07.235Z"
   },
   {
    "duration": 1146,
    "start_time": "2022-11-03T11:45:22.250Z"
   },
   {
    "duration": 5,
    "start_time": "2022-11-03T11:45:25.178Z"
   },
   {
    "duration": 800,
    "start_time": "2022-11-04T09:19:31.248Z"
   },
   {
    "duration": 392,
    "start_time": "2022-11-04T09:19:35.433Z"
   },
   {
    "duration": 29,
    "start_time": "2022-11-04T09:19:39.753Z"
   },
   {
    "duration": 2109,
    "start_time": "2022-11-04T09:20:36.248Z"
   },
   {
    "duration": 85,
    "start_time": "2022-11-04T09:20:45.600Z"
   },
   {
    "duration": 10,
    "start_time": "2022-11-04T09:20:50.264Z"
   },
   {
    "duration": 11,
    "start_time": "2022-11-04T09:23:12.062Z"
   },
   {
    "duration": 4,
    "start_time": "2022-11-04T09:23:14.382Z"
   },
   {
    "duration": 6,
    "start_time": "2022-11-04T09:23:16.046Z"
   },
   {
    "duration": 14,
    "start_time": "2022-11-04T09:23:16.525Z"
   },
   {
    "duration": 627,
    "start_time": "2022-11-04T09:23:17.229Z"
   },
   {
    "duration": 8,
    "start_time": "2022-11-04T09:23:18.782Z"
   },
   {
    "duration": 9,
    "start_time": "2022-11-04T09:25:18.660Z"
   },
   {
    "duration": 9,
    "start_time": "2022-11-04T09:25:37.652Z"
   },
   {
    "duration": 1192,
    "start_time": "2022-11-04T09:26:16.947Z"
   },
   {
    "duration": 9,
    "start_time": "2022-11-04T09:26:19.164Z"
   },
   {
    "duration": 9,
    "start_time": "2022-11-04T09:26:41.645Z"
   },
   {
    "duration": 6,
    "start_time": "2022-11-04T09:26:52.669Z"
   },
   {
    "duration": 6,
    "start_time": "2022-11-04T09:27:08.035Z"
   },
   {
    "duration": 4,
    "start_time": "2022-11-04T09:29:39.449Z"
   },
   {
    "duration": 4,
    "start_time": "2022-11-04T09:29:47.922Z"
   },
   {
    "duration": 6,
    "start_time": "2022-11-04T09:30:03.937Z"
   },
   {
    "duration": 620,
    "start_time": "2022-11-04T09:30:47.031Z"
   },
   {
    "duration": 114,
    "start_time": "2022-11-04T09:30:47.653Z"
   },
   {
    "duration": 27,
    "start_time": "2022-11-04T09:30:48.037Z"
   },
   {
    "duration": 1903,
    "start_time": "2022-11-04T09:30:48.385Z"
   },
   {
    "duration": 71,
    "start_time": "2022-11-04T09:30:50.291Z"
   },
   {
    "duration": 13,
    "start_time": "2022-11-04T09:30:50.364Z"
   },
   {
    "duration": 3,
    "start_time": "2022-11-04T09:30:51.361Z"
   },
   {
    "duration": 7,
    "start_time": "2022-11-04T09:30:52.393Z"
   },
   {
    "duration": 17,
    "start_time": "2022-11-04T09:30:52.817Z"
   },
   {
    "duration": 678,
    "start_time": "2022-11-04T09:30:53.506Z"
   },
   {
    "duration": 8,
    "start_time": "2022-11-04T09:30:54.225Z"
   },
   {
    "duration": 1055,
    "start_time": "2022-11-04T09:30:58.458Z"
   },
   {
    "duration": 6,
    "start_time": "2022-11-04T09:31:16.192Z"
   },
   {
    "duration": 5,
    "start_time": "2022-11-04T09:33:05.936Z"
   },
   {
    "duration": 6,
    "start_time": "2022-11-04T09:33:11.680Z"
   },
   {
    "duration": 4,
    "start_time": "2022-11-04T09:34:49.479Z"
   },
   {
    "duration": 612,
    "start_time": "2022-11-04T09:34:51.335Z"
   },
   {
    "duration": 589,
    "start_time": "2022-11-04T09:35:18.823Z"
   },
   {
    "duration": 698,
    "start_time": "2022-11-04T09:35:26.878Z"
   },
   {
    "duration": 509,
    "start_time": "2022-11-04T09:35:37.574Z"
   },
   {
    "duration": 47,
    "start_time": "2022-11-04T09:36:02.285Z"
   },
   {
    "duration": 589,
    "start_time": "2022-11-04T09:36:07.503Z"
   },
   {
    "duration": 102,
    "start_time": "2022-11-04T09:36:08.370Z"
   },
   {
    "duration": 6,
    "start_time": "2022-11-04T09:36:13.419Z"
   },
   {
    "duration": 6,
    "start_time": "2022-11-04T09:36:17.321Z"
   },
   {
    "duration": 4,
    "start_time": "2022-11-04T09:36:19.569Z"
   },
   {
    "duration": 5,
    "start_time": "2022-11-04T09:36:23.729Z"
   },
   {
    "duration": 5,
    "start_time": "2022-11-04T09:36:24.817Z"
   },
   {
    "duration": 50,
    "start_time": "2022-11-04T09:36:43.432Z"
   },
   {
    "duration": 11,
    "start_time": "2022-11-04T09:36:53.385Z"
   },
   {
    "duration": 13,
    "start_time": "2022-11-04T09:38:08.137Z"
   },
   {
    "duration": 16,
    "start_time": "2022-11-04T09:38:27.713Z"
   },
   {
    "duration": 7,
    "start_time": "2022-11-04T09:38:49.341Z"
   },
   {
    "duration": 12,
    "start_time": "2022-11-04T09:39:04.272Z"
   },
   {
    "duration": 5,
    "start_time": "2022-11-04T09:39:10.223Z"
   },
   {
    "duration": 12,
    "start_time": "2022-11-04T09:39:12.967Z"
   },
   {
    "duration": 12,
    "start_time": "2022-11-04T09:39:45.799Z"
   },
   {
    "duration": 8,
    "start_time": "2022-11-04T09:40:34.375Z"
   },
   {
    "duration": 15,
    "start_time": "2022-11-04T09:40:45.087Z"
   },
   {
    "duration": 10,
    "start_time": "2022-11-04T09:42:03.520Z"
   },
   {
    "duration": 9,
    "start_time": "2022-11-04T09:42:53.055Z"
   },
   {
    "duration": 6,
    "start_time": "2022-11-04T09:42:54.861Z"
   },
   {
    "duration": 595,
    "start_time": "2022-11-04T09:43:03.729Z"
   },
   {
    "duration": 104,
    "start_time": "2022-11-04T09:43:04.335Z"
   },
   {
    "duration": 41,
    "start_time": "2022-11-04T09:43:05.085Z"
   },
   {
    "duration": 2150,
    "start_time": "2022-11-04T09:43:05.806Z"
   },
   {
    "duration": 77,
    "start_time": "2022-11-04T09:43:07.959Z"
   },
   {
    "duration": 10,
    "start_time": "2022-11-04T09:43:08.357Z"
   },
   {
    "duration": 4,
    "start_time": "2022-11-04T09:43:10.949Z"
   },
   {
    "duration": 7,
    "start_time": "2022-11-04T09:43:12.164Z"
   },
   {
    "duration": 13,
    "start_time": "2022-11-04T09:43:13.718Z"
   },
   {
    "duration": 685,
    "start_time": "2022-11-04T09:43:16.948Z"
   },
   {
    "duration": 7,
    "start_time": "2022-11-04T09:43:18.268Z"
   },
   {
    "duration": 28,
    "start_time": "2022-11-04T09:43:21.413Z"
   },
   {
    "duration": 13,
    "start_time": "2022-11-04T09:43:25.300Z"
   },
   {
    "duration": 1206,
    "start_time": "2022-11-04T09:43:26.406Z"
   },
   {
    "duration": 8,
    "start_time": "2022-11-04T09:43:30.092Z"
   },
   {
    "duration": 8,
    "start_time": "2022-11-04T09:43:45.132Z"
   },
   {
    "duration": 6,
    "start_time": "2022-11-04T09:43:46.070Z"
   },
   {
    "duration": 78,
    "start_time": "2022-11-04T09:44:31.427Z"
   },
   {
    "duration": 12,
    "start_time": "2022-11-04T09:44:53.860Z"
   },
   {
    "duration": 6,
    "start_time": "2022-11-04T09:45:29.012Z"
   },
   {
    "duration": 45,
    "start_time": "2022-11-04T09:45:44.907Z"
   },
   {
    "duration": 7,
    "start_time": "2022-11-04T09:45:52.796Z"
   },
   {
    "duration": 6,
    "start_time": "2022-11-04T09:45:53.947Z"
   },
   {
    "duration": 44,
    "start_time": "2022-11-04T09:45:54.597Z"
   },
   {
    "duration": 8,
    "start_time": "2022-11-04T09:49:45.616Z"
   },
   {
    "duration": 5,
    "start_time": "2022-11-04T09:49:47.624Z"
   },
   {
    "duration": 10,
    "start_time": "2022-11-04T09:49:54.329Z"
   },
   {
    "duration": 7,
    "start_time": "2022-11-04T09:50:00.144Z"
   },
   {
    "duration": 5,
    "start_time": "2022-11-04T09:50:19.584Z"
   },
   {
    "duration": 7,
    "start_time": "2022-11-04T09:50:20.616Z"
   },
   {
    "duration": 10,
    "start_time": "2022-11-04T09:50:30.480Z"
   },
   {
    "duration": 3,
    "start_time": "2022-11-04T09:50:49.575Z"
   },
   {
    "duration": 6,
    "start_time": "2022-11-04T09:51:01.648Z"
   },
   {
    "duration": 10,
    "start_time": "2022-11-04T09:51:02.536Z"
   },
   {
    "duration": 5,
    "start_time": "2022-11-04T09:51:44.552Z"
   },
   {
    "duration": 8,
    "start_time": "2022-11-04T09:51:45.455Z"
   },
   {
    "duration": 7,
    "start_time": "2022-11-04T09:51:50.288Z"
   },
   {
    "duration": 14,
    "start_time": "2022-11-04T09:52:22.791Z"
   },
   {
    "duration": 44,
    "start_time": "2022-11-04T09:53:17.542Z"
   },
   {
    "duration": 7,
    "start_time": "2022-11-04T09:53:40.846Z"
   },
   {
    "duration": 17,
    "start_time": "2022-11-04T09:53:55.797Z"
   },
   {
    "duration": 6,
    "start_time": "2022-11-04T09:55:29.575Z"
   },
   {
    "duration": 5,
    "start_time": "2022-11-04T09:55:58.924Z"
   },
   {
    "duration": 901,
    "start_time": "2022-11-04T09:56:11.204Z"
   },
   {
    "duration": 5,
    "start_time": "2022-11-04T09:56:13.118Z"
   },
   {
    "duration": 541,
    "start_time": "2022-11-04T09:57:36.772Z"
   },
   {
    "duration": 14,
    "start_time": "2022-11-04T09:57:52.276Z"
   },
   {
    "duration": 4,
    "start_time": "2022-11-04T10:02:26.184Z"
   },
   {
    "duration": 1144,
    "start_time": "2022-11-04T10:02:32.837Z"
   },
   {
    "duration": 106,
    "start_time": "2022-11-04T10:02:34.180Z"
   },
   {
    "duration": 29,
    "start_time": "2022-11-04T10:02:35.509Z"
   },
   {
    "duration": 2012,
    "start_time": "2022-11-04T10:02:36.155Z"
   },
   {
    "duration": 76,
    "start_time": "2022-11-04T10:02:38.515Z"
   },
   {
    "duration": 8,
    "start_time": "2022-11-04T10:02:41.154Z"
   },
   {
    "duration": 4,
    "start_time": "2022-11-04T10:02:45.441Z"
   },
   {
    "duration": 4,
    "start_time": "2022-11-04T10:02:49.114Z"
   },
   {
    "duration": 14,
    "start_time": "2022-11-04T10:02:55.530Z"
   },
   {
    "duration": 671,
    "start_time": "2022-11-04T10:02:56.745Z"
   },
   {
    "duration": 9,
    "start_time": "2022-11-04T10:02:58.403Z"
   },
   {
    "duration": 44,
    "start_time": "2022-11-04T10:03:01.234Z"
   },
   {
    "duration": 10,
    "start_time": "2022-11-04T10:03:22.082Z"
   },
   {
    "duration": 1115,
    "start_time": "2022-11-04T10:03:24.530Z"
   },
   {
    "duration": 7,
    "start_time": "2022-11-04T10:03:28.154Z"
   },
   {
    "duration": 8,
    "start_time": "2022-11-04T10:03:33.770Z"
   },
   {
    "duration": 5,
    "start_time": "2022-11-04T10:03:34.321Z"
   },
   {
    "duration": 61,
    "start_time": "2022-11-04T10:03:37.042Z"
   },
   {
    "duration": 9,
    "start_time": "2022-11-04T10:04:16.921Z"
   },
   {
    "duration": 4,
    "start_time": "2022-11-04T10:04:18.945Z"
   },
   {
    "duration": 19,
    "start_time": "2022-11-04T10:04:20.258Z"
   },
   {
    "duration": 50,
    "start_time": "2022-11-04T10:04:36.898Z"
   },
   {
    "duration": 6,
    "start_time": "2022-11-04T10:04:49.290Z"
   },
   {
    "duration": 5,
    "start_time": "2022-11-04T10:04:51.754Z"
   },
   {
    "duration": 5,
    "start_time": "2022-11-04T10:04:55.648Z"
   },
   {
    "duration": 130,
    "start_time": "2022-11-04T10:05:43.129Z"
   },
   {
    "duration": 3,
    "start_time": "2022-11-04T10:06:13.000Z"
   },
   {
    "duration": 15,
    "start_time": "2022-11-04T10:06:14.855Z"
   },
   {
    "duration": 5,
    "start_time": "2022-11-04T10:07:08.143Z"
   },
   {
    "duration": 16,
    "start_time": "2022-11-04T10:07:49.897Z"
   },
   {
    "duration": 921,
    "start_time": "2022-11-04T11:53:14.868Z"
   },
   {
    "duration": 6,
    "start_time": "2022-11-04T11:53:16.963Z"
   },
   {
    "duration": 21,
    "start_time": "2022-11-04T12:04:51.965Z"
   },
   {
    "duration": 1182,
    "start_time": "2022-11-04T12:06:05.834Z"
   },
   {
    "duration": 122,
    "start_time": "2022-11-04T12:06:07.018Z"
   },
   {
    "duration": 31,
    "start_time": "2022-11-04T12:06:07.207Z"
   },
   {
    "duration": 2171,
    "start_time": "2022-11-04T12:06:07.950Z"
   },
   {
    "duration": 83,
    "start_time": "2022-11-04T12:06:10.123Z"
   },
   {
    "duration": 12,
    "start_time": "2022-11-04T12:06:10.209Z"
   },
   {
    "duration": 5,
    "start_time": "2022-11-04T12:06:23.501Z"
   },
   {
    "duration": 18,
    "start_time": "2022-11-04T12:06:28.438Z"
   },
   {
    "duration": 1431,
    "start_time": "2022-11-04T12:06:53.358Z"
   },
   {
    "duration": 6,
    "start_time": "2022-11-04T12:06:54.878Z"
   },
   {
    "duration": 16,
    "start_time": "2022-11-04T12:08:58.172Z"
   },
   {
    "duration": 19,
    "start_time": "2022-11-04T12:16:52.654Z"
   },
   {
    "duration": 1117,
    "start_time": "2022-11-04T12:39:41.605Z"
   },
   {
    "duration": 103,
    "start_time": "2022-11-04T12:39:42.725Z"
   },
   {
    "duration": 35,
    "start_time": "2022-11-04T12:39:43.009Z"
   },
   {
    "duration": 2104,
    "start_time": "2022-11-04T12:39:43.536Z"
   },
   {
    "duration": 81,
    "start_time": "2022-11-04T12:39:45.643Z"
   },
   {
    "duration": 10,
    "start_time": "2022-11-04T12:39:46.152Z"
   },
   {
    "duration": 6,
    "start_time": "2022-11-04T12:39:48.096Z"
   },
   {
    "duration": 4,
    "start_time": "2022-11-04T12:39:51.001Z"
   },
   {
    "duration": 13,
    "start_time": "2022-11-04T12:39:51.409Z"
   },
   {
    "duration": 650,
    "start_time": "2022-11-04T12:39:51.809Z"
   },
   {
    "duration": 6,
    "start_time": "2022-11-04T12:39:53.065Z"
   },
   {
    "duration": 27,
    "start_time": "2022-11-04T12:39:56.318Z"
   },
   {
    "duration": 9,
    "start_time": "2022-11-04T12:39:58.035Z"
   },
   {
    "duration": 1054,
    "start_time": "2022-11-04T12:39:59.177Z"
   },
   {
    "duration": 6,
    "start_time": "2022-11-04T12:40:00.233Z"
   },
   {
    "duration": 16,
    "start_time": "2022-11-04T12:40:02.321Z"
   },
   {
    "duration": 4,
    "start_time": "2022-11-04T12:40:03.424Z"
   },
   {
    "duration": 46,
    "start_time": "2022-11-04T12:40:07.225Z"
   },
   {
    "duration": 5,
    "start_time": "2022-11-04T12:40:10.457Z"
   },
   {
    "duration": 18,
    "start_time": "2022-11-04T12:40:11.880Z"
   },
   {
    "duration": 45,
    "start_time": "2022-11-04T12:40:26.139Z"
   },
   {
    "duration": 7,
    "start_time": "2022-11-04T12:40:27.848Z"
   },
   {
    "duration": 5,
    "start_time": "2022-11-04T12:40:28.745Z"
   },
   {
    "duration": 5,
    "start_time": "2022-11-04T12:40:34.488Z"
   },
   {
    "duration": 18,
    "start_time": "2022-11-04T12:41:07.176Z"
   },
   {
    "duration": 36,
    "start_time": "2022-11-04T12:41:45.648Z"
   },
   {
    "duration": 1229,
    "start_time": "2022-11-04T20:26:30.094Z"
   },
   {
    "duration": 341,
    "start_time": "2022-11-04T20:26:31.325Z"
   },
   {
    "duration": 29,
    "start_time": "2022-11-04T20:26:32.585Z"
   },
   {
    "duration": 1783,
    "start_time": "2022-11-04T20:26:34.426Z"
   },
   {
    "duration": 1318,
    "start_time": "2022-11-07T04:42:28.208Z"
   },
   {
    "duration": 321,
    "start_time": "2022-11-07T04:42:29.528Z"
   },
   {
    "duration": 27,
    "start_time": "2022-11-07T04:42:29.851Z"
   },
   {
    "duration": 1780,
    "start_time": "2022-11-07T04:42:30.732Z"
   },
   {
    "duration": 67,
    "start_time": "2022-11-07T04:42:32.514Z"
   },
   {
    "duration": 9,
    "start_time": "2022-11-07T04:42:32.931Z"
   },
   {
    "duration": 5,
    "start_time": "2022-11-07T04:42:36.018Z"
   },
   {
    "duration": 4,
    "start_time": "2022-11-07T04:42:37.635Z"
   },
   {
    "duration": 13,
    "start_time": "2022-11-07T04:42:38.643Z"
   },
   {
    "duration": 626,
    "start_time": "2022-11-07T04:42:39.883Z"
   },
   {
    "duration": 8,
    "start_time": "2022-11-07T04:42:43.259Z"
   },
   {
    "duration": 24,
    "start_time": "2022-11-07T04:42:45.355Z"
   },
   {
    "duration": 10,
    "start_time": "2022-11-07T04:42:47.654Z"
   },
   {
    "duration": 969,
    "start_time": "2022-11-07T04:42:48.714Z"
   },
   {
    "duration": 6,
    "start_time": "2022-11-07T04:42:52.299Z"
   },
   {
    "duration": 11,
    "start_time": "2022-11-07T04:43:35.113Z"
   },
   {
    "duration": 5,
    "start_time": "2022-11-07T04:43:37.322Z"
   },
   {
    "duration": 43,
    "start_time": "2022-11-07T04:43:41.642Z"
   },
   {
    "duration": 46,
    "start_time": "2022-11-07T04:44:45.339Z"
   },
   {
    "duration": 8,
    "start_time": "2022-11-07T04:44:47.929Z"
   },
   {
    "duration": 5,
    "start_time": "2022-11-07T04:44:48.609Z"
   },
   {
    "duration": 4,
    "start_time": "2022-11-07T04:44:53.153Z"
   },
   {
    "duration": 702,
    "start_time": "2022-11-07T04:46:01.600Z"
   },
   {
    "duration": 691,
    "start_time": "2022-11-07T04:46:03.417Z"
   },
   {
    "duration": 4,
    "start_time": "2022-11-07T04:46:24.513Z"
   },
   {
    "duration": 7,
    "start_time": "2022-11-07T04:46:51.408Z"
   },
   {
    "duration": 4,
    "start_time": "2022-11-07T05:28:27.116Z"
   },
   {
    "duration": 9,
    "start_time": "2022-11-07T05:28:35.588Z"
   },
   {
    "duration": 5,
    "start_time": "2022-11-07T05:29:32.493Z"
   },
   {
    "duration": 4,
    "start_time": "2022-11-07T05:29:42.522Z"
   },
   {
    "duration": 9,
    "start_time": "2022-11-07T05:30:11.538Z"
   },
   {
    "duration": 759,
    "start_time": "2022-11-07T05:41:20.755Z"
   },
   {
    "duration": 5,
    "start_time": "2022-11-07T05:41:28.899Z"
   },
   {
    "duration": 5,
    "start_time": "2022-11-07T05:43:19.409Z"
   },
   {
    "duration": 45,
    "start_time": "2022-11-07T05:55:19.225Z"
   },
   {
    "duration": 12,
    "start_time": "2022-11-07T05:55:37.794Z"
   },
   {
    "duration": 9,
    "start_time": "2022-11-07T05:56:06.737Z"
   },
   {
    "duration": 9,
    "start_time": "2022-11-07T05:57:10.696Z"
   },
   {
    "duration": 15,
    "start_time": "2022-11-07T05:57:32.488Z"
   },
   {
    "duration": 5,
    "start_time": "2022-11-07T06:02:47.676Z"
   },
   {
    "duration": 1182,
    "start_time": "2022-11-07T06:03:53.666Z"
   },
   {
    "duration": 104,
    "start_time": "2022-11-07T06:03:54.850Z"
   },
   {
    "duration": 29,
    "start_time": "2022-11-07T06:03:56.318Z"
   },
   {
    "duration": 1863,
    "start_time": "2022-11-07T06:03:57.477Z"
   },
   {
    "duration": 69,
    "start_time": "2022-11-07T06:03:59.342Z"
   },
   {
    "duration": 9,
    "start_time": "2022-11-07T06:03:59.590Z"
   },
   {
    "duration": 5,
    "start_time": "2022-11-07T06:04:04.077Z"
   },
   {
    "duration": 5,
    "start_time": "2022-11-07T06:04:05.709Z"
   },
   {
    "duration": 23,
    "start_time": "2022-11-07T06:04:06.349Z"
   },
   {
    "duration": 661,
    "start_time": "2022-11-07T06:04:06.941Z"
   },
   {
    "duration": 6,
    "start_time": "2022-11-07T06:04:08.117Z"
   },
   {
    "duration": 24,
    "start_time": "2022-11-07T06:04:09.517Z"
   },
   {
    "duration": 8,
    "start_time": "2022-11-07T06:04:11.445Z"
   },
   {
    "duration": 980,
    "start_time": "2022-11-07T06:04:12.461Z"
   },
   {
    "duration": 7,
    "start_time": "2022-11-07T06:04:14.622Z"
   },
   {
    "duration": 12,
    "start_time": "2022-11-07T06:04:16.188Z"
   },
   {
    "duration": 5,
    "start_time": "2022-11-07T06:04:17.597Z"
   },
   {
    "duration": 44,
    "start_time": "2022-11-07T06:04:18.518Z"
   },
   {
    "duration": 6,
    "start_time": "2022-11-07T06:04:21.314Z"
   },
   {
    "duration": 49,
    "start_time": "2022-11-07T06:04:32.958Z"
   },
   {
    "duration": 8,
    "start_time": "2022-11-07T06:04:37.501Z"
   },
   {
    "duration": 6,
    "start_time": "2022-11-07T06:04:39.590Z"
   },
   {
    "duration": 6,
    "start_time": "2022-11-07T06:04:42.061Z"
   },
   {
    "duration": 801,
    "start_time": "2022-11-07T06:04:42.941Z"
   },
   {
    "duration": 772,
    "start_time": "2022-11-07T06:04:43.744Z"
   },
   {
    "duration": 5,
    "start_time": "2022-11-07T06:04:45.116Z"
   },
   {
    "duration": 15,
    "start_time": "2022-11-07T06:04:47.132Z"
   },
   {
    "duration": 6,
    "start_time": "2022-11-07T06:05:59.579Z"
   },
   {
    "duration": 7,
    "start_time": "2022-11-07T06:06:00.996Z"
   },
   {
    "duration": 5,
    "start_time": "2022-11-07T06:06:21.811Z"
   },
   {
    "duration": 20,
    "start_time": "2022-11-07T06:06:41.555Z"
   },
   {
    "duration": 4,
    "start_time": "2022-11-07T06:10:39.969Z"
   },
   {
    "duration": 5,
    "start_time": "2022-11-07T06:11:42.537Z"
   },
   {
    "duration": 12,
    "start_time": "2022-11-07T06:12:45.784Z"
   },
   {
    "duration": 126,
    "start_time": "2022-11-07T06:20:11.299Z"
   },
   {
    "duration": 3,
    "start_time": "2022-11-07T06:23:05.048Z"
   },
   {
    "duration": 13,
    "start_time": "2022-11-07T06:23:07.040Z"
   },
   {
    "duration": 14,
    "start_time": "2022-11-07T06:23:11.296Z"
   },
   {
    "duration": 7,
    "start_time": "2022-11-07T07:30:23.595Z"
   },
   {
    "duration": 4,
    "start_time": "2022-11-07T07:34:54.280Z"
   },
   {
    "duration": 8,
    "start_time": "2022-11-07T07:35:09.655Z"
   },
   {
    "duration": 7,
    "start_time": "2022-11-07T07:35:25.872Z"
   },
   {
    "duration": 8,
    "start_time": "2022-11-07T07:36:51.799Z"
   },
   {
    "duration": 6,
    "start_time": "2022-11-07T07:50:20.950Z"
   },
   {
    "duration": 34,
    "start_time": "2022-11-07T07:50:31.774Z"
   },
   {
    "duration": 25,
    "start_time": "2022-11-07T07:54:52.899Z"
   },
   {
    "duration": 30,
    "start_time": "2022-11-07T07:56:02.475Z"
   },
   {
    "duration": 3,
    "start_time": "2022-11-07T07:59:39.744Z"
   },
   {
    "duration": 3,
    "start_time": "2022-11-07T08:00:19.096Z"
   },
   {
    "duration": 3,
    "start_time": "2022-11-07T08:00:57.776Z"
   },
   {
    "duration": 329,
    "start_time": "2022-11-07T08:02:02.101Z"
   },
   {
    "duration": 21,
    "start_time": "2022-11-07T08:02:09.695Z"
   },
   {
    "duration": 4,
    "start_time": "2022-11-07T08:06:38.060Z"
   },
   {
    "duration": 24,
    "start_time": "2022-11-07T08:06:43.715Z"
   },
   {
    "duration": 14,
    "start_time": "2022-11-07T08:07:28.755Z"
   },
   {
    "duration": 24,
    "start_time": "2022-11-07T08:07:47.036Z"
   },
   {
    "duration": 111,
    "start_time": "2022-11-07T08:17:53.883Z"
   },
   {
    "duration": 208,
    "start_time": "2022-11-07T08:18:03.012Z"
   },
   {
    "duration": 160,
    "start_time": "2022-11-07T08:18:11.243Z"
   },
   {
    "duration": 530,
    "start_time": "2022-11-07T08:18:15.908Z"
   },
   {
    "duration": 205,
    "start_time": "2022-11-07T08:18:20.916Z"
   },
   {
    "duration": 106,
    "start_time": "2022-11-07T08:19:20.946Z"
   },
   {
    "duration": 406,
    "start_time": "2022-11-07T08:19:25.122Z"
   },
   {
    "duration": 204,
    "start_time": "2022-11-07T08:19:31.626Z"
   },
   {
    "duration": 294,
    "start_time": "2022-11-07T08:20:00.154Z"
   },
   {
    "duration": 48,
    "start_time": "2022-11-07T08:48:45.888Z"
   },
   {
    "duration": 44,
    "start_time": "2022-11-07T08:49:58.543Z"
   },
   {
    "duration": 51,
    "start_time": "2022-11-07T08:50:10.137Z"
   },
   {
    "duration": 80,
    "start_time": "2022-11-07T08:50:43.574Z"
   },
   {
    "duration": 47,
    "start_time": "2022-11-07T08:51:12.318Z"
   },
   {
    "duration": 131,
    "start_time": "2022-11-07T08:51:38.301Z"
   },
   {
    "duration": 46,
    "start_time": "2022-11-07T08:51:44.740Z"
   },
   {
    "duration": 48,
    "start_time": "2022-11-07T08:51:51.981Z"
   },
   {
    "duration": 48,
    "start_time": "2022-11-07T08:51:53.957Z"
   },
   {
    "duration": 52,
    "start_time": "2022-11-07T08:51:56.310Z"
   },
   {
    "duration": 52,
    "start_time": "2022-11-07T08:51:59.072Z"
   },
   {
    "duration": 47,
    "start_time": "2022-11-07T08:52:24.677Z"
   },
   {
    "duration": 46,
    "start_time": "2022-11-07T08:52:35.693Z"
   },
   {
    "duration": 325,
    "start_time": "2022-11-07T08:52:47.827Z"
   },
   {
    "duration": 323,
    "start_time": "2022-11-07T08:52:51.924Z"
   },
   {
    "duration": 149,
    "start_time": "2022-11-07T08:53:31.228Z"
   },
   {
    "duration": 260,
    "start_time": "2022-11-07T08:54:55.931Z"
   },
   {
    "duration": 390,
    "start_time": "2022-11-07T08:55:06.387Z"
   },
   {
    "duration": 198,
    "start_time": "2022-11-07T08:55:20.675Z"
   },
   {
    "duration": 212,
    "start_time": "2022-11-07T09:02:29.911Z"
   },
   {
    "duration": 195,
    "start_time": "2022-11-07T09:03:21.782Z"
   },
   {
    "duration": 205,
    "start_time": "2022-11-07T09:03:32.710Z"
   },
   {
    "duration": 267,
    "start_time": "2022-11-07T09:03:38.719Z"
   },
   {
    "duration": 176,
    "start_time": "2022-11-07T09:03:42.414Z"
   },
   {
    "duration": 152,
    "start_time": "2022-11-07T09:03:51.958Z"
   },
   {
    "duration": 318,
    "start_time": "2022-11-07T09:03:57.181Z"
   },
   {
    "duration": 214,
    "start_time": "2022-11-07T09:04:03.534Z"
   },
   {
    "duration": 212,
    "start_time": "2022-11-07T09:04:10.221Z"
   },
   {
    "duration": 12,
    "start_time": "2022-11-07T09:17:55.292Z"
   },
   {
    "duration": 107,
    "start_time": "2022-11-07T09:18:17.172Z"
   },
   {
    "duration": 108,
    "start_time": "2022-11-07T09:18:28.484Z"
   },
   {
    "duration": 172,
    "start_time": "2022-11-07T09:32:35.516Z"
   },
   {
    "duration": 209,
    "start_time": "2022-11-07T09:32:49.159Z"
   },
   {
    "duration": 209,
    "start_time": "2022-11-07T09:32:52.373Z"
   },
   {
    "duration": 198,
    "start_time": "2022-11-07T09:33:05.138Z"
   },
   {
    "duration": 41,
    "start_time": "2022-11-07T09:34:47.860Z"
   },
   {
    "duration": 399,
    "start_time": "2022-11-07T09:46:56.457Z"
   },
   {
    "duration": 282,
    "start_time": "2022-11-07T09:49:33.072Z"
   },
   {
    "duration": 275,
    "start_time": "2022-11-07T09:49:42.903Z"
   },
   {
    "duration": 1155,
    "start_time": "2022-11-07T09:50:24.475Z"
   },
   {
    "duration": 119,
    "start_time": "2022-11-07T09:50:25.632Z"
   },
   {
    "duration": 29,
    "start_time": "2022-11-07T09:50:26.176Z"
   },
   {
    "duration": 1881,
    "start_time": "2022-11-07T09:50:27.287Z"
   },
   {
    "duration": 70,
    "start_time": "2022-11-07T09:50:29.171Z"
   },
   {
    "duration": 10,
    "start_time": "2022-11-07T09:50:29.855Z"
   },
   {
    "duration": 4,
    "start_time": "2022-11-07T09:51:08.015Z"
   },
   {
    "duration": 5,
    "start_time": "2022-11-07T09:51:09.438Z"
   },
   {
    "duration": 14,
    "start_time": "2022-11-07T09:51:09.943Z"
   },
   {
    "duration": 659,
    "start_time": "2022-11-07T09:51:10.494Z"
   },
   {
    "duration": 8,
    "start_time": "2022-11-07T09:51:11.155Z"
   },
   {
    "duration": 25,
    "start_time": "2022-11-07T09:51:11.655Z"
   },
   {
    "duration": 10,
    "start_time": "2022-11-07T09:51:12.885Z"
   },
   {
    "duration": 1023,
    "start_time": "2022-11-07T09:51:13.399Z"
   },
   {
    "duration": 7,
    "start_time": "2022-11-07T09:51:14.424Z"
   },
   {
    "duration": 11,
    "start_time": "2022-11-07T09:51:16.454Z"
   },
   {
    "duration": 5,
    "start_time": "2022-11-07T09:51:17.182Z"
   },
   {
    "duration": 44,
    "start_time": "2022-11-07T09:51:17.991Z"
   },
   {
    "duration": 7,
    "start_time": "2022-11-07T09:51:19.966Z"
   },
   {
    "duration": 42,
    "start_time": "2022-11-07T09:53:06.693Z"
   },
   {
    "duration": 7,
    "start_time": "2022-11-07T09:53:43.308Z"
   },
   {
    "duration": 4,
    "start_time": "2022-11-07T09:53:45.165Z"
   },
   {
    "duration": 5,
    "start_time": "2022-11-07T09:53:52.860Z"
   },
   {
    "duration": 734,
    "start_time": "2022-11-07T09:53:53.644Z"
   },
   {
    "duration": 801,
    "start_time": "2022-11-07T09:53:54.381Z"
   },
   {
    "duration": 5,
    "start_time": "2022-11-07T09:53:56.492Z"
   },
   {
    "duration": 14,
    "start_time": "2022-11-07T09:53:57.733Z"
   },
   {
    "duration": 4,
    "start_time": "2022-11-07T09:54:09.853Z"
   },
   {
    "duration": 6,
    "start_time": "2022-11-07T09:54:27.894Z"
   },
   {
    "duration": 4,
    "start_time": "2022-11-07T09:54:38.868Z"
   },
   {
    "duration": 9,
    "start_time": "2022-11-07T09:54:47.924Z"
   },
   {
    "duration": 13,
    "start_time": "2022-11-07T09:54:50.811Z"
   },
   {
    "duration": 27,
    "start_time": "2022-11-07T09:55:55.363Z"
   },
   {
    "duration": 31,
    "start_time": "2022-11-07T09:56:02.771Z"
   },
   {
    "duration": 4,
    "start_time": "2022-11-07T09:56:10.362Z"
   },
   {
    "duration": 336,
    "start_time": "2022-11-07T09:56:11.835Z"
   },
   {
    "duration": 25,
    "start_time": "2022-11-07T09:56:22.275Z"
   },
   {
    "duration": 204,
    "start_time": "2022-11-07T09:56:25.466Z"
   },
   {
    "duration": 201,
    "start_time": "2022-11-07T09:56:29.146Z"
   },
   {
    "duration": 169,
    "start_time": "2022-11-07T09:56:30.259Z"
   },
   {
    "duration": 260,
    "start_time": "2022-11-07T09:57:50.177Z"
   },
   {
    "duration": 381,
    "start_time": "2022-11-07T09:58:17.345Z"
   },
   {
    "duration": 273,
    "start_time": "2022-11-07T09:58:34.609Z"
   },
   {
    "duration": 269,
    "start_time": "2022-11-07T09:58:38.897Z"
   },
   {
    "duration": 284,
    "start_time": "2022-11-07T09:59:13.160Z"
   },
   {
    "duration": 256,
    "start_time": "2022-11-07T09:59:25.536Z"
   },
   {
    "duration": 188,
    "start_time": "2022-11-07T09:59:32.336Z"
   },
   {
    "duration": 190,
    "start_time": "2022-11-07T09:59:42.168Z"
   },
   {
    "duration": 1213,
    "start_time": "2022-11-08T03:33:44.815Z"
   },
   {
    "duration": 324,
    "start_time": "2022-11-08T03:33:54.056Z"
   },
   {
    "duration": 26,
    "start_time": "2022-11-08T03:33:55.481Z"
   },
   {
    "duration": 1796,
    "start_time": "2022-11-08T03:33:56.239Z"
   },
   {
    "duration": 66,
    "start_time": "2022-11-08T03:33:58.037Z"
   },
   {
    "duration": 9,
    "start_time": "2022-11-08T03:33:58.519Z"
   },
   {
    "duration": 5,
    "start_time": "2022-11-08T03:34:00.527Z"
   },
   {
    "duration": 4,
    "start_time": "2022-11-08T03:34:01.687Z"
   },
   {
    "duration": 15,
    "start_time": "2022-11-08T03:34:02.135Z"
   },
   {
    "duration": 615,
    "start_time": "2022-11-08T03:34:02.536Z"
   },
   {
    "duration": 6,
    "start_time": "2022-11-08T03:34:03.152Z"
   },
   {
    "duration": 23,
    "start_time": "2022-11-08T03:34:04.040Z"
   },
   {
    "duration": 9,
    "start_time": "2022-11-08T03:34:06.911Z"
   },
   {
    "duration": 965,
    "start_time": "2022-11-08T03:34:07.783Z"
   },
   {
    "duration": 5,
    "start_time": "2022-11-08T03:34:10.399Z"
   },
   {
    "duration": 9,
    "start_time": "2022-11-08T03:34:11.528Z"
   },
   {
    "duration": 4,
    "start_time": "2022-11-08T03:34:12.528Z"
   },
   {
    "duration": 41,
    "start_time": "2022-11-08T03:34:13.368Z"
   },
   {
    "duration": 7,
    "start_time": "2022-11-08T03:34:15.302Z"
   },
   {
    "duration": 40,
    "start_time": "2022-11-08T03:34:16.447Z"
   },
   {
    "duration": 7,
    "start_time": "2022-11-08T03:34:18.159Z"
   },
   {
    "duration": 5,
    "start_time": "2022-11-08T03:34:18.984Z"
   },
   {
    "duration": 4,
    "start_time": "2022-11-08T03:34:20.151Z"
   },
   {
    "duration": 762,
    "start_time": "2022-11-08T03:34:20.935Z"
   },
   {
    "duration": 743,
    "start_time": "2022-11-08T03:34:21.699Z"
   },
   {
    "duration": 6,
    "start_time": "2022-11-08T03:34:22.444Z"
   },
   {
    "duration": 15,
    "start_time": "2022-11-08T03:34:22.452Z"
   },
   {
    "duration": 5,
    "start_time": "2022-11-08T03:34:23.918Z"
   },
   {
    "duration": 5,
    "start_time": "2022-11-08T03:34:24.911Z"
   },
   {
    "duration": 3,
    "start_time": "2022-11-08T03:34:25.935Z"
   },
   {
    "duration": 10,
    "start_time": "2022-11-08T03:34:27.086Z"
   },
   {
    "duration": 13,
    "start_time": "2022-11-08T03:34:27.759Z"
   },
   {
    "duration": 24,
    "start_time": "2022-11-08T03:34:34.094Z"
   },
   {
    "duration": 32,
    "start_time": "2022-11-08T03:34:36.103Z"
   },
   {
    "duration": 2,
    "start_time": "2022-11-08T03:34:37.415Z"
   },
   {
    "duration": 282,
    "start_time": "2022-11-08T03:34:38.030Z"
   },
   {
    "duration": 23,
    "start_time": "2022-11-08T03:34:39.695Z"
   },
   {
    "duration": 193,
    "start_time": "2022-11-08T03:34:44.118Z"
   },
   {
    "duration": 191,
    "start_time": "2022-11-08T03:34:49.185Z"
   },
   {
    "duration": 176,
    "start_time": "2022-11-08T03:34:50.416Z"
   },
   {
    "duration": 188,
    "start_time": "2022-11-08T03:35:23.406Z"
   },
   {
    "duration": 221,
    "start_time": "2022-11-08T03:47:21.766Z"
   },
   {
    "duration": 306,
    "start_time": "2022-11-08T03:47:28.926Z"
   },
   {
    "duration": 197,
    "start_time": "2022-11-08T03:47:44.110Z"
   },
   {
    "duration": 187,
    "start_time": "2022-11-08T03:47:53.774Z"
   },
   {
    "duration": 32,
    "start_time": "2022-11-08T03:50:44.443Z"
   },
   {
    "duration": 9,
    "start_time": "2022-11-08T03:51:37.380Z"
   },
   {
    "duration": 161,
    "start_time": "2022-11-08T04:06:04.603Z"
   },
   {
    "duration": 112,
    "start_time": "2022-11-08T04:09:17.225Z"
   },
   {
    "duration": 22,
    "start_time": "2022-11-08T04:10:17.129Z"
   },
   {
    "duration": 247,
    "start_time": "2022-11-08T04:12:24.102Z"
   },
   {
    "duration": 263,
    "start_time": "2022-11-08T04:12:34.447Z"
   },
   {
    "duration": 205,
    "start_time": "2022-11-08T04:12:42.103Z"
   },
   {
    "duration": 10,
    "start_time": "2022-11-08T04:13:06.887Z"
   },
   {
    "duration": 42,
    "start_time": "2022-11-08T04:13:53.053Z"
   },
   {
    "duration": 705,
    "start_time": "2022-11-08T04:14:34.966Z"
   },
   {
    "duration": 37,
    "start_time": "2022-11-08T04:14:52.061Z"
   },
   {
    "duration": 231,
    "start_time": "2022-11-08T04:15:29.021Z"
   },
   {
    "duration": 207,
    "start_time": "2022-11-08T04:15:52.836Z"
   },
   {
    "duration": 8,
    "start_time": "2022-11-08T04:16:34.044Z"
   },
   {
    "duration": 823,
    "start_time": "2022-11-08T04:16:54.820Z"
   },
   {
    "duration": 94,
    "start_time": "2022-11-08T04:17:54.819Z"
   },
   {
    "duration": 169,
    "start_time": "2022-11-08T04:20:46.850Z"
   },
   {
    "duration": 109,
    "start_time": "2022-11-08T04:21:01.218Z"
   },
   {
    "duration": 103,
    "start_time": "2022-11-08T04:21:12.201Z"
   },
   {
    "duration": 115,
    "start_time": "2022-11-08T04:21:20.057Z"
   },
   {
    "duration": 102,
    "start_time": "2022-11-08T04:21:28.210Z"
   },
   {
    "duration": 112,
    "start_time": "2022-11-08T04:21:56.872Z"
   },
   {
    "duration": 120,
    "start_time": "2022-11-08T04:22:16.953Z"
   },
   {
    "duration": 3,
    "start_time": "2022-11-08T04:22:20.344Z"
   },
   {
    "duration": 102,
    "start_time": "2022-11-08T04:22:36.697Z"
   },
   {
    "duration": 111,
    "start_time": "2022-11-08T04:22:41.048Z"
   },
   {
    "duration": 1080,
    "start_time": "2022-11-08T04:35:25.231Z"
   },
   {
    "duration": 97,
    "start_time": "2022-11-08T04:35:26.312Z"
   },
   {
    "duration": 27,
    "start_time": "2022-11-08T04:35:26.715Z"
   },
   {
    "duration": 1756,
    "start_time": "2022-11-08T04:35:27.891Z"
   },
   {
    "duration": 63,
    "start_time": "2022-11-08T04:35:29.649Z"
   },
   {
    "duration": 9,
    "start_time": "2022-11-08T04:35:30.017Z"
   },
   {
    "duration": 4,
    "start_time": "2022-11-08T04:35:32.962Z"
   },
   {
    "duration": 4,
    "start_time": "2022-11-08T04:35:34.057Z"
   },
   {
    "duration": 13,
    "start_time": "2022-11-08T04:35:34.521Z"
   },
   {
    "duration": 671,
    "start_time": "2022-11-08T04:35:35.297Z"
   },
   {
    "duration": 6,
    "start_time": "2022-11-08T04:35:35.969Z"
   },
   {
    "duration": 23,
    "start_time": "2022-11-08T04:35:38.610Z"
   },
   {
    "duration": 8,
    "start_time": "2022-11-08T04:37:36.864Z"
   },
   {
    "duration": 6,
    "start_time": "2022-11-08T04:37:41.233Z"
   },
   {
    "duration": 5,
    "start_time": "2022-11-08T04:38:19.073Z"
   },
   {
    "duration": 1022,
    "start_time": "2022-11-08T04:38:38.305Z"
   },
   {
    "duration": 5,
    "start_time": "2022-11-08T04:38:43.466Z"
   },
   {
    "duration": 1085,
    "start_time": "2022-11-08T04:38:57.146Z"
   },
   {
    "duration": 103,
    "start_time": "2022-11-08T04:38:58.233Z"
   },
   {
    "duration": 31,
    "start_time": "2022-11-08T04:38:58.438Z"
   },
   {
    "duration": 1800,
    "start_time": "2022-11-08T04:38:59.399Z"
   },
   {
    "duration": 75,
    "start_time": "2022-11-08T04:39:01.201Z"
   },
   {
    "duration": 8,
    "start_time": "2022-11-08T04:39:04.280Z"
   },
   {
    "duration": 5,
    "start_time": "2022-11-08T04:39:07.293Z"
   },
   {
    "duration": 4,
    "start_time": "2022-11-08T04:39:08.366Z"
   },
   {
    "duration": 13,
    "start_time": "2022-11-08T04:39:08.823Z"
   },
   {
    "duration": 603,
    "start_time": "2022-11-08T04:39:09.270Z"
   },
   {
    "duration": 6,
    "start_time": "2022-11-08T04:39:10.646Z"
   },
   {
    "duration": 22,
    "start_time": "2022-11-08T04:39:15.119Z"
   },
   {
    "duration": 9,
    "start_time": "2022-11-08T04:39:17.120Z"
   },
   {
    "duration": 1009,
    "start_time": "2022-11-08T04:39:18.615Z"
   },
   {
    "duration": 6,
    "start_time": "2022-11-08T04:39:43.015Z"
   },
   {
    "duration": 10,
    "start_time": "2022-11-08T04:39:50.182Z"
   },
   {
    "duration": 10,
    "start_time": "2022-11-08T04:39:56.766Z"
   },
   {
    "duration": 6,
    "start_time": "2022-11-08T04:40:08.422Z"
   },
   {
    "duration": 49,
    "start_time": "2022-11-08T04:40:09.294Z"
   },
   {
    "duration": 7,
    "start_time": "2022-11-08T04:40:10.294Z"
   },
   {
    "duration": 5,
    "start_time": "2022-11-08T04:40:10.663Z"
   },
   {
    "duration": 5,
    "start_time": "2022-11-08T04:40:11.437Z"
   },
   {
    "duration": 785,
    "start_time": "2022-11-08T04:40:11.854Z"
   },
   {
    "duration": 818,
    "start_time": "2022-11-08T04:40:12.641Z"
   },
   {
    "duration": 6,
    "start_time": "2022-11-08T04:40:13.461Z"
   },
   {
    "duration": 18,
    "start_time": "2022-11-08T04:40:13.468Z"
   },
   {
    "duration": 5,
    "start_time": "2022-11-08T04:40:14.709Z"
   },
   {
    "duration": 7,
    "start_time": "2022-11-08T04:40:16.237Z"
   },
   {
    "duration": 4,
    "start_time": "2022-11-08T04:40:17.206Z"
   },
   {
    "duration": 10,
    "start_time": "2022-11-08T04:40:18.101Z"
   },
   {
    "duration": 13,
    "start_time": "2022-11-08T04:40:18.526Z"
   },
   {
    "duration": 23,
    "start_time": "2022-11-08T04:40:20.054Z"
   },
   {
    "duration": 30,
    "start_time": "2022-11-08T04:40:21.214Z"
   },
   {
    "duration": 3,
    "start_time": "2022-11-08T04:40:22.390Z"
   },
   {
    "duration": 293,
    "start_time": "2022-11-08T04:40:23.029Z"
   },
   {
    "duration": 23,
    "start_time": "2022-11-08T04:40:23.957Z"
   },
   {
    "duration": 192,
    "start_time": "2022-11-08T04:40:27.069Z"
   },
   {
    "duration": 191,
    "start_time": "2022-11-08T04:40:36.829Z"
   },
   {
    "duration": 166,
    "start_time": "2022-11-08T04:40:38.046Z"
   },
   {
    "duration": 198,
    "start_time": "2022-11-08T04:40:41.686Z"
   },
   {
    "duration": 191,
    "start_time": "2022-11-08T04:40:47.350Z"
   },
   {
    "duration": 344,
    "start_time": "2022-11-08T04:40:51.598Z"
   },
   {
    "duration": 107,
    "start_time": "2022-11-08T04:41:02.925Z"
   },
   {
    "duration": 124,
    "start_time": "2022-11-08T04:41:10.140Z"
   },
   {
    "duration": 190,
    "start_time": "2022-11-08T04:41:49.524Z"
   },
   {
    "duration": 212,
    "start_time": "2022-11-08T04:42:52.252Z"
   },
   {
    "duration": 119,
    "start_time": "2022-11-08T04:43:03.316Z"
   },
   {
    "duration": 197,
    "start_time": "2022-11-08T04:43:09.140Z"
   },
   {
    "duration": 113,
    "start_time": "2022-11-08T04:43:14.566Z"
   },
   {
    "duration": 108,
    "start_time": "2022-11-08T04:43:17.324Z"
   },
   {
    "duration": 99,
    "start_time": "2022-11-08T04:43:23.196Z"
   },
   {
    "duration": 183,
    "start_time": "2022-11-08T04:43:25.564Z"
   },
   {
    "duration": 111,
    "start_time": "2022-11-08T04:43:33.027Z"
   },
   {
    "duration": 111,
    "start_time": "2022-11-08T04:43:40.731Z"
   },
   {
    "duration": 112,
    "start_time": "2022-11-08T04:43:43.491Z"
   },
   {
    "duration": 109,
    "start_time": "2022-11-08T04:43:47.932Z"
   },
   {
    "duration": 110,
    "start_time": "2022-11-08T04:43:50.300Z"
   },
   {
    "duration": 28,
    "start_time": "2022-11-08T04:46:08.010Z"
   },
   {
    "duration": 1160,
    "start_time": "2022-11-08T04:46:43.550Z"
   },
   {
    "duration": 100,
    "start_time": "2022-11-08T04:46:45.094Z"
   },
   {
    "duration": 26,
    "start_time": "2022-11-08T04:46:46.131Z"
   },
   {
    "duration": 1825,
    "start_time": "2022-11-08T04:46:48.538Z"
   },
   {
    "duration": 65,
    "start_time": "2022-11-08T04:46:51.859Z"
   },
   {
    "duration": 9,
    "start_time": "2022-11-08T04:46:52.890Z"
   },
   {
    "duration": 5,
    "start_time": "2022-11-08T04:46:58.506Z"
   },
   {
    "duration": 4,
    "start_time": "2022-11-08T04:47:00.593Z"
   },
   {
    "duration": 23,
    "start_time": "2022-11-08T04:47:01.098Z"
   },
   {
    "duration": 622,
    "start_time": "2022-11-08T04:47:01.626Z"
   },
   {
    "duration": 7,
    "start_time": "2022-11-08T04:47:02.818Z"
   },
   {
    "duration": 23,
    "start_time": "2022-11-08T04:47:04.242Z"
   },
   {
    "duration": 9,
    "start_time": "2022-11-08T04:47:07.345Z"
   },
   {
    "duration": 1013,
    "start_time": "2022-11-08T04:47:10.937Z"
   },
   {
    "duration": 6,
    "start_time": "2022-11-08T04:47:13.538Z"
   },
   {
    "duration": 10,
    "start_time": "2022-11-08T04:47:20.698Z"
   },
   {
    "duration": 10,
    "start_time": "2022-11-08T04:47:27.426Z"
   },
   {
    "duration": 5,
    "start_time": "2022-11-08T04:49:01.696Z"
   },
   {
    "duration": 7,
    "start_time": "2022-11-08T04:49:40.719Z"
   },
   {
    "duration": 5,
    "start_time": "2022-11-08T04:49:47.194Z"
   },
   {
    "duration": 38,
    "start_time": "2022-11-08T04:49:51.913Z"
   },
   {
    "duration": 8,
    "start_time": "2022-11-08T04:50:09.175Z"
   },
   {
    "duration": 5,
    "start_time": "2022-11-08T04:50:12.912Z"
   },
   {
    "duration": 42,
    "start_time": "2022-11-08T04:50:13.696Z"
   },
   {
    "duration": 6,
    "start_time": "2022-11-08T04:50:15.200Z"
   },
   {
    "duration": 5,
    "start_time": "2022-11-08T04:50:15.697Z"
   },
   {
    "duration": 4,
    "start_time": "2022-11-08T04:50:16.992Z"
   },
   {
    "duration": 801,
    "start_time": "2022-11-08T04:50:17.471Z"
   },
   {
    "duration": 763,
    "start_time": "2022-11-08T04:50:18.273Z"
   },
   {
    "duration": 9,
    "start_time": "2022-11-08T04:50:19.039Z"
   },
   {
    "duration": 14,
    "start_time": "2022-11-08T04:50:19.049Z"
   },
   {
    "duration": 5,
    "start_time": "2022-11-08T04:50:20.631Z"
   },
   {
    "duration": 7,
    "start_time": "2022-11-08T04:50:21.647Z"
   },
   {
    "duration": 4,
    "start_time": "2022-11-08T04:50:22.695Z"
   },
   {
    "duration": 9,
    "start_time": "2022-11-08T04:50:23.720Z"
   },
   {
    "duration": 15,
    "start_time": "2022-11-08T04:50:24.471Z"
   },
   {
    "duration": 25,
    "start_time": "2022-11-08T04:50:26.352Z"
   },
   {
    "duration": 29,
    "start_time": "2022-11-08T04:50:28.464Z"
   },
   {
    "duration": 3,
    "start_time": "2022-11-08T04:50:30.280Z"
   },
   {
    "duration": 287,
    "start_time": "2022-11-08T04:50:31.728Z"
   },
   {
    "duration": 24,
    "start_time": "2022-11-08T04:50:33.048Z"
   },
   {
    "duration": 185,
    "start_time": "2022-11-08T04:50:37.103Z"
   },
   {
    "duration": 182,
    "start_time": "2022-11-08T04:50:40.984Z"
   },
   {
    "duration": 161,
    "start_time": "2022-11-08T04:50:42.088Z"
   },
   {
    "duration": 195,
    "start_time": "2022-11-08T04:50:46.808Z"
   },
   {
    "duration": 169,
    "start_time": "2022-11-08T04:50:52.183Z"
   },
   {
    "duration": 190,
    "start_time": "2022-11-08T04:50:59.190Z"
   },
   {
    "duration": 228,
    "start_time": "2022-11-08T04:51:15.376Z"
   },
   {
    "duration": 109,
    "start_time": "2022-11-08T04:51:42.560Z"
   },
   {
    "duration": 192,
    "start_time": "2022-11-08T04:53:22.022Z"
   },
   {
    "duration": 209,
    "start_time": "2022-11-08T04:53:30.526Z"
   },
   {
    "duration": 297,
    "start_time": "2022-11-08T04:53:51.085Z"
   },
   {
    "duration": 231,
    "start_time": "2022-11-08T04:53:55.909Z"
   },
   {
    "duration": 284,
    "start_time": "2022-11-08T04:54:08.686Z"
   },
   {
    "duration": 171,
    "start_time": "2022-11-08T04:54:13.413Z"
   },
   {
    "duration": 204,
    "start_time": "2022-11-08T04:54:23.534Z"
   },
   {
    "duration": 98,
    "start_time": "2022-11-08T04:56:48.101Z"
   },
   {
    "duration": 9,
    "start_time": "2022-11-08T04:57:10.883Z"
   },
   {
    "duration": 5,
    "start_time": "2022-11-08T04:57:30.386Z"
   },
   {
    "duration": 9,
    "start_time": "2022-11-08T04:57:37.370Z"
   },
   {
    "duration": 22,
    "start_time": "2022-11-08T04:57:58.515Z"
   },
   {
    "duration": 28,
    "start_time": "2022-11-08T04:58:05.066Z"
   },
   {
    "duration": 7,
    "start_time": "2022-11-08T04:58:32.011Z"
   },
   {
    "duration": 169,
    "start_time": "2022-11-08T04:58:47.170Z"
   },
   {
    "duration": 180,
    "start_time": "2022-11-08T04:58:55.026Z"
   },
   {
    "duration": 7,
    "start_time": "2022-11-08T04:59:02.219Z"
   },
   {
    "duration": 169,
    "start_time": "2022-11-08T05:06:00.799Z"
   },
   {
    "duration": 161,
    "start_time": "2022-11-08T05:10:32.091Z"
   },
   {
    "duration": 178,
    "start_time": "2022-11-08T05:10:40.258Z"
   },
   {
    "duration": 187,
    "start_time": "2022-11-08T05:10:47.547Z"
   },
   {
    "duration": 177,
    "start_time": "2022-11-08T05:10:50.826Z"
   },
   {
    "duration": 178,
    "start_time": "2022-11-08T05:10:55.427Z"
   },
   {
    "duration": 288,
    "start_time": "2022-11-08T05:11:00.115Z"
   },
   {
    "duration": 190,
    "start_time": "2022-11-08T05:11:03.330Z"
   },
   {
    "duration": 160,
    "start_time": "2022-11-08T05:11:05.803Z"
   },
   {
    "duration": 215,
    "start_time": "2022-11-08T05:11:15.354Z"
   },
   {
    "duration": 203,
    "start_time": "2022-11-08T05:11:34.946Z"
   },
   {
    "duration": 202,
    "start_time": "2022-11-08T05:11:37.897Z"
   },
   {
    "duration": 199,
    "start_time": "2022-11-08T05:19:24.886Z"
   },
   {
    "duration": 291,
    "start_time": "2022-11-08T05:19:33.069Z"
   },
   {
    "duration": 21,
    "start_time": "2022-11-08T05:20:15.070Z"
   },
   {
    "duration": 9,
    "start_time": "2022-11-08T05:20:47.884Z"
   },
   {
    "duration": 900,
    "start_time": "2022-11-08T05:22:20.795Z"
   },
   {
    "duration": 6,
    "start_time": "2022-11-08T05:22:40.499Z"
   },
   {
    "duration": 604,
    "start_time": "2022-11-08T05:25:09.185Z"
   },
   {
    "duration": 9,
    "start_time": "2022-11-08T05:25:42.977Z"
   },
   {
    "duration": 9,
    "start_time": "2022-11-08T05:30:15.981Z"
   },
   {
    "duration": 223,
    "start_time": "2022-11-08T05:30:30.095Z"
   },
   {
    "duration": 22,
    "start_time": "2022-11-08T05:31:18.046Z"
   },
   {
    "duration": 5,
    "start_time": "2022-11-08T05:32:12.757Z"
   },
   {
    "duration": 7,
    "start_time": "2022-11-08T05:33:05.540Z"
   },
   {
    "duration": 218,
    "start_time": "2022-11-08T05:33:06.206Z"
   },
   {
    "duration": 217,
    "start_time": "2022-11-08T05:38:06.545Z"
   },
   {
    "duration": 188,
    "start_time": "2022-11-08T05:38:17.036Z"
   },
   {
    "duration": 196,
    "start_time": "2022-11-08T05:38:20.641Z"
   },
   {
    "duration": 285,
    "start_time": "2022-11-08T05:38:22.640Z"
   },
   {
    "duration": 709,
    "start_time": "2022-11-08T05:47:53.203Z"
   },
   {
    "duration": 15,
    "start_time": "2022-11-08T05:48:17.907Z"
   },
   {
    "duration": 214,
    "start_time": "2022-11-08T05:48:42.938Z"
   },
   {
    "duration": 271,
    "start_time": "2022-11-08T05:49:23.866Z"
   },
   {
    "duration": 278,
    "start_time": "2022-11-08T05:49:29.395Z"
   },
   {
    "duration": 225,
    "start_time": "2022-11-08T05:49:36.338Z"
   },
   {
    "duration": 209,
    "start_time": "2022-11-08T05:51:12.000Z"
   },
   {
    "duration": 196,
    "start_time": "2022-11-08T05:52:37.704Z"
   },
   {
    "duration": 285,
    "start_time": "2022-11-08T05:52:43.208Z"
   },
   {
    "duration": 202,
    "start_time": "2022-11-08T05:52:55.704Z"
   },
   {
    "duration": 196,
    "start_time": "2022-11-08T05:52:58.799Z"
   },
   {
    "duration": 173,
    "start_time": "2022-11-08T05:53:14.768Z"
   },
   {
    "duration": 267,
    "start_time": "2022-11-08T05:53:20.151Z"
   },
   {
    "duration": 246,
    "start_time": "2022-11-08T05:53:57.840Z"
   },
   {
    "duration": 253,
    "start_time": "2022-11-08T05:54:07.126Z"
   },
   {
    "duration": 363,
    "start_time": "2022-11-08T05:54:10.039Z"
   },
   {
    "duration": 264,
    "start_time": "2022-11-08T05:54:13.350Z"
   },
   {
    "duration": 282,
    "start_time": "2022-11-08T06:31:31.125Z"
   },
   {
    "duration": 276,
    "start_time": "2022-11-08T06:31:40.908Z"
   },
   {
    "duration": 271,
    "start_time": "2022-11-08T06:31:49.909Z"
   },
   {
    "duration": 628,
    "start_time": "2022-11-08T06:32:03.573Z"
   },
   {
    "duration": 396,
    "start_time": "2022-11-08T06:32:08.270Z"
   },
   {
    "duration": 277,
    "start_time": "2022-11-08T06:32:12.381Z"
   },
   {
    "duration": 272,
    "start_time": "2022-11-08T06:33:24.908Z"
   },
   {
    "duration": 410,
    "start_time": "2022-11-08T06:33:33.933Z"
   },
   {
    "duration": 8,
    "start_time": "2022-11-08T06:35:09.114Z"
   },
   {
    "duration": 292,
    "start_time": "2022-11-08T06:35:17.643Z"
   },
   {
    "duration": 291,
    "start_time": "2022-11-08T06:35:21.500Z"
   },
   {
    "duration": 872,
    "start_time": "2022-11-08T06:36:53.969Z"
   },
   {
    "duration": 693,
    "start_time": "2022-11-08T06:37:20.179Z"
   },
   {
    "duration": 114,
    "start_time": "2022-11-08T06:37:30.297Z"
   },
   {
    "duration": 104,
    "start_time": "2022-11-08T06:38:43.232Z"
   },
   {
    "duration": 99,
    "start_time": "2022-11-08T06:38:50.760Z"
   },
   {
    "duration": 817,
    "start_time": "2022-11-08T06:38:59.808Z"
   },
   {
    "duration": 13,
    "start_time": "2022-11-08T07:01:30.427Z"
   },
   {
    "duration": 17,
    "start_time": "2022-11-08T07:01:41.826Z"
   },
   {
    "duration": 15,
    "start_time": "2022-11-08T07:05:08.633Z"
   },
   {
    "duration": 4836,
    "start_time": "2022-11-08T08:57:29.609Z"
   },
   {
    "duration": 58,
    "start_time": "2022-11-08T08:59:32.028Z"
   },
   {
    "duration": 6513,
    "start_time": "2022-11-08T08:59:32.901Z"
   },
   {
    "duration": 2889,
    "start_time": "2022-11-08T09:00:12.956Z"
   },
   {
    "duration": 1873,
    "start_time": "2022-11-08T09:00:29.756Z"
   },
   {
    "duration": 2777,
    "start_time": "2022-11-08T09:02:47.395Z"
   },
   {
    "duration": 2610,
    "start_time": "2022-11-08T09:03:59.443Z"
   },
   {
    "duration": 2844,
    "start_time": "2022-11-08T09:04:36.691Z"
   },
   {
    "duration": 17,
    "start_time": "2022-11-08T09:45:51.775Z"
   },
   {
    "duration": 146,
    "start_time": "2022-11-08T10:00:07.390Z"
   },
   {
    "duration": 179,
    "start_time": "2022-11-08T10:00:18.287Z"
   },
   {
    "duration": 158,
    "start_time": "2022-11-08T10:06:28.042Z"
   },
   {
    "duration": 146,
    "start_time": "2022-11-08T10:11:08.350Z"
   },
   {
    "duration": 75,
    "start_time": "2022-11-08T10:22:18.863Z"
   },
   {
    "duration": 134,
    "start_time": "2022-11-08T10:22:22.174Z"
   },
   {
    "duration": 6,
    "start_time": "2022-11-08T10:43:18.080Z"
   },
   {
    "duration": 9,
    "start_time": "2022-11-08T10:44:49.392Z"
   },
   {
    "duration": 13,
    "start_time": "2022-11-08T10:44:53.544Z"
   },
   {
    "duration": 29,
    "start_time": "2022-11-08T10:47:48.822Z"
   },
   {
    "duration": 28,
    "start_time": "2022-11-08T10:48:30.367Z"
   },
   {
    "duration": 26,
    "start_time": "2022-11-08T10:50:06.500Z"
   },
   {
    "duration": 25,
    "start_time": "2022-11-08T10:50:55.133Z"
   },
   {
    "duration": 8,
    "start_time": "2022-11-08T10:55:04.497Z"
   },
   {
    "duration": 611,
    "start_time": "2022-11-08T10:55:44.706Z"
   },
   {
    "duration": 11,
    "start_time": "2022-11-08T10:56:04.217Z"
   },
   {
    "duration": 416,
    "start_time": "2022-11-08T10:56:22.609Z"
   },
   {
    "duration": 12,
    "start_time": "2022-11-08T10:56:40.017Z"
   },
   {
    "duration": 11,
    "start_time": "2022-11-08T10:58:44.074Z"
   },
   {
    "duration": 11,
    "start_time": "2022-11-08T10:58:49.215Z"
   },
   {
    "duration": 13,
    "start_time": "2022-11-08T10:59:15.743Z"
   },
   {
    "duration": 5,
    "start_time": "2022-11-08T11:12:21.910Z"
   },
   {
    "duration": 5,
    "start_time": "2022-11-08T11:12:52.873Z"
   },
   {
    "duration": 49,
    "start_time": "2022-11-08T11:13:14.141Z"
   },
   {
    "duration": 5,
    "start_time": "2022-11-08T11:13:19.329Z"
   },
   {
    "duration": 4,
    "start_time": "2022-11-08T11:13:25.974Z"
   },
   {
    "duration": 9,
    "start_time": "2022-11-08T11:14:12.525Z"
   },
   {
    "duration": 36,
    "start_time": "2022-11-08T11:14:17.893Z"
   },
   {
    "duration": 5,
    "start_time": "2022-11-08T11:14:53.085Z"
   },
   {
    "duration": 4,
    "start_time": "2022-11-08T11:15:22.157Z"
   },
   {
    "duration": 4,
    "start_time": "2022-11-08T11:15:22.804Z"
   },
   {
    "duration": 9,
    "start_time": "2022-11-08T11:15:24.029Z"
   },
   {
    "duration": 46,
    "start_time": "2022-11-08T11:15:25.280Z"
   },
   {
    "duration": 1119,
    "start_time": "2022-11-08T11:16:51.819Z"
   },
   {
    "duration": 113,
    "start_time": "2022-11-08T11:16:52.940Z"
   },
   {
    "duration": 35,
    "start_time": "2022-11-08T11:16:53.055Z"
   },
   {
    "duration": 1896,
    "start_time": "2022-11-08T11:16:53.092Z"
   },
   {
    "duration": 71,
    "start_time": "2022-11-08T11:16:54.990Z"
   },
   {
    "duration": 9,
    "start_time": "2022-11-08T11:16:55.062Z"
   },
   {
    "duration": 9,
    "start_time": "2022-11-08T11:16:55.072Z"
   },
   {
    "duration": 7,
    "start_time": "2022-11-08T11:16:55.083Z"
   },
   {
    "duration": 20,
    "start_time": "2022-11-08T11:16:55.092Z"
   },
   {
    "duration": 722,
    "start_time": "2022-11-08T11:16:55.114Z"
   },
   {
    "duration": 11,
    "start_time": "2022-11-08T11:16:55.838Z"
   },
   {
    "duration": 23,
    "start_time": "2022-11-08T11:16:55.851Z"
   },
   {
    "duration": 10,
    "start_time": "2022-11-08T11:16:55.875Z"
   },
   {
    "duration": 1042,
    "start_time": "2022-11-08T11:16:55.886Z"
   },
   {
    "duration": 5,
    "start_time": "2022-11-08T11:16:56.931Z"
   },
   {
    "duration": 11,
    "start_time": "2022-11-08T11:16:56.948Z"
   },
   {
    "duration": 8,
    "start_time": "2022-11-08T11:16:56.961Z"
   },
   {
    "duration": 7,
    "start_time": "2022-11-08T11:16:56.970Z"
   },
   {
    "duration": 13,
    "start_time": "2022-11-08T11:16:56.978Z"
   },
   {
    "duration": 7,
    "start_time": "2022-11-08T11:16:56.992Z"
   },
   {
    "duration": 67,
    "start_time": "2022-11-08T11:16:57.001Z"
   },
   {
    "duration": 6,
    "start_time": "2022-11-08T11:16:57.070Z"
   },
   {
    "duration": 7,
    "start_time": "2022-11-08T11:16:57.078Z"
   },
   {
    "duration": 7,
    "start_time": "2022-11-08T11:16:57.087Z"
   },
   {
    "duration": 791,
    "start_time": "2022-11-08T11:16:57.095Z"
   },
   {
    "duration": 755,
    "start_time": "2022-11-08T11:16:57.888Z"
   },
   {
    "duration": 5,
    "start_time": "2022-11-08T11:16:58.645Z"
   },
   {
    "duration": 17,
    "start_time": "2022-11-08T11:16:58.654Z"
   },
   {
    "duration": 4,
    "start_time": "2022-11-08T11:16:58.672Z"
   },
   {
    "duration": 7,
    "start_time": "2022-11-08T11:16:58.678Z"
   },
   {
    "duration": 7,
    "start_time": "2022-11-08T11:16:58.686Z"
   },
   {
    "duration": 11,
    "start_time": "2022-11-08T11:16:58.694Z"
   },
   {
    "duration": 13,
    "start_time": "2022-11-08T11:16:58.707Z"
   },
   {
    "duration": 26,
    "start_time": "2022-11-08T11:16:58.747Z"
   },
   {
    "duration": 31,
    "start_time": "2022-11-08T11:16:58.774Z"
   },
   {
    "duration": 4,
    "start_time": "2022-11-08T11:16:58.807Z"
   },
   {
    "duration": 335,
    "start_time": "2022-11-08T11:16:58.813Z"
   },
   {
    "duration": 25,
    "start_time": "2022-11-08T11:16:59.149Z"
   },
   {
    "duration": 218,
    "start_time": "2022-11-08T11:16:59.176Z"
   },
   {
    "duration": 207,
    "start_time": "2022-11-08T11:16:59.395Z"
   },
   {
    "duration": 192,
    "start_time": "2022-11-08T11:16:59.604Z"
   },
   {
    "duration": 229,
    "start_time": "2022-11-08T11:16:59.798Z"
   },
   {
    "duration": 187,
    "start_time": "2022-11-08T11:17:00.030Z"
   },
   {
    "duration": 206,
    "start_time": "2022-11-08T11:17:00.219Z"
   },
   {
    "duration": 248,
    "start_time": "2022-11-08T11:17:00.426Z"
   },
   {
    "duration": 184,
    "start_time": "2022-11-08T11:17:00.676Z"
   },
   {
    "duration": 8,
    "start_time": "2022-11-08T11:17:00.862Z"
   },
   {
    "duration": 196,
    "start_time": "2022-11-08T11:17:00.871Z"
   },
   {
    "duration": 222,
    "start_time": "2022-11-08T11:17:01.068Z"
   },
   {
    "duration": 9,
    "start_time": "2022-11-08T11:17:01.292Z"
   },
   {
    "duration": 29,
    "start_time": "2022-11-08T11:17:01.303Z"
   },
   {
    "duration": 266,
    "start_time": "2022-11-08T11:17:01.334Z"
   },
   {
    "duration": 235,
    "start_time": "2022-11-08T11:17:01.602Z"
   },
   {
    "duration": 20,
    "start_time": "2022-11-08T11:17:01.839Z"
   },
   {
    "duration": 235,
    "start_time": "2022-11-08T11:17:01.861Z"
   },
   {
    "duration": 361,
    "start_time": "2022-11-08T11:17:02.098Z"
   },
   {
    "duration": 7,
    "start_time": "2022-11-08T11:17:02.461Z"
   },
   {
    "duration": 691,
    "start_time": "2022-11-08T11:17:02.470Z"
   },
   {
    "duration": 112,
    "start_time": "2022-11-08T11:17:03.163Z"
   },
   {
    "duration": 21,
    "start_time": "2022-11-08T11:17:03.276Z"
   },
   {
    "duration": 2825,
    "start_time": "2022-11-08T11:17:03.299Z"
   },
   {
    "duration": 1868,
    "start_time": "2022-11-08T11:17:06.126Z"
   },
   {
    "duration": 165,
    "start_time": "2022-11-08T11:17:07.996Z"
   },
   {
    "duration": 155,
    "start_time": "2022-11-08T11:17:08.163Z"
   },
   {
    "duration": 151,
    "start_time": "2022-11-08T11:17:08.319Z"
   },
   {
    "duration": 139,
    "start_time": "2022-11-08T11:17:08.472Z"
   },
   {
    "duration": 37,
    "start_time": "2022-11-08T11:17:08.612Z"
   },
   {
    "duration": 11,
    "start_time": "2022-11-08T11:17:08.650Z"
   },
   {
    "duration": 3,
    "start_time": "2022-11-08T11:17:19.042Z"
   },
   {
    "duration": 5,
    "start_time": "2022-11-08T11:17:20.283Z"
   },
   {
    "duration": 9,
    "start_time": "2022-11-08T11:17:23.114Z"
   },
   {
    "duration": 36,
    "start_time": "2022-11-08T11:17:24.203Z"
   },
   {
    "duration": 144,
    "start_time": "2022-11-08T11:22:14.966Z"
   },
   {
    "duration": 140,
    "start_time": "2022-11-08T11:22:21.631Z"
   },
   {
    "duration": 132,
    "start_time": "2022-11-08T11:23:07.478Z"
   },
   {
    "duration": 1116,
    "start_time": "2022-11-08T13:13:11.383Z"
   },
   {
    "duration": 100,
    "start_time": "2022-11-08T13:13:12.501Z"
   },
   {
    "duration": 27,
    "start_time": "2022-11-08T13:13:12.602Z"
   },
   {
    "duration": 1983,
    "start_time": "2022-11-08T13:13:12.630Z"
   },
   {
    "duration": 89,
    "start_time": "2022-11-08T13:13:14.616Z"
   },
   {
    "duration": 9,
    "start_time": "2022-11-08T13:13:14.706Z"
   },
   {
    "duration": 11,
    "start_time": "2022-11-08T13:13:14.717Z"
   },
   {
    "duration": 8,
    "start_time": "2022-11-08T13:13:14.730Z"
   },
   {
    "duration": 31,
    "start_time": "2022-11-08T13:13:14.739Z"
   },
   {
    "duration": 605,
    "start_time": "2022-11-08T13:13:14.772Z"
   },
   {
    "duration": 7,
    "start_time": "2022-11-08T13:13:15.378Z"
   },
   {
    "duration": 27,
    "start_time": "2022-11-08T13:13:15.387Z"
   },
   {
    "duration": 10,
    "start_time": "2022-11-08T13:13:15.416Z"
   },
   {
    "duration": 1161,
    "start_time": "2022-11-08T13:13:15.430Z"
   },
   {
    "duration": 7,
    "start_time": "2022-11-08T13:13:16.592Z"
   },
   {
    "duration": 15,
    "start_time": "2022-11-08T13:13:16.600Z"
   },
   {
    "duration": 8,
    "start_time": "2022-11-08T13:13:16.616Z"
   },
   {
    "duration": 6,
    "start_time": "2022-11-08T13:13:16.625Z"
   },
   {
    "duration": 10,
    "start_time": "2022-11-08T13:13:16.633Z"
   },
   {
    "duration": 28,
    "start_time": "2022-11-08T13:13:16.645Z"
   },
   {
    "duration": 54,
    "start_time": "2022-11-08T13:13:16.674Z"
   },
   {
    "duration": 6,
    "start_time": "2022-11-08T13:13:16.730Z"
   },
   {
    "duration": 5,
    "start_time": "2022-11-08T13:13:16.738Z"
   },
   {
    "duration": 24,
    "start_time": "2022-11-08T13:13:16.745Z"
   },
   {
    "duration": 760,
    "start_time": "2022-11-08T13:13:16.771Z"
   },
   {
    "duration": 758,
    "start_time": "2022-11-08T13:13:17.533Z"
   },
   {
    "duration": 5,
    "start_time": "2022-11-08T13:13:18.292Z"
   },
   {
    "duration": 15,
    "start_time": "2022-11-08T13:13:18.299Z"
   },
   {
    "duration": 5,
    "start_time": "2022-11-08T13:13:18.316Z"
   },
   {
    "duration": 20,
    "start_time": "2022-11-08T13:13:18.323Z"
   },
   {
    "duration": 4,
    "start_time": "2022-11-08T13:13:18.344Z"
   },
   {
    "duration": 27,
    "start_time": "2022-11-08T13:13:18.349Z"
   },
   {
    "duration": 14,
    "start_time": "2022-11-08T13:13:18.377Z"
   },
   {
    "duration": 26,
    "start_time": "2022-11-08T13:13:18.392Z"
   },
   {
    "duration": 51,
    "start_time": "2022-11-08T13:13:18.419Z"
   },
   {
    "duration": 4,
    "start_time": "2022-11-08T13:13:18.472Z"
   },
   {
    "duration": 364,
    "start_time": "2022-11-08T13:13:18.477Z"
   },
   {
    "duration": 36,
    "start_time": "2022-11-08T13:13:18.843Z"
   },
   {
    "duration": 230,
    "start_time": "2022-11-08T13:13:18.880Z"
   },
   {
    "duration": 214,
    "start_time": "2022-11-08T13:13:19.112Z"
   },
   {
    "duration": 200,
    "start_time": "2022-11-08T13:13:19.330Z"
   },
   {
    "duration": 217,
    "start_time": "2022-11-08T13:13:19.531Z"
   },
   {
    "duration": 212,
    "start_time": "2022-11-08T13:13:19.750Z"
   },
   {
    "duration": 227,
    "start_time": "2022-11-08T13:13:19.963Z"
   },
   {
    "duration": 258,
    "start_time": "2022-11-08T13:13:20.192Z"
   },
   {
    "duration": 204,
    "start_time": "2022-11-08T13:13:20.452Z"
   },
   {
    "duration": 16,
    "start_time": "2022-11-08T13:13:20.657Z"
   },
   {
    "duration": 195,
    "start_time": "2022-11-08T13:13:20.675Z"
   },
   {
    "duration": 244,
    "start_time": "2022-11-08T13:13:20.871Z"
   },
   {
    "duration": 7,
    "start_time": "2022-11-08T13:13:21.117Z"
   },
   {
    "duration": 13,
    "start_time": "2022-11-08T13:13:21.126Z"
   },
   {
    "duration": 239,
    "start_time": "2022-11-08T13:13:21.140Z"
   },
   {
    "duration": 230,
    "start_time": "2022-11-08T13:13:21.381Z"
   },
   {
    "duration": 13,
    "start_time": "2022-11-08T13:13:21.613Z"
   },
   {
    "duration": 248,
    "start_time": "2022-11-08T13:13:21.627Z"
   },
   {
    "duration": 369,
    "start_time": "2022-11-08T13:13:21.876Z"
   },
   {
    "duration": 7,
    "start_time": "2022-11-08T13:13:22.247Z"
   },
   {
    "duration": 832,
    "start_time": "2022-11-08T13:13:22.255Z"
   },
   {
    "duration": 131,
    "start_time": "2022-11-08T13:13:23.089Z"
   },
   {
    "duration": 26,
    "start_time": "2022-11-08T13:13:23.221Z"
   },
   {
    "duration": 3099,
    "start_time": "2022-11-08T13:13:23.249Z"
   },
   {
    "duration": 2094,
    "start_time": "2022-11-08T13:13:26.350Z"
   },
   {
    "duration": 202,
    "start_time": "2022-11-08T13:13:28.446Z"
   },
   {
    "duration": 175,
    "start_time": "2022-11-08T13:13:28.650Z"
   },
   {
    "duration": 182,
    "start_time": "2022-11-08T13:13:28.827Z"
   },
   {
    "duration": 154,
    "start_time": "2022-11-08T13:13:29.011Z"
   },
   {
    "duration": 30,
    "start_time": "2022-11-08T13:13:29.169Z"
   },
   {
    "duration": 13,
    "start_time": "2022-11-08T13:13:29.201Z"
   },
   {
    "duration": 5,
    "start_time": "2022-11-08T13:13:29.216Z"
   },
   {
    "duration": 184,
    "start_time": "2022-11-08T13:13:29.222Z"
   },
   {
    "duration": 169,
    "start_time": "2022-11-08T13:25:08.804Z"
   },
   {
    "duration": 2,
    "start_time": "2022-11-08T13:51:40.312Z"
   },
   {
    "duration": 1101,
    "start_time": "2022-11-08T13:51:50.960Z"
   },
   {
    "duration": 107,
    "start_time": "2022-11-08T13:51:53.576Z"
   },
   {
    "duration": 27,
    "start_time": "2022-11-08T13:51:54.839Z"
   },
   {
    "duration": 1982,
    "start_time": "2022-11-08T13:51:55.737Z"
   },
   {
    "duration": 78,
    "start_time": "2022-11-08T13:52:00.055Z"
   },
   {
    "duration": 10,
    "start_time": "2022-11-08T13:52:01.247Z"
   },
   {
    "duration": 94,
    "start_time": "2022-11-08T13:52:22.453Z"
   },
   {
    "duration": 49,
    "start_time": "2022-11-08T13:52:31.094Z"
   },
   {
    "duration": 5,
    "start_time": "2022-11-08T13:52:55.046Z"
   },
   {
    "duration": 4,
    "start_time": "2022-11-08T13:52:56.902Z"
   },
   {
    "duration": 12,
    "start_time": "2022-11-08T13:52:58.093Z"
   },
   {
    "duration": 608,
    "start_time": "2022-11-08T13:52:58.598Z"
   },
   {
    "duration": 6,
    "start_time": "2022-11-08T13:53:00.902Z"
   },
   {
    "duration": 24,
    "start_time": "2022-11-08T13:53:01.878Z"
   },
   {
    "duration": 11,
    "start_time": "2022-11-08T13:53:03.684Z"
   },
   {
    "duration": 1032,
    "start_time": "2022-11-08T13:53:04.454Z"
   },
   {
    "duration": 6,
    "start_time": "2022-11-08T13:53:08.141Z"
   },
   {
    "duration": 9,
    "start_time": "2022-11-08T13:53:09.917Z"
   },
   {
    "duration": 7,
    "start_time": "2022-11-08T13:53:10.526Z"
   },
   {
    "duration": 6,
    "start_time": "2022-11-08T13:53:19.900Z"
   },
   {
    "duration": 7,
    "start_time": "2022-11-08T13:53:21.150Z"
   },
   {
    "duration": 6,
    "start_time": "2022-11-08T13:53:22.717Z"
   },
   {
    "duration": 59,
    "start_time": "2022-11-08T13:53:24.981Z"
   },
   {
    "duration": 6,
    "start_time": "2022-11-08T13:57:46.366Z"
   },
   {
    "duration": 5,
    "start_time": "2022-11-08T13:57:47.275Z"
   },
   {
    "duration": 5,
    "start_time": "2022-11-08T13:57:48.802Z"
   },
   {
    "duration": 783,
    "start_time": "2022-11-08T13:57:49.547Z"
   },
   {
    "duration": 739,
    "start_time": "2022-11-08T13:57:50.331Z"
   },
   {
    "duration": 4,
    "start_time": "2022-11-08T13:57:51.072Z"
   },
   {
    "duration": 13,
    "start_time": "2022-11-08T13:57:51.363Z"
   },
   {
    "duration": 5,
    "start_time": "2022-11-08T13:57:53.489Z"
   },
   {
    "duration": 6,
    "start_time": "2022-11-08T13:57:54.818Z"
   },
   {
    "duration": 3,
    "start_time": "2022-11-08T13:57:55.937Z"
   },
   {
    "duration": 1010,
    "start_time": "2022-11-08T13:57:57.874Z"
   },
   {
    "duration": 14,
    "start_time": "2022-11-08T13:58:06.386Z"
   },
   {
    "duration": 11,
    "start_time": "2022-11-08T13:58:20.160Z"
   },
   {
    "duration": 8,
    "start_time": "2022-11-08T13:58:28.857Z"
   },
   {
    "duration": 18,
    "start_time": "2022-11-08T13:58:46.209Z"
   },
   {
    "duration": 25,
    "start_time": "2022-11-08T14:02:18.288Z"
   },
   {
    "duration": 30,
    "start_time": "2022-11-08T14:02:20.383Z"
   },
   {
    "duration": 928,
    "start_time": "2022-11-08T14:13:15.527Z"
   },
   {
    "duration": 718,
    "start_time": "2022-11-08T14:13:26.329Z"
   },
   {
    "duration": 24,
    "start_time": "2022-11-08T14:13:40.002Z"
   },
   {
    "duration": 28,
    "start_time": "2022-11-08T14:13:41.440Z"
   },
   {
    "duration": 3,
    "start_time": "2022-11-08T14:13:43.369Z"
   },
   {
    "duration": 316,
    "start_time": "2022-11-08T14:13:43.937Z"
   },
   {
    "duration": 29,
    "start_time": "2022-11-08T14:13:45.232Z"
   },
   {
    "duration": 204,
    "start_time": "2022-11-08T14:13:47.441Z"
   },
   {
    "duration": 209,
    "start_time": "2022-11-08T14:13:50.199Z"
   },
   {
    "duration": 170,
    "start_time": "2022-11-08T14:13:51.176Z"
   },
   {
    "duration": 187,
    "start_time": "2022-11-08T14:13:53.488Z"
   },
   {
    "duration": 275,
    "start_time": "2022-11-08T14:13:56.129Z"
   },
   {
    "duration": 181,
    "start_time": "2022-11-08T14:13:58.712Z"
   },
   {
    "duration": 118,
    "start_time": "2022-11-08T14:13:59.584Z"
   },
   {
    "duration": 171,
    "start_time": "2022-11-08T14:14:04.464Z"
   },
   {
    "duration": 8,
    "start_time": "2022-11-08T14:14:06.264Z"
   },
   {
    "duration": 16,
    "start_time": "2022-11-08T14:14:07.944Z"
   },
   {
    "duration": 9,
    "start_time": "2022-11-08T14:14:25.417Z"
   },
   {
    "duration": 6,
    "start_time": "2022-11-08T14:14:52.702Z"
   },
   {
    "duration": 5,
    "start_time": "2022-11-08T14:14:57.176Z"
   },
   {
    "duration": 146,
    "start_time": "2022-11-08T14:15:04.534Z"
   },
   {
    "duration": 279,
    "start_time": "2022-11-08T14:15:24.680Z"
   },
   {
    "duration": 900,
    "start_time": "2022-11-08T14:15:55.550Z"
   },
   {
    "duration": 769,
    "start_time": "2022-11-08T14:16:13.206Z"
   },
   {
    "duration": 141,
    "start_time": "2022-11-08T14:16:24.110Z"
   },
   {
    "duration": 135,
    "start_time": "2022-11-08T14:16:36.270Z"
   },
   {
    "duration": 133,
    "start_time": "2022-11-08T14:16:38.884Z"
   },
   {
    "duration": 708,
    "start_time": "2022-11-08T14:16:45.466Z"
   },
   {
    "duration": 8,
    "start_time": "2022-11-08T14:17:00.894Z"
   },
   {
    "duration": 13,
    "start_time": "2022-11-08T14:17:18.790Z"
   },
   {
    "duration": 18,
    "start_time": "2022-11-08T14:19:41.708Z"
   },
   {
    "duration": 114,
    "start_time": "2022-11-08T14:21:08.627Z"
   },
   {
    "duration": 133,
    "start_time": "2022-11-08T14:22:01.099Z"
   },
   {
    "duration": 113,
    "start_time": "2022-11-08T14:22:12.306Z"
   },
   {
    "duration": 138,
    "start_time": "2022-11-08T14:23:39.930Z"
   },
   {
    "duration": 31,
    "start_time": "2022-11-08T14:24:53.729Z"
   },
   {
    "duration": 53,
    "start_time": "2022-11-08T14:26:06.359Z"
   },
   {
    "duration": 76,
    "start_time": "2022-11-08T14:26:09.459Z"
   },
   {
    "duration": 27,
    "start_time": "2022-11-08T14:26:24.784Z"
   },
   {
    "duration": 253,
    "start_time": "2022-11-08T14:28:37.609Z"
   },
   {
    "duration": 255,
    "start_time": "2022-11-08T14:29:00.015Z"
   },
   {
    "duration": 213,
    "start_time": "2022-11-08T14:29:25.973Z"
   },
   {
    "duration": 205,
    "start_time": "2022-11-08T14:29:33.941Z"
   },
   {
    "duration": 227,
    "start_time": "2022-11-08T14:29:56.535Z"
   },
   {
    "duration": 256,
    "start_time": "2022-11-08T14:30:00.141Z"
   },
   {
    "duration": 302,
    "start_time": "2022-11-08T14:30:08.197Z"
   },
   {
    "duration": 153,
    "start_time": "2022-11-08T14:30:20.159Z"
   },
   {
    "duration": 276,
    "start_time": "2022-11-08T14:31:10.604Z"
   },
   {
    "duration": 1096,
    "start_time": "2022-11-08T15:55:28.816Z"
   },
   {
    "duration": 99,
    "start_time": "2022-11-08T15:55:29.914Z"
   },
   {
    "duration": 29,
    "start_time": "2022-11-08T15:55:30.014Z"
   },
   {
    "duration": 1923,
    "start_time": "2022-11-08T15:55:30.045Z"
   },
   {
    "duration": 69,
    "start_time": "2022-11-08T15:55:31.970Z"
   },
   {
    "duration": 62,
    "start_time": "2022-11-08T15:55:32.040Z"
   },
   {
    "duration": 5,
    "start_time": "2022-11-08T15:55:32.103Z"
   },
   {
    "duration": 7,
    "start_time": "2022-11-08T15:55:32.109Z"
   },
   {
    "duration": 20,
    "start_time": "2022-11-08T15:55:32.118Z"
   },
   {
    "duration": 631,
    "start_time": "2022-11-08T15:55:32.141Z"
   },
   {
    "duration": 5,
    "start_time": "2022-11-08T15:55:32.774Z"
   },
   {
    "duration": 43,
    "start_time": "2022-11-08T15:55:32.781Z"
   },
   {
    "duration": 15,
    "start_time": "2022-11-08T15:55:32.826Z"
   },
   {
    "duration": 979,
    "start_time": "2022-11-08T15:55:32.843Z"
   },
   {
    "duration": 6,
    "start_time": "2022-11-08T15:55:33.823Z"
   },
   {
    "duration": 11,
    "start_time": "2022-11-08T15:55:33.830Z"
   },
   {
    "duration": 8,
    "start_time": "2022-11-08T15:55:33.842Z"
   },
   {
    "duration": 5,
    "start_time": "2022-11-08T15:55:33.868Z"
   },
   {
    "duration": 10,
    "start_time": "2022-11-08T15:55:33.874Z"
   },
   {
    "duration": 8,
    "start_time": "2022-11-08T15:55:33.885Z"
   },
   {
    "duration": 48,
    "start_time": "2022-11-08T15:55:33.894Z"
   },
   {
    "duration": 26,
    "start_time": "2022-11-08T15:55:33.944Z"
   },
   {
    "duration": 5,
    "start_time": "2022-11-08T15:55:33.972Z"
   },
   {
    "duration": 11,
    "start_time": "2022-11-08T15:55:33.978Z"
   },
   {
    "duration": 781,
    "start_time": "2022-11-08T15:55:33.990Z"
   },
   {
    "duration": 754,
    "start_time": "2022-11-08T15:55:34.773Z"
   },
   {
    "duration": 6,
    "start_time": "2022-11-08T15:55:35.528Z"
   },
   {
    "duration": 30,
    "start_time": "2022-11-08T15:55:35.539Z"
   },
   {
    "duration": 6,
    "start_time": "2022-11-08T15:55:35.571Z"
   },
   {
    "duration": 9,
    "start_time": "2022-11-08T15:55:35.578Z"
   },
   {
    "duration": 4,
    "start_time": "2022-11-08T15:55:35.589Z"
   },
   {
    "duration": 14,
    "start_time": "2022-11-08T15:55:35.595Z"
   },
   {
    "duration": 20,
    "start_time": "2022-11-08T15:55:35.610Z"
   },
   {
    "duration": 59,
    "start_time": "2022-11-08T15:55:35.632Z"
   },
   {
    "duration": 31,
    "start_time": "2022-11-08T15:55:35.693Z"
   },
   {
    "duration": 3,
    "start_time": "2022-11-08T15:55:35.726Z"
   },
   {
    "duration": 373,
    "start_time": "2022-11-08T15:55:35.731Z"
   },
   {
    "duration": 30,
    "start_time": "2022-11-08T15:55:36.107Z"
   },
   {
    "duration": 262,
    "start_time": "2022-11-08T15:55:36.140Z"
   },
   {
    "duration": 228,
    "start_time": "2022-11-08T15:55:36.404Z"
   },
   {
    "duration": 203,
    "start_time": "2022-11-08T15:55:36.634Z"
   },
   {
    "duration": 231,
    "start_time": "2022-11-08T15:55:36.839Z"
   },
   {
    "duration": 216,
    "start_time": "2022-11-08T15:55:37.072Z"
   },
   {
    "duration": 382,
    "start_time": "2022-11-08T15:55:37.290Z"
   },
   {
    "duration": 141,
    "start_time": "2022-11-08T15:55:37.674Z"
   },
   {
    "duration": 225,
    "start_time": "2022-11-08T15:55:37.817Z"
   },
   {
    "duration": 136,
    "start_time": "2022-11-08T15:55:38.043Z"
   },
   {
    "duration": 197,
    "start_time": "2022-11-08T15:55:38.180Z"
   },
   {
    "duration": 253,
    "start_time": "2022-11-08T15:55:38.378Z"
   },
   {
    "duration": 8,
    "start_time": "2022-11-08T15:55:38.633Z"
   },
   {
    "duration": 25,
    "start_time": "2022-11-08T15:55:38.643Z"
   },
   {
    "duration": 256,
    "start_time": "2022-11-08T15:55:38.669Z"
   },
   {
    "duration": 241,
    "start_time": "2022-11-08T15:55:38.927Z"
   },
   {
    "duration": 14,
    "start_time": "2022-11-08T15:55:39.169Z"
   },
   {
    "duration": 255,
    "start_time": "2022-11-08T15:55:39.184Z"
   },
   {
    "duration": 408,
    "start_time": "2022-11-08T15:55:39.441Z"
   },
   {
    "duration": 17,
    "start_time": "2022-11-08T15:55:39.851Z"
   },
   {
    "duration": 819,
    "start_time": "2022-11-08T15:55:39.870Z"
   },
   {
    "duration": 128,
    "start_time": "2022-11-08T15:55:40.691Z"
   },
   {
    "duration": 26,
    "start_time": "2022-11-08T15:55:40.821Z"
   },
   {
    "duration": 2998,
    "start_time": "2022-11-08T15:55:40.849Z"
   },
   {
    "duration": 2133,
    "start_time": "2022-11-08T15:55:43.849Z"
   },
   {
    "duration": 228,
    "start_time": "2022-11-08T15:55:45.984Z"
   },
   {
    "duration": 226,
    "start_time": "2022-11-08T15:55:46.213Z"
   },
   {
    "duration": 175,
    "start_time": "2022-11-08T15:55:46.441Z"
   },
   {
    "duration": 174,
    "start_time": "2022-11-08T15:55:46.618Z"
   },
   {
    "duration": 156,
    "start_time": "2022-11-08T15:55:46.794Z"
   },
   {
    "duration": 37,
    "start_time": "2022-11-08T15:55:46.952Z"
   },
   {
    "duration": 12,
    "start_time": "2022-11-08T15:55:46.992Z"
   },
   {
    "duration": 8,
    "start_time": "2022-11-08T15:55:47.005Z"
   },
   {
    "duration": 178,
    "start_time": "2022-11-08T15:55:47.015Z"
   }
  ],
  "kernelspec": {
   "display_name": "Python 3 (ipykernel)",
   "language": "python",
   "name": "python3"
  },
  "language_info": {
   "codemirror_mode": {
    "name": "ipython",
    "version": 3
   },
   "file_extension": ".py",
   "mimetype": "text/x-python",
   "name": "python",
   "nbconvert_exporter": "python",
   "pygments_lexer": "ipython3",
   "version": "3.9.12"
  },
  "toc": {
   "base_numbering": 1,
   "nav_menu": {},
   "number_sections": true,
   "sideBar": true,
   "skip_h1_title": true,
   "title_cell": "Table of Contents",
   "title_sidebar": "Contents",
   "toc_cell": false,
   "toc_position": {
    "height": "calc(100% - 180px)",
    "left": "10px",
    "top": "150px",
    "width": "165px"
   },
   "toc_section_display": true,
   "toc_window_display": true
  }
 },
 "nbformat": 4,
 "nbformat_minor": 2
}
